{
  "nbformat": 4,
  "nbformat_minor": 0,
  "metadata": {
    "kernelspec": {
      "display_name": "Python 3",
      "language": "python",
      "name": "python3"
    },
    "language_info": {
      "codemirror_mode": {
        "name": "ipython",
        "version": 3
      },
      "file_extension": ".py",
      "mimetype": "text/x-python",
      "name": "python",
      "nbconvert_exporter": "python",
      "pygments_lexer": "ipython3",
      "version": "3.7.3"
    },
    "colab": {
      "name": "zh_zhang_MidtermProject.ipynb",
      "provenance": [],
      "collapsed_sections": [
        "-l--qC8cehUV"
      ]
    }
  },
  "cells": [
    {
      "cell_type": "markdown",
      "metadata": {
        "id": "feqO0gY0ehSJ",
        "colab_type": "text"
      },
      "source": [
        "# DAV 5300 Midterm Project-- How we rate the wine"
      ]
    },
    {
      "cell_type": "markdown",
      "metadata": {
        "id": "ycGD0-b5ehSM",
        "colab_type": "text"
      },
      "source": [
        "##### By Zhihong Zhang\n"
      ]
    },
    {
      "cell_type": "markdown",
      "metadata": {
        "id": "dgPxed_8ehSO",
        "colab_type": "text"
      },
      "source": [
        "## Introduction## \n",
        "\n",
        "Wine is an alcoholic drink typically made from fermented grapes. \n",
        "Among alcohol, red wine is one of the most popular one.\n",
        "\n",
        "Based on one of the recent statistics, The United States produced over 800 million gallons of wine in 2016, nearly 12 percent of the global wine production volume. My personal interest is that whether we can use certain quantative analysis to predict whether wine is good or not. As a result,  this research will focus on the red wine especially . Ideally, this research can create a suitable model via patterns found in the red wine data and the model can be generalized into predicting other wine quality.\n"
      ]
    },
    {
      "cell_type": "markdown",
      "metadata": {
        "id": "tBYk3SluehSP",
        "colab_type": "text"
      },
      "source": [
        "## Research Questions ##\n",
        "\n",
        "The main question I have for this research will be the correlation between different variables within wine quality. For example, can acidity of the red wine impact the quality of the wine? or is higher alcohol ratio guarantee it is a better wine. Other questions raised will also be based on this main question, and the focus is to find the main factors affecting wine quality.\n",
        "\n",
        "After finding the pattern of the data set, I would like to validate the the model by using other data derived by my later texting mining process for beyond this class requirement( if I had extra time for this assignment).\n",
        "\n",
        "I believe the model can be used to test the wine quality by its quantitive values. "
      ]
    },
    {
      "cell_type": "markdown",
      "metadata": {
        "id": "Zj-x4o9rehSR",
        "colab_type": "text"
      },
      "source": [
        "## Data to be Used ##\n",
        "The initial data set that was used for this research comes from the  UCI repository https://archive.ics.uci.edu/ml/machine-learning-databases/wine-quality/. The data set is a csv format file which can be easily loaded into Python by utilizing the pandas package.  This data set addresses some wine information, and it is used to generate the observable pattern and visualizations. \n"
      ]
    },
    {
      "cell_type": "markdown",
      "metadata": {
        "id": "qGIF33t_ehSS",
        "colab_type": "text"
      },
      "source": [
        "## Approach##\n",
        "The data set can be stored in a data frame by using built-in read csv function. For this data set, I plan to generate descriptive statistics for the exploratory data analysis. For example, I will generate bar charts to compare the difference between variables and quality wine. Also, multi-correlation will be checked between data attributes. After a series of procedures, I will use the regression method to create a generalized model. During this part of visualization, I plan to use seaborns and stats package.\n",
        "After analyzing the pattern of the initial data set, there will be a check to determine whether or not it is a general pattern of the wine quality.  \n",
        "\n",
        "During the validation process of data source,  if the prediction performs better than a random guess of the quality( based on the sample size distribution), it is considered to be valid."
      ]
    },
    {
      "cell_type": "markdown",
      "metadata": {
        "id": "6hAukZ4HehST",
        "colab_type": "text"
      },
      "source": [
        "## Part 1 Data Acquisition: ##"
      ]
    },
    {
      "cell_type": "code",
      "metadata": {
        "id": "K--_d39FehSV",
        "colab_type": "code",
        "outputId": "ffab6ea3-2232-4106-b9eb-cf5bd7f9daab",
        "colab": {
          "base_uri": "https://localhost:8080/",
          "height": 204
        }
      },
      "source": [
        "#starting point:import the library and data set\n",
        "import numpy as np\n",
        "import pandas as pd\n",
        "import seaborn as sns\n",
        "import matplotlib.pyplot as plt\n",
        "import spacy\n",
        "#reads data from the original source, since first row is column name,also add header. \n",
        "wine = pd.read_csv(\"https://raw.githubusercontent.com/steinszzh/DAV5300/master/Midterm/winequality-red.csv\", header = None)\n",
        "\n",
        "# data set check - make sure data was read in as expected\n",
        "wine.head() "
      ],
      "execution_count": 160,
      "outputs": [
        {
          "output_type": "execute_result",
          "data": {
            "text/html": [
              "<div>\n",
              "<style scoped>\n",
              "    .dataframe tbody tr th:only-of-type {\n",
              "        vertical-align: middle;\n",
              "    }\n",
              "\n",
              "    .dataframe tbody tr th {\n",
              "        vertical-align: top;\n",
              "    }\n",
              "\n",
              "    .dataframe thead th {\n",
              "        text-align: right;\n",
              "    }\n",
              "</style>\n",
              "<table border=\"1\" class=\"dataframe\">\n",
              "  <thead>\n",
              "    <tr style=\"text-align: right;\">\n",
              "      <th></th>\n",
              "      <th>0</th>\n",
              "    </tr>\n",
              "  </thead>\n",
              "  <tbody>\n",
              "    <tr>\n",
              "      <th>0</th>\n",
              "      <td>fixed acidity;volatile acidity;citric acid;res...</td>\n",
              "    </tr>\n",
              "    <tr>\n",
              "      <th>1</th>\n",
              "      <td>7.4;0.7;0;1.9;0.076;11;34;0.9978;3.51;0.56;9.4;5</td>\n",
              "    </tr>\n",
              "    <tr>\n",
              "      <th>2</th>\n",
              "      <td>7.8;0.88;0;2.6;0.098;25;67;0.9968;3.2;0.68;9.8;5</td>\n",
              "    </tr>\n",
              "    <tr>\n",
              "      <th>3</th>\n",
              "      <td>7.8;0.76;0.04;2.3;0.092;15;54;0.997;3.26;0.65;...</td>\n",
              "    </tr>\n",
              "    <tr>\n",
              "      <th>4</th>\n",
              "      <td>11.2;0.28;0.56;1.9;0.075;17;60;0.998;3.16;0.58...</td>\n",
              "    </tr>\n",
              "  </tbody>\n",
              "</table>\n",
              "</div>"
            ],
            "text/plain": [
              "                                                   0\n",
              "0  fixed acidity;volatile acidity;citric acid;res...\n",
              "1   7.4;0.7;0;1.9;0.076;11;34;0.9978;3.51;0.56;9.4;5\n",
              "2   7.8;0.88;0;2.6;0.098;25;67;0.9968;3.2;0.68;9.8;5\n",
              "3  7.8;0.76;0.04;2.3;0.092;15;54;0.997;3.26;0.65;...\n",
              "4  11.2;0.28;0.56;1.9;0.075;17;60;0.998;3.16;0.58..."
            ]
          },
          "metadata": {
            "tags": []
          },
          "execution_count": 160
        }
      ]
    },
    {
      "cell_type": "code",
      "metadata": {
        "id": "-hcjettkehSb",
        "colab_type": "code",
        "outputId": "f9f9312a-bfa8-477d-c3e4-d7e2e55af4d1",
        "colab": {
          "base_uri": "https://localhost:8080/",
          "height": 269
        }
      },
      "source": [
        "wine.info "
      ],
      "execution_count": 161,
      "outputs": [
        {
          "output_type": "execute_result",
          "data": {
            "text/plain": [
              "<bound method DataFrame.info of                                                       0\n",
              "0     fixed acidity;volatile acidity;citric acid;res...\n",
              "1      7.4;0.7;0;1.9;0.076;11;34;0.9978;3.51;0.56;9.4;5\n",
              "2      7.8;0.88;0;2.6;0.098;25;67;0.9968;3.2;0.68;9.8;5\n",
              "3     7.8;0.76;0.04;2.3;0.092;15;54;0.997;3.26;0.65;...\n",
              "4     11.2;0.28;0.56;1.9;0.075;17;60;0.998;3.16;0.58...\n",
              "...                                                 ...\n",
              "1595  6.2;0.6;0.08;2;0.09;32;44;0.9949;3.45;0.58;10.5;5\n",
              "1596  5.9;0.55;0.1;2.2;0.062;39;51;0.99512;3.52;0.76...\n",
              "1597  6.3;0.51;0.13;2.3;0.076;29;40;0.99574;3.42;0.7...\n",
              "1598  5.9;0.645;0.12;2;0.075;32;44;0.99547;3.57;0.71...\n",
              "1599  6;0.31;0.47;3.6;0.067;18;42;0.99549;3.39;0.66;...\n",
              "\n",
              "[1600 rows x 1 columns]>"
            ]
          },
          "metadata": {
            "tags": []
          },
          "execution_count": 161
        }
      ]
    },
    {
      "cell_type": "markdown",
      "metadata": {
        "id": "eZrIlNG5ehSh",
        "colab_type": "text"
      },
      "source": [
        "Check the whole data set, we can find out that all data is in one column. To continue, we need to clear up the data first."
      ]
    },
    {
      "cell_type": "code",
      "metadata": {
        "id": "ErIT9uokehSi",
        "colab_type": "code",
        "outputId": "8b61362e-ae73-45e6-d242-09665f408c55",
        "colab": {
          "base_uri": "https://localhost:8080/",
          "height": 419
        }
      },
      "source": [
        "#name column first \n",
        "wine.columns = ['Mixed']\n",
        "wine"
      ],
      "execution_count": 162,
      "outputs": [
        {
          "output_type": "execute_result",
          "data": {
            "text/html": [
              "<div>\n",
              "<style scoped>\n",
              "    .dataframe tbody tr th:only-of-type {\n",
              "        vertical-align: middle;\n",
              "    }\n",
              "\n",
              "    .dataframe tbody tr th {\n",
              "        vertical-align: top;\n",
              "    }\n",
              "\n",
              "    .dataframe thead th {\n",
              "        text-align: right;\n",
              "    }\n",
              "</style>\n",
              "<table border=\"1\" class=\"dataframe\">\n",
              "  <thead>\n",
              "    <tr style=\"text-align: right;\">\n",
              "      <th></th>\n",
              "      <th>Mixed</th>\n",
              "    </tr>\n",
              "  </thead>\n",
              "  <tbody>\n",
              "    <tr>\n",
              "      <th>0</th>\n",
              "      <td>fixed acidity;volatile acidity;citric acid;res...</td>\n",
              "    </tr>\n",
              "    <tr>\n",
              "      <th>1</th>\n",
              "      <td>7.4;0.7;0;1.9;0.076;11;34;0.9978;3.51;0.56;9.4;5</td>\n",
              "    </tr>\n",
              "    <tr>\n",
              "      <th>2</th>\n",
              "      <td>7.8;0.88;0;2.6;0.098;25;67;0.9968;3.2;0.68;9.8;5</td>\n",
              "    </tr>\n",
              "    <tr>\n",
              "      <th>3</th>\n",
              "      <td>7.8;0.76;0.04;2.3;0.092;15;54;0.997;3.26;0.65;...</td>\n",
              "    </tr>\n",
              "    <tr>\n",
              "      <th>4</th>\n",
              "      <td>11.2;0.28;0.56;1.9;0.075;17;60;0.998;3.16;0.58...</td>\n",
              "    </tr>\n",
              "    <tr>\n",
              "      <th>...</th>\n",
              "      <td>...</td>\n",
              "    </tr>\n",
              "    <tr>\n",
              "      <th>1595</th>\n",
              "      <td>6.2;0.6;0.08;2;0.09;32;44;0.9949;3.45;0.58;10.5;5</td>\n",
              "    </tr>\n",
              "    <tr>\n",
              "      <th>1596</th>\n",
              "      <td>5.9;0.55;0.1;2.2;0.062;39;51;0.99512;3.52;0.76...</td>\n",
              "    </tr>\n",
              "    <tr>\n",
              "      <th>1597</th>\n",
              "      <td>6.3;0.51;0.13;2.3;0.076;29;40;0.99574;3.42;0.7...</td>\n",
              "    </tr>\n",
              "    <tr>\n",
              "      <th>1598</th>\n",
              "      <td>5.9;0.645;0.12;2;0.075;32;44;0.99547;3.57;0.71...</td>\n",
              "    </tr>\n",
              "    <tr>\n",
              "      <th>1599</th>\n",
              "      <td>6;0.31;0.47;3.6;0.067;18;42;0.99549;3.39;0.66;...</td>\n",
              "    </tr>\n",
              "  </tbody>\n",
              "</table>\n",
              "<p>1600 rows × 1 columns</p>\n",
              "</div>"
            ],
            "text/plain": [
              "                                                  Mixed\n",
              "0     fixed acidity;volatile acidity;citric acid;res...\n",
              "1      7.4;0.7;0;1.9;0.076;11;34;0.9978;3.51;0.56;9.4;5\n",
              "2      7.8;0.88;0;2.6;0.098;25;67;0.9968;3.2;0.68;9.8;5\n",
              "3     7.8;0.76;0.04;2.3;0.092;15;54;0.997;3.26;0.65;...\n",
              "4     11.2;0.28;0.56;1.9;0.075;17;60;0.998;3.16;0.58...\n",
              "...                                                 ...\n",
              "1595  6.2;0.6;0.08;2;0.09;32;44;0.9949;3.45;0.58;10.5;5\n",
              "1596  5.9;0.55;0.1;2.2;0.062;39;51;0.99512;3.52;0.76...\n",
              "1597  6.3;0.51;0.13;2.3;0.076;29;40;0.99574;3.42;0.7...\n",
              "1598  5.9;0.645;0.12;2;0.075;32;44;0.99547;3.57;0.71...\n",
              "1599  6;0.31;0.47;3.6;0.067;18;42;0.99549;3.39;0.66;...\n",
              "\n",
              "[1600 rows x 1 columns]"
            ]
          },
          "metadata": {
            "tags": []
          },
          "execution_count": 162
        }
      ]
    },
    {
      "cell_type": "markdown",
      "metadata": {
        "id": "jlz2nbhqehSm",
        "colab_type": "text"
      },
      "source": [
        "Before we work on the data set, we need to seperate the data."
      ]
    },
    {
      "cell_type": "code",
      "metadata": {
        "id": "Cver9HRMehSo",
        "colab_type": "code",
        "outputId": "752a02f2-9097-4096-837e-d90bb2c9e2d4",
        "colab": {
          "base_uri": "https://localhost:8080/",
          "height": 419
        }
      },
      "source": [
        "#split the data set and make easy seperation\n",
        "wine_df=pd.DataFrame(wine['Mixed'].str.split(';',12).tolist(),columns=['0','1','2','3','4','5','6','7','8','9','10','11'])\n",
        "wine_df"
      ],
      "execution_count": 163,
      "outputs": [
        {
          "output_type": "execute_result",
          "data": {
            "text/html": [
              "<div>\n",
              "<style scoped>\n",
              "    .dataframe tbody tr th:only-of-type {\n",
              "        vertical-align: middle;\n",
              "    }\n",
              "\n",
              "    .dataframe tbody tr th {\n",
              "        vertical-align: top;\n",
              "    }\n",
              "\n",
              "    .dataframe thead th {\n",
              "        text-align: right;\n",
              "    }\n",
              "</style>\n",
              "<table border=\"1\" class=\"dataframe\">\n",
              "  <thead>\n",
              "    <tr style=\"text-align: right;\">\n",
              "      <th></th>\n",
              "      <th>0</th>\n",
              "      <th>1</th>\n",
              "      <th>2</th>\n",
              "      <th>3</th>\n",
              "      <th>4</th>\n",
              "      <th>5</th>\n",
              "      <th>6</th>\n",
              "      <th>7</th>\n",
              "      <th>8</th>\n",
              "      <th>9</th>\n",
              "      <th>10</th>\n",
              "      <th>11</th>\n",
              "    </tr>\n",
              "  </thead>\n",
              "  <tbody>\n",
              "    <tr>\n",
              "      <th>0</th>\n",
              "      <td>fixed acidity</td>\n",
              "      <td>volatile acidity</td>\n",
              "      <td>citric acid</td>\n",
              "      <td>residual sugar</td>\n",
              "      <td>chlorides</td>\n",
              "      <td>free sulfur dioxide</td>\n",
              "      <td>total sulfur dioxide</td>\n",
              "      <td>density</td>\n",
              "      <td>pH</td>\n",
              "      <td>sulphates</td>\n",
              "      <td>alcohol</td>\n",
              "      <td>quality</td>\n",
              "    </tr>\n",
              "    <tr>\n",
              "      <th>1</th>\n",
              "      <td>7.4</td>\n",
              "      <td>0.7</td>\n",
              "      <td>0</td>\n",
              "      <td>1.9</td>\n",
              "      <td>0.076</td>\n",
              "      <td>11</td>\n",
              "      <td>34</td>\n",
              "      <td>0.9978</td>\n",
              "      <td>3.51</td>\n",
              "      <td>0.56</td>\n",
              "      <td>9.4</td>\n",
              "      <td>5</td>\n",
              "    </tr>\n",
              "    <tr>\n",
              "      <th>2</th>\n",
              "      <td>7.8</td>\n",
              "      <td>0.88</td>\n",
              "      <td>0</td>\n",
              "      <td>2.6</td>\n",
              "      <td>0.098</td>\n",
              "      <td>25</td>\n",
              "      <td>67</td>\n",
              "      <td>0.9968</td>\n",
              "      <td>3.2</td>\n",
              "      <td>0.68</td>\n",
              "      <td>9.8</td>\n",
              "      <td>5</td>\n",
              "    </tr>\n",
              "    <tr>\n",
              "      <th>3</th>\n",
              "      <td>7.8</td>\n",
              "      <td>0.76</td>\n",
              "      <td>0.04</td>\n",
              "      <td>2.3</td>\n",
              "      <td>0.092</td>\n",
              "      <td>15</td>\n",
              "      <td>54</td>\n",
              "      <td>0.997</td>\n",
              "      <td>3.26</td>\n",
              "      <td>0.65</td>\n",
              "      <td>9.8</td>\n",
              "      <td>5</td>\n",
              "    </tr>\n",
              "    <tr>\n",
              "      <th>4</th>\n",
              "      <td>11.2</td>\n",
              "      <td>0.28</td>\n",
              "      <td>0.56</td>\n",
              "      <td>1.9</td>\n",
              "      <td>0.075</td>\n",
              "      <td>17</td>\n",
              "      <td>60</td>\n",
              "      <td>0.998</td>\n",
              "      <td>3.16</td>\n",
              "      <td>0.58</td>\n",
              "      <td>9.8</td>\n",
              "      <td>6</td>\n",
              "    </tr>\n",
              "    <tr>\n",
              "      <th>...</th>\n",
              "      <td>...</td>\n",
              "      <td>...</td>\n",
              "      <td>...</td>\n",
              "      <td>...</td>\n",
              "      <td>...</td>\n",
              "      <td>...</td>\n",
              "      <td>...</td>\n",
              "      <td>...</td>\n",
              "      <td>...</td>\n",
              "      <td>...</td>\n",
              "      <td>...</td>\n",
              "      <td>...</td>\n",
              "    </tr>\n",
              "    <tr>\n",
              "      <th>1595</th>\n",
              "      <td>6.2</td>\n",
              "      <td>0.6</td>\n",
              "      <td>0.08</td>\n",
              "      <td>2</td>\n",
              "      <td>0.09</td>\n",
              "      <td>32</td>\n",
              "      <td>44</td>\n",
              "      <td>0.9949</td>\n",
              "      <td>3.45</td>\n",
              "      <td>0.58</td>\n",
              "      <td>10.5</td>\n",
              "      <td>5</td>\n",
              "    </tr>\n",
              "    <tr>\n",
              "      <th>1596</th>\n",
              "      <td>5.9</td>\n",
              "      <td>0.55</td>\n",
              "      <td>0.1</td>\n",
              "      <td>2.2</td>\n",
              "      <td>0.062</td>\n",
              "      <td>39</td>\n",
              "      <td>51</td>\n",
              "      <td>0.99512</td>\n",
              "      <td>3.52</td>\n",
              "      <td>0.76</td>\n",
              "      <td>11.2</td>\n",
              "      <td>6</td>\n",
              "    </tr>\n",
              "    <tr>\n",
              "      <th>1597</th>\n",
              "      <td>6.3</td>\n",
              "      <td>0.51</td>\n",
              "      <td>0.13</td>\n",
              "      <td>2.3</td>\n",
              "      <td>0.076</td>\n",
              "      <td>29</td>\n",
              "      <td>40</td>\n",
              "      <td>0.99574</td>\n",
              "      <td>3.42</td>\n",
              "      <td>0.75</td>\n",
              "      <td>11</td>\n",
              "      <td>6</td>\n",
              "    </tr>\n",
              "    <tr>\n",
              "      <th>1598</th>\n",
              "      <td>5.9</td>\n",
              "      <td>0.645</td>\n",
              "      <td>0.12</td>\n",
              "      <td>2</td>\n",
              "      <td>0.075</td>\n",
              "      <td>32</td>\n",
              "      <td>44</td>\n",
              "      <td>0.99547</td>\n",
              "      <td>3.57</td>\n",
              "      <td>0.71</td>\n",
              "      <td>10.2</td>\n",
              "      <td>5</td>\n",
              "    </tr>\n",
              "    <tr>\n",
              "      <th>1599</th>\n",
              "      <td>6</td>\n",
              "      <td>0.31</td>\n",
              "      <td>0.47</td>\n",
              "      <td>3.6</td>\n",
              "      <td>0.067</td>\n",
              "      <td>18</td>\n",
              "      <td>42</td>\n",
              "      <td>0.99549</td>\n",
              "      <td>3.39</td>\n",
              "      <td>0.66</td>\n",
              "      <td>11</td>\n",
              "      <td>6</td>\n",
              "    </tr>\n",
              "  </tbody>\n",
              "</table>\n",
              "<p>1600 rows × 12 columns</p>\n",
              "</div>"
            ],
            "text/plain": [
              "                  0                 1            2  ...          9       10       11\n",
              "0     fixed acidity  volatile acidity  citric acid  ...  sulphates  alcohol  quality\n",
              "1               7.4               0.7            0  ...       0.56      9.4        5\n",
              "2               7.8              0.88            0  ...       0.68      9.8        5\n",
              "3               7.8              0.76         0.04  ...       0.65      9.8        5\n",
              "4              11.2              0.28         0.56  ...       0.58      9.8        6\n",
              "...             ...               ...          ...  ...        ...      ...      ...\n",
              "1595            6.2               0.6         0.08  ...       0.58     10.5        5\n",
              "1596            5.9              0.55          0.1  ...       0.76     11.2        6\n",
              "1597            6.3              0.51         0.13  ...       0.75       11        6\n",
              "1598            5.9             0.645         0.12  ...       0.71     10.2        5\n",
              "1599              6              0.31         0.47  ...       0.66       11        6\n",
              "\n",
              "[1600 rows x 12 columns]"
            ]
          },
          "metadata": {
            "tags": []
          },
          "execution_count": 163
        }
      ]
    },
    {
      "cell_type": "markdown",
      "metadata": {
        "id": "juzvIQKjehSt",
        "colab_type": "text"
      },
      "source": [
        "Since the first row is actual column name, I need to reorganize it first.\n"
      ]
    },
    {
      "cell_type": "code",
      "metadata": {
        "id": "741Bff-GehSu",
        "colab_type": "code",
        "outputId": "dae39c93-30c4-4998-e8da-770e01af5785",
        "colab": {
          "base_uri": "https://localhost:8080/",
          "height": 269
        }
      },
      "source": [
        "#Since first row is actually the column name\n",
        "#I recreate the dataframe to make the clean data.\n",
        "\n",
        "wine_df.columns = wine_df.iloc[0]\n",
        "headers = wine_df.iloc[0]\n",
        "wine_df  = pd.DataFrame(wine_df.values[1:], columns=headers)\n",
        "#check data\n",
        "wine_df.head"
      ],
      "execution_count": 164,
      "outputs": [
        {
          "output_type": "execute_result",
          "data": {
            "text/plain": [
              "<bound method NDFrame.head of 0    fixed acidity volatile acidity citric acid  ... sulphates alcohol quality\n",
              "0              7.4              0.7           0  ...      0.56     9.4       5\n",
              "1              7.8             0.88           0  ...      0.68     9.8       5\n",
              "2              7.8             0.76        0.04  ...      0.65     9.8       5\n",
              "3             11.2             0.28        0.56  ...      0.58     9.8       6\n",
              "4              7.4              0.7           0  ...      0.56     9.4       5\n",
              "...            ...              ...         ...  ...       ...     ...     ...\n",
              "1594           6.2              0.6        0.08  ...      0.58    10.5       5\n",
              "1595           5.9             0.55         0.1  ...      0.76    11.2       6\n",
              "1596           6.3             0.51        0.13  ...      0.75      11       6\n",
              "1597           5.9            0.645        0.12  ...      0.71    10.2       5\n",
              "1598             6             0.31        0.47  ...      0.66      11       6\n",
              "\n",
              "[1599 rows x 12 columns]>"
            ]
          },
          "metadata": {
            "tags": []
          },
          "execution_count": 164
        }
      ]
    },
    {
      "cell_type": "markdown",
      "metadata": {
        "id": "Gq4N64dYehSy",
        "colab_type": "text"
      },
      "source": [
        "### Replace column values  \n"
      ]
    },
    {
      "cell_type": "code",
      "metadata": {
        "id": "gdt3UIbuHMxA",
        "colab_type": "code",
        "outputId": "cd87fc65-fc40-4a96-9a4f-e863bfd8a631",
        "colab": {
          "base_uri": "https://localhost:8080/",
          "height": 419
        }
      },
      "source": [
        "wine_df"
      ],
      "execution_count": 165,
      "outputs": [
        {
          "output_type": "execute_result",
          "data": {
            "text/html": [
              "<div>\n",
              "<style scoped>\n",
              "    .dataframe tbody tr th:only-of-type {\n",
              "        vertical-align: middle;\n",
              "    }\n",
              "\n",
              "    .dataframe tbody tr th {\n",
              "        vertical-align: top;\n",
              "    }\n",
              "\n",
              "    .dataframe thead th {\n",
              "        text-align: right;\n",
              "    }\n",
              "</style>\n",
              "<table border=\"1\" class=\"dataframe\">\n",
              "  <thead>\n",
              "    <tr style=\"text-align: right;\">\n",
              "      <th></th>\n",
              "      <th>fixed acidity</th>\n",
              "      <th>volatile acidity</th>\n",
              "      <th>citric acid</th>\n",
              "      <th>residual sugar</th>\n",
              "      <th>chlorides</th>\n",
              "      <th>free sulfur dioxide</th>\n",
              "      <th>total sulfur dioxide</th>\n",
              "      <th>density</th>\n",
              "      <th>pH</th>\n",
              "      <th>sulphates</th>\n",
              "      <th>alcohol</th>\n",
              "      <th>quality</th>\n",
              "    </tr>\n",
              "  </thead>\n",
              "  <tbody>\n",
              "    <tr>\n",
              "      <th>0</th>\n",
              "      <td>7.4</td>\n",
              "      <td>0.7</td>\n",
              "      <td>0</td>\n",
              "      <td>1.9</td>\n",
              "      <td>0.076</td>\n",
              "      <td>11</td>\n",
              "      <td>34</td>\n",
              "      <td>0.9978</td>\n",
              "      <td>3.51</td>\n",
              "      <td>0.56</td>\n",
              "      <td>9.4</td>\n",
              "      <td>5</td>\n",
              "    </tr>\n",
              "    <tr>\n",
              "      <th>1</th>\n",
              "      <td>7.8</td>\n",
              "      <td>0.88</td>\n",
              "      <td>0</td>\n",
              "      <td>2.6</td>\n",
              "      <td>0.098</td>\n",
              "      <td>25</td>\n",
              "      <td>67</td>\n",
              "      <td>0.9968</td>\n",
              "      <td>3.2</td>\n",
              "      <td>0.68</td>\n",
              "      <td>9.8</td>\n",
              "      <td>5</td>\n",
              "    </tr>\n",
              "    <tr>\n",
              "      <th>2</th>\n",
              "      <td>7.8</td>\n",
              "      <td>0.76</td>\n",
              "      <td>0.04</td>\n",
              "      <td>2.3</td>\n",
              "      <td>0.092</td>\n",
              "      <td>15</td>\n",
              "      <td>54</td>\n",
              "      <td>0.997</td>\n",
              "      <td>3.26</td>\n",
              "      <td>0.65</td>\n",
              "      <td>9.8</td>\n",
              "      <td>5</td>\n",
              "    </tr>\n",
              "    <tr>\n",
              "      <th>3</th>\n",
              "      <td>11.2</td>\n",
              "      <td>0.28</td>\n",
              "      <td>0.56</td>\n",
              "      <td>1.9</td>\n",
              "      <td>0.075</td>\n",
              "      <td>17</td>\n",
              "      <td>60</td>\n",
              "      <td>0.998</td>\n",
              "      <td>3.16</td>\n",
              "      <td>0.58</td>\n",
              "      <td>9.8</td>\n",
              "      <td>6</td>\n",
              "    </tr>\n",
              "    <tr>\n",
              "      <th>4</th>\n",
              "      <td>7.4</td>\n",
              "      <td>0.7</td>\n",
              "      <td>0</td>\n",
              "      <td>1.9</td>\n",
              "      <td>0.076</td>\n",
              "      <td>11</td>\n",
              "      <td>34</td>\n",
              "      <td>0.9978</td>\n",
              "      <td>3.51</td>\n",
              "      <td>0.56</td>\n",
              "      <td>9.4</td>\n",
              "      <td>5</td>\n",
              "    </tr>\n",
              "    <tr>\n",
              "      <th>...</th>\n",
              "      <td>...</td>\n",
              "      <td>...</td>\n",
              "      <td>...</td>\n",
              "      <td>...</td>\n",
              "      <td>...</td>\n",
              "      <td>...</td>\n",
              "      <td>...</td>\n",
              "      <td>...</td>\n",
              "      <td>...</td>\n",
              "      <td>...</td>\n",
              "      <td>...</td>\n",
              "      <td>...</td>\n",
              "    </tr>\n",
              "    <tr>\n",
              "      <th>1594</th>\n",
              "      <td>6.2</td>\n",
              "      <td>0.6</td>\n",
              "      <td>0.08</td>\n",
              "      <td>2</td>\n",
              "      <td>0.09</td>\n",
              "      <td>32</td>\n",
              "      <td>44</td>\n",
              "      <td>0.9949</td>\n",
              "      <td>3.45</td>\n",
              "      <td>0.58</td>\n",
              "      <td>10.5</td>\n",
              "      <td>5</td>\n",
              "    </tr>\n",
              "    <tr>\n",
              "      <th>1595</th>\n",
              "      <td>5.9</td>\n",
              "      <td>0.55</td>\n",
              "      <td>0.1</td>\n",
              "      <td>2.2</td>\n",
              "      <td>0.062</td>\n",
              "      <td>39</td>\n",
              "      <td>51</td>\n",
              "      <td>0.99512</td>\n",
              "      <td>3.52</td>\n",
              "      <td>0.76</td>\n",
              "      <td>11.2</td>\n",
              "      <td>6</td>\n",
              "    </tr>\n",
              "    <tr>\n",
              "      <th>1596</th>\n",
              "      <td>6.3</td>\n",
              "      <td>0.51</td>\n",
              "      <td>0.13</td>\n",
              "      <td>2.3</td>\n",
              "      <td>0.076</td>\n",
              "      <td>29</td>\n",
              "      <td>40</td>\n",
              "      <td>0.99574</td>\n",
              "      <td>3.42</td>\n",
              "      <td>0.75</td>\n",
              "      <td>11</td>\n",
              "      <td>6</td>\n",
              "    </tr>\n",
              "    <tr>\n",
              "      <th>1597</th>\n",
              "      <td>5.9</td>\n",
              "      <td>0.645</td>\n",
              "      <td>0.12</td>\n",
              "      <td>2</td>\n",
              "      <td>0.075</td>\n",
              "      <td>32</td>\n",
              "      <td>44</td>\n",
              "      <td>0.99547</td>\n",
              "      <td>3.57</td>\n",
              "      <td>0.71</td>\n",
              "      <td>10.2</td>\n",
              "      <td>5</td>\n",
              "    </tr>\n",
              "    <tr>\n",
              "      <th>1598</th>\n",
              "      <td>6</td>\n",
              "      <td>0.31</td>\n",
              "      <td>0.47</td>\n",
              "      <td>3.6</td>\n",
              "      <td>0.067</td>\n",
              "      <td>18</td>\n",
              "      <td>42</td>\n",
              "      <td>0.99549</td>\n",
              "      <td>3.39</td>\n",
              "      <td>0.66</td>\n",
              "      <td>11</td>\n",
              "      <td>6</td>\n",
              "    </tr>\n",
              "  </tbody>\n",
              "</table>\n",
              "<p>1599 rows × 12 columns</p>\n",
              "</div>"
            ],
            "text/plain": [
              "0    fixed acidity volatile acidity citric acid  ... sulphates alcohol quality\n",
              "0              7.4              0.7           0  ...      0.56     9.4       5\n",
              "1              7.8             0.88           0  ...      0.68     9.8       5\n",
              "2              7.8             0.76        0.04  ...      0.65     9.8       5\n",
              "3             11.2             0.28        0.56  ...      0.58     9.8       6\n",
              "4              7.4              0.7           0  ...      0.56     9.4       5\n",
              "...            ...              ...         ...  ...       ...     ...     ...\n",
              "1594           6.2              0.6        0.08  ...      0.58    10.5       5\n",
              "1595           5.9             0.55         0.1  ...      0.76    11.2       6\n",
              "1596           6.3             0.51        0.13  ...      0.75      11       6\n",
              "1597           5.9            0.645        0.12  ...      0.71    10.2       5\n",
              "1598             6             0.31        0.47  ...      0.66      11       6\n",
              "\n",
              "[1599 rows x 12 columns]"
            ]
          },
          "metadata": {
            "tags": []
          },
          "execution_count": 165
        }
      ]
    },
    {
      "cell_type": "code",
      "metadata": {
        "colab_type": "code",
        "outputId": "cb0beafc-5ea8-4527-9e54-60b1d4894d91",
        "id": "JhrtnL0ZSZXU",
        "colab": {
          "base_uri": "https://localhost:8080/",
          "height": 233
        }
      },
      "source": [
        "#checks how many pH items are and possible change to rank low to high\n",
        "wine_df.pH.unique() "
      ],
      "execution_count": 166,
      "outputs": [
        {
          "output_type": "execute_result",
          "data": {
            "text/plain": [
              "array(['3.51', '3.2', '3.26', '3.16', '3.3', '3.39', '3.36', '3.35',\n",
              "       '3.28', '3.58', '3.17', '3.11', '3.38', '3.04', '3.52', '3.43',\n",
              "       '3.34', '3.47', '3.46', '3.45', '3.4', '3.42', '3.23', '3.5',\n",
              "       '3.33', '3.21', '3.48', '3.9', '3.25', '3.32', '3.15', '3.41',\n",
              "       '3.44', '3.31', '3.54', '3.13', '2.93', '3.14', '3.75', '3.85',\n",
              "       '3.29', '3.08', '3.37', '3.19', '3.07', '3.49', '3.53', '3.24',\n",
              "       '3.63', '3.22', '3.68', '2.74', '3.59', '3', '3.12', '3.57',\n",
              "       '3.61', '3.06', '3.6', '3.69', '3.1', '3.05', '3.67', '3.27',\n",
              "       '3.18', '3.02', '3.55', '2.99', '3.01', '3.56', '3.03', '3.62',\n",
              "       '2.88', '2.95', '2.98', '3.09', '2.86', '3.74', '2.92', '3.72',\n",
              "       '2.87', '2.89', '2.94', '3.66', '3.71', '3.78', '3.7', '4.01',\n",
              "       '2.9'], dtype=object)"
            ]
          },
          "metadata": {
            "tags": []
          },
          "execution_count": 166
        }
      ]
    },
    {
      "cell_type": "code",
      "metadata": {
        "id": "KaSLIz5HehSz",
        "colab_type": "code",
        "outputId": "9ce597d3-96d2-4aff-f57b-73b1f7eb2305",
        "colab": {
          "base_uri": "https://localhost:8080/",
          "height": 35
        }
      },
      "source": [
        "#checks how many quality items are and possible change to rank low to high\n",
        "wine_df.quality.unique() "
      ],
      "execution_count": 167,
      "outputs": [
        {
          "output_type": "execute_result",
          "data": {
            "text/plain": [
              "array(['5', '6', '7', '4', '8', '3'], dtype=object)"
            ]
          },
          "metadata": {
            "tags": []
          },
          "execution_count": 167
        }
      ]
    },
    {
      "cell_type": "code",
      "metadata": {
        "id": "Mpj2-vBTehS2",
        "colab_type": "code",
        "outputId": "fefd5d6a-6df3-4c5f-dd8f-4b08ed99963a",
        "colab": {
          "base_uri": "https://localhost:8080/",
          "height": 204
        }
      },
      "source": [
        "#replace column values for quality. identify 3,4 be low quality, 5 to 6 be medium and 7to8 be high quality\n",
        "wine_df.quality.replace({ '3': 'low','4': 'low',\n",
        "            '5': 'low','6': 'high',\n",
        "             '7': 'high','8': 'high'             \n",
        "                           }, inplace = True)\n",
        "wine_df.head()"
      ],
      "execution_count": 168,
      "outputs": [
        {
          "output_type": "execute_result",
          "data": {
            "text/html": [
              "<div>\n",
              "<style scoped>\n",
              "    .dataframe tbody tr th:only-of-type {\n",
              "        vertical-align: middle;\n",
              "    }\n",
              "\n",
              "    .dataframe tbody tr th {\n",
              "        vertical-align: top;\n",
              "    }\n",
              "\n",
              "    .dataframe thead th {\n",
              "        text-align: right;\n",
              "    }\n",
              "</style>\n",
              "<table border=\"1\" class=\"dataframe\">\n",
              "  <thead>\n",
              "    <tr style=\"text-align: right;\">\n",
              "      <th></th>\n",
              "      <th>fixed acidity</th>\n",
              "      <th>volatile acidity</th>\n",
              "      <th>citric acid</th>\n",
              "      <th>residual sugar</th>\n",
              "      <th>chlorides</th>\n",
              "      <th>free sulfur dioxide</th>\n",
              "      <th>total sulfur dioxide</th>\n",
              "      <th>density</th>\n",
              "      <th>pH</th>\n",
              "      <th>sulphates</th>\n",
              "      <th>alcohol</th>\n",
              "      <th>quality</th>\n",
              "    </tr>\n",
              "  </thead>\n",
              "  <tbody>\n",
              "    <tr>\n",
              "      <th>0</th>\n",
              "      <td>7.4</td>\n",
              "      <td>0.7</td>\n",
              "      <td>0</td>\n",
              "      <td>1.9</td>\n",
              "      <td>0.076</td>\n",
              "      <td>11</td>\n",
              "      <td>34</td>\n",
              "      <td>0.9978</td>\n",
              "      <td>3.51</td>\n",
              "      <td>0.56</td>\n",
              "      <td>9.4</td>\n",
              "      <td>low</td>\n",
              "    </tr>\n",
              "    <tr>\n",
              "      <th>1</th>\n",
              "      <td>7.8</td>\n",
              "      <td>0.88</td>\n",
              "      <td>0</td>\n",
              "      <td>2.6</td>\n",
              "      <td>0.098</td>\n",
              "      <td>25</td>\n",
              "      <td>67</td>\n",
              "      <td>0.9968</td>\n",
              "      <td>3.2</td>\n",
              "      <td>0.68</td>\n",
              "      <td>9.8</td>\n",
              "      <td>low</td>\n",
              "    </tr>\n",
              "    <tr>\n",
              "      <th>2</th>\n",
              "      <td>7.8</td>\n",
              "      <td>0.76</td>\n",
              "      <td>0.04</td>\n",
              "      <td>2.3</td>\n",
              "      <td>0.092</td>\n",
              "      <td>15</td>\n",
              "      <td>54</td>\n",
              "      <td>0.997</td>\n",
              "      <td>3.26</td>\n",
              "      <td>0.65</td>\n",
              "      <td>9.8</td>\n",
              "      <td>low</td>\n",
              "    </tr>\n",
              "    <tr>\n",
              "      <th>3</th>\n",
              "      <td>11.2</td>\n",
              "      <td>0.28</td>\n",
              "      <td>0.56</td>\n",
              "      <td>1.9</td>\n",
              "      <td>0.075</td>\n",
              "      <td>17</td>\n",
              "      <td>60</td>\n",
              "      <td>0.998</td>\n",
              "      <td>3.16</td>\n",
              "      <td>0.58</td>\n",
              "      <td>9.8</td>\n",
              "      <td>high</td>\n",
              "    </tr>\n",
              "    <tr>\n",
              "      <th>4</th>\n",
              "      <td>7.4</td>\n",
              "      <td>0.7</td>\n",
              "      <td>0</td>\n",
              "      <td>1.9</td>\n",
              "      <td>0.076</td>\n",
              "      <td>11</td>\n",
              "      <td>34</td>\n",
              "      <td>0.9978</td>\n",
              "      <td>3.51</td>\n",
              "      <td>0.56</td>\n",
              "      <td>9.4</td>\n",
              "      <td>low</td>\n",
              "    </tr>\n",
              "  </tbody>\n",
              "</table>\n",
              "</div>"
            ],
            "text/plain": [
              "0 fixed acidity volatile acidity citric acid  ... sulphates alcohol quality\n",
              "0           7.4              0.7           0  ...      0.56     9.4     low\n",
              "1           7.8             0.88           0  ...      0.68     9.8     low\n",
              "2           7.8             0.76        0.04  ...      0.65     9.8     low\n",
              "3          11.2             0.28        0.56  ...      0.58     9.8    high\n",
              "4           7.4              0.7           0  ...      0.56     9.4     low\n",
              "\n",
              "[5 rows x 12 columns]"
            ]
          },
          "metadata": {
            "tags": []
          },
          "execution_count": 168
        }
      ]
    },
    {
      "cell_type": "code",
      "metadata": {
        "id": "HLldgOc4Lt5X",
        "colab_type": "code",
        "colab": {
          "base_uri": "https://localhost:8080/",
          "height": 269
        },
        "outputId": "e13cf647-700c-4aaa-a7c2-705d11cce362"
      },
      "source": [
        "#check data type\n",
        "wine_df.dtypes"
      ],
      "execution_count": 169,
      "outputs": [
        {
          "output_type": "execute_result",
          "data": {
            "text/plain": [
              "0\n",
              "fixed acidity           object\n",
              "volatile acidity        object\n",
              "citric acid             object\n",
              "residual sugar          object\n",
              "chlorides               object\n",
              "free sulfur dioxide     object\n",
              "total sulfur dioxide    object\n",
              "density                 object\n",
              "pH                      object\n",
              "sulphates               object\n",
              "alcohol                 object\n",
              "quality                 object\n",
              "dtype: object"
            ]
          },
          "metadata": {
            "tags": []
          },
          "execution_count": 169
        }
      ]
    },
    {
      "cell_type": "markdown",
      "metadata": {
        "id": "QPY86nOkehTH",
        "colab_type": "text"
      },
      "source": [
        "Based on document of csv file, I know there is no missing data in these 12 attributes. For safe, we can check it.\n"
      ]
    },
    {
      "cell_type": "code",
      "metadata": {
        "id": "z0yNEylJNAvV",
        "colab_type": "code",
        "colab": {
          "base_uri": "https://localhost:8080/",
          "height": 269
        },
        "outputId": "3c49c590-1abf-41c6-8e57-b6c04a75e396"
      },
      "source": [
        "#check whether there is null value.\n",
        "wine_df.isnull().sum()"
      ],
      "execution_count": 170,
      "outputs": [
        {
          "output_type": "execute_result",
          "data": {
            "text/plain": [
              "0\n",
              "fixed acidity           0\n",
              "volatile acidity        0\n",
              "citric acid             0\n",
              "residual sugar          0\n",
              "chlorides               0\n",
              "free sulfur dioxide     0\n",
              "total sulfur dioxide    0\n",
              "density                 0\n",
              "pH                      0\n",
              "sulphates               0\n",
              "alcohol                 0\n",
              "quality                 0\n",
              "dtype: int64"
            ]
          },
          "metadata": {
            "tags": []
          },
          "execution_count": 170
        }
      ]
    },
    {
      "cell_type": "markdown",
      "metadata": {
        "id": "HGikqSP-OS75",
        "colab_type": "text"
      },
      "source": [
        "After check, I am certain that there are no null values for this data set."
      ]
    },
    {
      "cell_type": "markdown",
      "metadata": {
        "id": "hH96QWcTehTI",
        "colab_type": "text"
      },
      "source": [
        "Before we start data analysis, I will give summaries and explainations of these attributes.\n",
        "The whole dataset now contains 1599 rows and 12 attributes. Due to the complexity of this data set, by reading the paper, these attributes are as follows:\n",
        "\n",
        "- fixed acidity\t: amount of fixed acid\n",
        "-\tvolatile acidity: amount of volatile acid\n",
        "- citric acid : amount of citric acid\n",
        "- alcohol\t: amount of alcohol\n",
        "- residual sugar: amount of residual sugar\n",
        "- chlorides : amount of chlorides\n",
        "- free sulfur dioxide: amount of SO2 that is not bound to other molecules.\n",
        "- total sulfur dioxide:  amount of total sulfur dioxide\n",
        "- density: amount of whether the post is clicked or not.\n",
        "\n",
        "- pH: The number of level of acidity\n",
        "\n",
        "- sulphates\t: amount of sulphates\n",
        "- quality: quality of the red wine.\n"
      ]
    },
    {
      "cell_type": "markdown",
      "metadata": {
        "id": "pFW0CsYHehTJ",
        "colab_type": "text"
      },
      "source": [
        "## Part 2 Building the Model##\n",
        "Before I start to build the model, I made some educational guess on selection of attributes. I choose either category or performance data to check coorelation. \n",
        "The first model I tried to work with is based on acidity information. I would like to focus on these seven attributes. \n",
        "I want to know that whether there is some significance difference with acid property or not. On the other hand, I test the modelby finding the coorelation betweeen model and the quality information.\n"
      ]
    },
    {
      "cell_type": "code",
      "metadata": {
        "id": "KQNLCDLSehTK",
        "colab_type": "code",
        "outputId": "39e24b7f-ec74-4be5-a1ea-673fdd8d34b7",
        "colab": {
          "base_uri": "https://localhost:8080/",
          "height": 419
        }
      },
      "source": [
        "#Based on assumption to create a subset of the original dataset\n",
        "#gets all related attributes\n",
        "acid_model = wine_df.iloc[:,[0,1,2,5,6,8,11]].copy() \n",
        "acid_model "
      ],
      "execution_count": 171,
      "outputs": [
        {
          "output_type": "execute_result",
          "data": {
            "text/html": [
              "<div>\n",
              "<style scoped>\n",
              "    .dataframe tbody tr th:only-of-type {\n",
              "        vertical-align: middle;\n",
              "    }\n",
              "\n",
              "    .dataframe tbody tr th {\n",
              "        vertical-align: top;\n",
              "    }\n",
              "\n",
              "    .dataframe thead th {\n",
              "        text-align: right;\n",
              "    }\n",
              "</style>\n",
              "<table border=\"1\" class=\"dataframe\">\n",
              "  <thead>\n",
              "    <tr style=\"text-align: right;\">\n",
              "      <th></th>\n",
              "      <th>fixed acidity</th>\n",
              "      <th>volatile acidity</th>\n",
              "      <th>citric acid</th>\n",
              "      <th>free sulfur dioxide</th>\n",
              "      <th>total sulfur dioxide</th>\n",
              "      <th>pH</th>\n",
              "      <th>quality</th>\n",
              "    </tr>\n",
              "  </thead>\n",
              "  <tbody>\n",
              "    <tr>\n",
              "      <th>0</th>\n",
              "      <td>7.4</td>\n",
              "      <td>0.7</td>\n",
              "      <td>0</td>\n",
              "      <td>11</td>\n",
              "      <td>34</td>\n",
              "      <td>3.51</td>\n",
              "      <td>low</td>\n",
              "    </tr>\n",
              "    <tr>\n",
              "      <th>1</th>\n",
              "      <td>7.8</td>\n",
              "      <td>0.88</td>\n",
              "      <td>0</td>\n",
              "      <td>25</td>\n",
              "      <td>67</td>\n",
              "      <td>3.2</td>\n",
              "      <td>low</td>\n",
              "    </tr>\n",
              "    <tr>\n",
              "      <th>2</th>\n",
              "      <td>7.8</td>\n",
              "      <td>0.76</td>\n",
              "      <td>0.04</td>\n",
              "      <td>15</td>\n",
              "      <td>54</td>\n",
              "      <td>3.26</td>\n",
              "      <td>low</td>\n",
              "    </tr>\n",
              "    <tr>\n",
              "      <th>3</th>\n",
              "      <td>11.2</td>\n",
              "      <td>0.28</td>\n",
              "      <td>0.56</td>\n",
              "      <td>17</td>\n",
              "      <td>60</td>\n",
              "      <td>3.16</td>\n",
              "      <td>high</td>\n",
              "    </tr>\n",
              "    <tr>\n",
              "      <th>4</th>\n",
              "      <td>7.4</td>\n",
              "      <td>0.7</td>\n",
              "      <td>0</td>\n",
              "      <td>11</td>\n",
              "      <td>34</td>\n",
              "      <td>3.51</td>\n",
              "      <td>low</td>\n",
              "    </tr>\n",
              "    <tr>\n",
              "      <th>...</th>\n",
              "      <td>...</td>\n",
              "      <td>...</td>\n",
              "      <td>...</td>\n",
              "      <td>...</td>\n",
              "      <td>...</td>\n",
              "      <td>...</td>\n",
              "      <td>...</td>\n",
              "    </tr>\n",
              "    <tr>\n",
              "      <th>1594</th>\n",
              "      <td>6.2</td>\n",
              "      <td>0.6</td>\n",
              "      <td>0.08</td>\n",
              "      <td>32</td>\n",
              "      <td>44</td>\n",
              "      <td>3.45</td>\n",
              "      <td>low</td>\n",
              "    </tr>\n",
              "    <tr>\n",
              "      <th>1595</th>\n",
              "      <td>5.9</td>\n",
              "      <td>0.55</td>\n",
              "      <td>0.1</td>\n",
              "      <td>39</td>\n",
              "      <td>51</td>\n",
              "      <td>3.52</td>\n",
              "      <td>high</td>\n",
              "    </tr>\n",
              "    <tr>\n",
              "      <th>1596</th>\n",
              "      <td>6.3</td>\n",
              "      <td>0.51</td>\n",
              "      <td>0.13</td>\n",
              "      <td>29</td>\n",
              "      <td>40</td>\n",
              "      <td>3.42</td>\n",
              "      <td>high</td>\n",
              "    </tr>\n",
              "    <tr>\n",
              "      <th>1597</th>\n",
              "      <td>5.9</td>\n",
              "      <td>0.645</td>\n",
              "      <td>0.12</td>\n",
              "      <td>32</td>\n",
              "      <td>44</td>\n",
              "      <td>3.57</td>\n",
              "      <td>low</td>\n",
              "    </tr>\n",
              "    <tr>\n",
              "      <th>1598</th>\n",
              "      <td>6</td>\n",
              "      <td>0.31</td>\n",
              "      <td>0.47</td>\n",
              "      <td>18</td>\n",
              "      <td>42</td>\n",
              "      <td>3.39</td>\n",
              "      <td>high</td>\n",
              "    </tr>\n",
              "  </tbody>\n",
              "</table>\n",
              "<p>1599 rows × 7 columns</p>\n",
              "</div>"
            ],
            "text/plain": [
              "0    fixed acidity volatile acidity  ...    pH quality\n",
              "0              7.4              0.7  ...  3.51     low\n",
              "1              7.8             0.88  ...   3.2     low\n",
              "2              7.8             0.76  ...  3.26     low\n",
              "3             11.2             0.28  ...  3.16    high\n",
              "4              7.4              0.7  ...  3.51     low\n",
              "...            ...              ...  ...   ...     ...\n",
              "1594           6.2              0.6  ...  3.45     low\n",
              "1595           5.9             0.55  ...  3.52    high\n",
              "1596           6.3             0.51  ...  3.42    high\n",
              "1597           5.9            0.645  ...  3.57     low\n",
              "1598             6             0.31  ...  3.39    high\n",
              "\n",
              "[1599 rows x 7 columns]"
            ]
          },
          "metadata": {
            "tags": []
          },
          "execution_count": 171
        }
      ]
    },
    {
      "cell_type": "code",
      "metadata": {
        "id": "EWZdN-0SehTO",
        "colab_type": "code",
        "outputId": "9c128706-7a9f-4e1a-e8c8-9397c94426b2",
        "colab": {
          "base_uri": "https://localhost:8080/",
          "height": 173
        }
      },
      "source": [
        "#statistics\n",
        "acid_model.describe()"
      ],
      "execution_count": 172,
      "outputs": [
        {
          "output_type": "execute_result",
          "data": {
            "text/html": [
              "<div>\n",
              "<style scoped>\n",
              "    .dataframe tbody tr th:only-of-type {\n",
              "        vertical-align: middle;\n",
              "    }\n",
              "\n",
              "    .dataframe tbody tr th {\n",
              "        vertical-align: top;\n",
              "    }\n",
              "\n",
              "    .dataframe thead th {\n",
              "        text-align: right;\n",
              "    }\n",
              "</style>\n",
              "<table border=\"1\" class=\"dataframe\">\n",
              "  <thead>\n",
              "    <tr style=\"text-align: right;\">\n",
              "      <th></th>\n",
              "      <th>fixed acidity</th>\n",
              "      <th>volatile acidity</th>\n",
              "      <th>citric acid</th>\n",
              "      <th>free sulfur dioxide</th>\n",
              "      <th>total sulfur dioxide</th>\n",
              "      <th>pH</th>\n",
              "      <th>quality</th>\n",
              "    </tr>\n",
              "  </thead>\n",
              "  <tbody>\n",
              "    <tr>\n",
              "      <th>count</th>\n",
              "      <td>1599</td>\n",
              "      <td>1599</td>\n",
              "      <td>1599</td>\n",
              "      <td>1599</td>\n",
              "      <td>1599</td>\n",
              "      <td>1599</td>\n",
              "      <td>1599</td>\n",
              "    </tr>\n",
              "    <tr>\n",
              "      <th>unique</th>\n",
              "      <td>96</td>\n",
              "      <td>143</td>\n",
              "      <td>80</td>\n",
              "      <td>60</td>\n",
              "      <td>144</td>\n",
              "      <td>89</td>\n",
              "      <td>2</td>\n",
              "    </tr>\n",
              "    <tr>\n",
              "      <th>top</th>\n",
              "      <td>7.2</td>\n",
              "      <td>0.6</td>\n",
              "      <td>0</td>\n",
              "      <td>6</td>\n",
              "      <td>28</td>\n",
              "      <td>3.3</td>\n",
              "      <td>high</td>\n",
              "    </tr>\n",
              "    <tr>\n",
              "      <th>freq</th>\n",
              "      <td>67</td>\n",
              "      <td>47</td>\n",
              "      <td>132</td>\n",
              "      <td>138</td>\n",
              "      <td>43</td>\n",
              "      <td>57</td>\n",
              "      <td>855</td>\n",
              "    </tr>\n",
              "  </tbody>\n",
              "</table>\n",
              "</div>"
            ],
            "text/plain": [
              "0      fixed acidity volatile acidity  ...    pH quality\n",
              "count           1599             1599  ...  1599    1599\n",
              "unique            96              143  ...    89       2\n",
              "top              7.2              0.6  ...   3.3    high\n",
              "freq              67               47  ...    57     855\n",
              "\n",
              "[4 rows x 7 columns]"
            ]
          },
          "metadata": {
            "tags": []
          },
          "execution_count": 172
        }
      ]
    },
    {
      "cell_type": "markdown",
      "metadata": {
        "id": "FpMqfMLqehTS",
        "colab_type": "text"
      },
      "source": [
        "For this acid model, we can have general view on it. Comapred with my earlier trials of categorized quality (low, medium and high) current two side "
      ]
    },
    {
      "cell_type": "markdown",
      "metadata": {
        "colab_type": "text",
        "id": "BY-FV3SIUNhY"
      },
      "source": [
        "Second model is inspired by the belief that alcohol and other compound such as sugar can contributes to its quality.\n",
        "Therefore this model only contains these following attributes. "
      ]
    },
    {
      "cell_type": "code",
      "metadata": {
        "id": "a-fLrtqzehTb",
        "colab_type": "code",
        "outputId": "dcdf25d5-3787-42be-802c-ba80657fdae4",
        "colab": {
          "base_uri": "https://localhost:8080/",
          "height": 419
        }
      },
      "source": [
        "#Based on assumption to create a subset of the original dataset\n",
        "#gets all\n",
        "sugar_model = wine_df.iloc[:,[3,4,7,10,11]].copy() \n",
        "sugar_model"
      ],
      "execution_count": 173,
      "outputs": [
        {
          "output_type": "execute_result",
          "data": {
            "text/html": [
              "<div>\n",
              "<style scoped>\n",
              "    .dataframe tbody tr th:only-of-type {\n",
              "        vertical-align: middle;\n",
              "    }\n",
              "\n",
              "    .dataframe tbody tr th {\n",
              "        vertical-align: top;\n",
              "    }\n",
              "\n",
              "    .dataframe thead th {\n",
              "        text-align: right;\n",
              "    }\n",
              "</style>\n",
              "<table border=\"1\" class=\"dataframe\">\n",
              "  <thead>\n",
              "    <tr style=\"text-align: right;\">\n",
              "      <th></th>\n",
              "      <th>residual sugar</th>\n",
              "      <th>chlorides</th>\n",
              "      <th>density</th>\n",
              "      <th>alcohol</th>\n",
              "      <th>quality</th>\n",
              "    </tr>\n",
              "  </thead>\n",
              "  <tbody>\n",
              "    <tr>\n",
              "      <th>0</th>\n",
              "      <td>1.9</td>\n",
              "      <td>0.076</td>\n",
              "      <td>0.9978</td>\n",
              "      <td>9.4</td>\n",
              "      <td>low</td>\n",
              "    </tr>\n",
              "    <tr>\n",
              "      <th>1</th>\n",
              "      <td>2.6</td>\n",
              "      <td>0.098</td>\n",
              "      <td>0.9968</td>\n",
              "      <td>9.8</td>\n",
              "      <td>low</td>\n",
              "    </tr>\n",
              "    <tr>\n",
              "      <th>2</th>\n",
              "      <td>2.3</td>\n",
              "      <td>0.092</td>\n",
              "      <td>0.997</td>\n",
              "      <td>9.8</td>\n",
              "      <td>low</td>\n",
              "    </tr>\n",
              "    <tr>\n",
              "      <th>3</th>\n",
              "      <td>1.9</td>\n",
              "      <td>0.075</td>\n",
              "      <td>0.998</td>\n",
              "      <td>9.8</td>\n",
              "      <td>high</td>\n",
              "    </tr>\n",
              "    <tr>\n",
              "      <th>4</th>\n",
              "      <td>1.9</td>\n",
              "      <td>0.076</td>\n",
              "      <td>0.9978</td>\n",
              "      <td>9.4</td>\n",
              "      <td>low</td>\n",
              "    </tr>\n",
              "    <tr>\n",
              "      <th>...</th>\n",
              "      <td>...</td>\n",
              "      <td>...</td>\n",
              "      <td>...</td>\n",
              "      <td>...</td>\n",
              "      <td>...</td>\n",
              "    </tr>\n",
              "    <tr>\n",
              "      <th>1594</th>\n",
              "      <td>2</td>\n",
              "      <td>0.09</td>\n",
              "      <td>0.9949</td>\n",
              "      <td>10.5</td>\n",
              "      <td>low</td>\n",
              "    </tr>\n",
              "    <tr>\n",
              "      <th>1595</th>\n",
              "      <td>2.2</td>\n",
              "      <td>0.062</td>\n",
              "      <td>0.99512</td>\n",
              "      <td>11.2</td>\n",
              "      <td>high</td>\n",
              "    </tr>\n",
              "    <tr>\n",
              "      <th>1596</th>\n",
              "      <td>2.3</td>\n",
              "      <td>0.076</td>\n",
              "      <td>0.99574</td>\n",
              "      <td>11</td>\n",
              "      <td>high</td>\n",
              "    </tr>\n",
              "    <tr>\n",
              "      <th>1597</th>\n",
              "      <td>2</td>\n",
              "      <td>0.075</td>\n",
              "      <td>0.99547</td>\n",
              "      <td>10.2</td>\n",
              "      <td>low</td>\n",
              "    </tr>\n",
              "    <tr>\n",
              "      <th>1598</th>\n",
              "      <td>3.6</td>\n",
              "      <td>0.067</td>\n",
              "      <td>0.99549</td>\n",
              "      <td>11</td>\n",
              "      <td>high</td>\n",
              "    </tr>\n",
              "  </tbody>\n",
              "</table>\n",
              "<p>1599 rows × 5 columns</p>\n",
              "</div>"
            ],
            "text/plain": [
              "0    residual sugar chlorides  density alcohol quality\n",
              "0               1.9     0.076   0.9978     9.4     low\n",
              "1               2.6     0.098   0.9968     9.8     low\n",
              "2               2.3     0.092    0.997     9.8     low\n",
              "3               1.9     0.075    0.998     9.8    high\n",
              "4               1.9     0.076   0.9978     9.4     low\n",
              "...             ...       ...      ...     ...     ...\n",
              "1594              2      0.09   0.9949    10.5     low\n",
              "1595            2.2     0.062  0.99512    11.2    high\n",
              "1596            2.3     0.076  0.99574      11    high\n",
              "1597              2     0.075  0.99547    10.2     low\n",
              "1598            3.6     0.067  0.99549      11    high\n",
              "\n",
              "[1599 rows x 5 columns]"
            ]
          },
          "metadata": {
            "tags": []
          },
          "execution_count": 173
        }
      ]
    },
    {
      "cell_type": "markdown",
      "metadata": {
        "id": "tYVttX6PehTg",
        "colab_type": "text"
      },
      "source": [
        "Before EDA, I added some more categorical column in model 1 - acid model to make it more meaningful."
      ]
    },
    {
      "cell_type": "markdown",
      "metadata": {
        "id": "PfR8ox06gEL-",
        "colab_type": "text"
      },
      "source": [
        "After running code, it is noticable that there is an error associated with strings because the number in the dataframe was treated as the string instead of numbers. So I convert string to number to continue the calculation."
      ]
    },
    {
      "cell_type": "code",
      "metadata": {
        "id": "JiMsTmZnflrO",
        "colab_type": "code",
        "colab": {}
      },
      "source": [
        "# Based on error, convert to numerical\n",
        "acid_model['total sulfur dioxide']=pd.to_numeric(acid_model['total sulfur dioxide'])\n",
        "acid_model['free sulfur dioxide']=pd.to_numeric(acid_model['free sulfur dioxide'])\n",
        "acid_model['citric acid']=pd.to_numeric(acid_model['citric acid'])\n",
        "acid_model['pH']=pd.to_numeric(acid_model['pH'])"
      ],
      "execution_count": 0,
      "outputs": []
    },
    {
      "cell_type": "code",
      "metadata": {
        "id": "D67qXUeOehTl",
        "colab_type": "code",
        "outputId": "5af9f0a7-9981-4852-d585-e66e4631145b",
        "colab": {
          "base_uri": "https://localhost:8080/",
          "height": 419
        }
      },
      "source": [
        "acid_model['freesulf_rate']=acid_model['free sulfur dioxide'] / acid_model['total sulfur dioxide'] \n",
        "acid_model"
      ],
      "execution_count": 175,
      "outputs": [
        {
          "output_type": "execute_result",
          "data": {
            "text/html": [
              "<div>\n",
              "<style scoped>\n",
              "    .dataframe tbody tr th:only-of-type {\n",
              "        vertical-align: middle;\n",
              "    }\n",
              "\n",
              "    .dataframe tbody tr th {\n",
              "        vertical-align: top;\n",
              "    }\n",
              "\n",
              "    .dataframe thead th {\n",
              "        text-align: right;\n",
              "    }\n",
              "</style>\n",
              "<table border=\"1\" class=\"dataframe\">\n",
              "  <thead>\n",
              "    <tr style=\"text-align: right;\">\n",
              "      <th></th>\n",
              "      <th>fixed acidity</th>\n",
              "      <th>volatile acidity</th>\n",
              "      <th>citric acid</th>\n",
              "      <th>free sulfur dioxide</th>\n",
              "      <th>total sulfur dioxide</th>\n",
              "      <th>pH</th>\n",
              "      <th>quality</th>\n",
              "      <th>freesulf_rate</th>\n",
              "    </tr>\n",
              "  </thead>\n",
              "  <tbody>\n",
              "    <tr>\n",
              "      <th>0</th>\n",
              "      <td>7.4</td>\n",
              "      <td>0.7</td>\n",
              "      <td>0.00</td>\n",
              "      <td>11.0</td>\n",
              "      <td>34.0</td>\n",
              "      <td>3.51</td>\n",
              "      <td>low</td>\n",
              "      <td>0.323529</td>\n",
              "    </tr>\n",
              "    <tr>\n",
              "      <th>1</th>\n",
              "      <td>7.8</td>\n",
              "      <td>0.88</td>\n",
              "      <td>0.00</td>\n",
              "      <td>25.0</td>\n",
              "      <td>67.0</td>\n",
              "      <td>3.20</td>\n",
              "      <td>low</td>\n",
              "      <td>0.373134</td>\n",
              "    </tr>\n",
              "    <tr>\n",
              "      <th>2</th>\n",
              "      <td>7.8</td>\n",
              "      <td>0.76</td>\n",
              "      <td>0.04</td>\n",
              "      <td>15.0</td>\n",
              "      <td>54.0</td>\n",
              "      <td>3.26</td>\n",
              "      <td>low</td>\n",
              "      <td>0.277778</td>\n",
              "    </tr>\n",
              "    <tr>\n",
              "      <th>3</th>\n",
              "      <td>11.2</td>\n",
              "      <td>0.28</td>\n",
              "      <td>0.56</td>\n",
              "      <td>17.0</td>\n",
              "      <td>60.0</td>\n",
              "      <td>3.16</td>\n",
              "      <td>high</td>\n",
              "      <td>0.283333</td>\n",
              "    </tr>\n",
              "    <tr>\n",
              "      <th>4</th>\n",
              "      <td>7.4</td>\n",
              "      <td>0.7</td>\n",
              "      <td>0.00</td>\n",
              "      <td>11.0</td>\n",
              "      <td>34.0</td>\n",
              "      <td>3.51</td>\n",
              "      <td>low</td>\n",
              "      <td>0.323529</td>\n",
              "    </tr>\n",
              "    <tr>\n",
              "      <th>...</th>\n",
              "      <td>...</td>\n",
              "      <td>...</td>\n",
              "      <td>...</td>\n",
              "      <td>...</td>\n",
              "      <td>...</td>\n",
              "      <td>...</td>\n",
              "      <td>...</td>\n",
              "      <td>...</td>\n",
              "    </tr>\n",
              "    <tr>\n",
              "      <th>1594</th>\n",
              "      <td>6.2</td>\n",
              "      <td>0.6</td>\n",
              "      <td>0.08</td>\n",
              "      <td>32.0</td>\n",
              "      <td>44.0</td>\n",
              "      <td>3.45</td>\n",
              "      <td>low</td>\n",
              "      <td>0.727273</td>\n",
              "    </tr>\n",
              "    <tr>\n",
              "      <th>1595</th>\n",
              "      <td>5.9</td>\n",
              "      <td>0.55</td>\n",
              "      <td>0.10</td>\n",
              "      <td>39.0</td>\n",
              "      <td>51.0</td>\n",
              "      <td>3.52</td>\n",
              "      <td>high</td>\n",
              "      <td>0.764706</td>\n",
              "    </tr>\n",
              "    <tr>\n",
              "      <th>1596</th>\n",
              "      <td>6.3</td>\n",
              "      <td>0.51</td>\n",
              "      <td>0.13</td>\n",
              "      <td>29.0</td>\n",
              "      <td>40.0</td>\n",
              "      <td>3.42</td>\n",
              "      <td>high</td>\n",
              "      <td>0.725000</td>\n",
              "    </tr>\n",
              "    <tr>\n",
              "      <th>1597</th>\n",
              "      <td>5.9</td>\n",
              "      <td>0.645</td>\n",
              "      <td>0.12</td>\n",
              "      <td>32.0</td>\n",
              "      <td>44.0</td>\n",
              "      <td>3.57</td>\n",
              "      <td>low</td>\n",
              "      <td>0.727273</td>\n",
              "    </tr>\n",
              "    <tr>\n",
              "      <th>1598</th>\n",
              "      <td>6</td>\n",
              "      <td>0.31</td>\n",
              "      <td>0.47</td>\n",
              "      <td>18.0</td>\n",
              "      <td>42.0</td>\n",
              "      <td>3.39</td>\n",
              "      <td>high</td>\n",
              "      <td>0.428571</td>\n",
              "    </tr>\n",
              "  </tbody>\n",
              "</table>\n",
              "<p>1599 rows × 8 columns</p>\n",
              "</div>"
            ],
            "text/plain": [
              "0    fixed acidity volatile acidity  citric acid  ...    pH  quality  freesulf_rate\n",
              "0              7.4              0.7         0.00  ...  3.51      low       0.323529\n",
              "1              7.8             0.88         0.00  ...  3.20      low       0.373134\n",
              "2              7.8             0.76         0.04  ...  3.26      low       0.277778\n",
              "3             11.2             0.28         0.56  ...  3.16     high       0.283333\n",
              "4              7.4              0.7         0.00  ...  3.51      low       0.323529\n",
              "...            ...              ...          ...  ...   ...      ...            ...\n",
              "1594           6.2              0.6         0.08  ...  3.45      low       0.727273\n",
              "1595           5.9             0.55         0.10  ...  3.52     high       0.764706\n",
              "1596           6.3             0.51         0.13  ...  3.42     high       0.725000\n",
              "1597           5.9            0.645         0.12  ...  3.57      low       0.727273\n",
              "1598             6             0.31         0.47  ...  3.39     high       0.428571\n",
              "\n",
              "[1599 rows x 8 columns]"
            ]
          },
          "metadata": {
            "tags": []
          },
          "execution_count": 175
        }
      ]
    },
    {
      "cell_type": "code",
      "metadata": {
        "id": "wukBMlV9ehTo",
        "colab_type": "code",
        "outputId": "0bb4ddb2-42df-49d7-c8c4-cdd8825290fe",
        "colab": {
          "base_uri": "https://localhost:8080/",
          "height": 419
        }
      },
      "source": [
        "\n",
        "#function for categorize\n",
        "def func(x):\n",
        "    '''this function tries to categorize the numerical value \n",
        "     '''\n",
        "    if x < 0.1:\n",
        "        return 'few'\n",
        "    else: return 'some'\n",
        "acid_model['citricacid_amount'] = acid_model['citric acid'].apply(func)\n",
        "acid_model"
      ],
      "execution_count": 176,
      "outputs": [
        {
          "output_type": "execute_result",
          "data": {
            "text/html": [
              "<div>\n",
              "<style scoped>\n",
              "    .dataframe tbody tr th:only-of-type {\n",
              "        vertical-align: middle;\n",
              "    }\n",
              "\n",
              "    .dataframe tbody tr th {\n",
              "        vertical-align: top;\n",
              "    }\n",
              "\n",
              "    .dataframe thead th {\n",
              "        text-align: right;\n",
              "    }\n",
              "</style>\n",
              "<table border=\"1\" class=\"dataframe\">\n",
              "  <thead>\n",
              "    <tr style=\"text-align: right;\">\n",
              "      <th></th>\n",
              "      <th>fixed acidity</th>\n",
              "      <th>volatile acidity</th>\n",
              "      <th>citric acid</th>\n",
              "      <th>free sulfur dioxide</th>\n",
              "      <th>total sulfur dioxide</th>\n",
              "      <th>pH</th>\n",
              "      <th>quality</th>\n",
              "      <th>freesulf_rate</th>\n",
              "      <th>citricacid_amount</th>\n",
              "    </tr>\n",
              "  </thead>\n",
              "  <tbody>\n",
              "    <tr>\n",
              "      <th>0</th>\n",
              "      <td>7.4</td>\n",
              "      <td>0.7</td>\n",
              "      <td>0.00</td>\n",
              "      <td>11.0</td>\n",
              "      <td>34.0</td>\n",
              "      <td>3.51</td>\n",
              "      <td>low</td>\n",
              "      <td>0.323529</td>\n",
              "      <td>few</td>\n",
              "    </tr>\n",
              "    <tr>\n",
              "      <th>1</th>\n",
              "      <td>7.8</td>\n",
              "      <td>0.88</td>\n",
              "      <td>0.00</td>\n",
              "      <td>25.0</td>\n",
              "      <td>67.0</td>\n",
              "      <td>3.20</td>\n",
              "      <td>low</td>\n",
              "      <td>0.373134</td>\n",
              "      <td>few</td>\n",
              "    </tr>\n",
              "    <tr>\n",
              "      <th>2</th>\n",
              "      <td>7.8</td>\n",
              "      <td>0.76</td>\n",
              "      <td>0.04</td>\n",
              "      <td>15.0</td>\n",
              "      <td>54.0</td>\n",
              "      <td>3.26</td>\n",
              "      <td>low</td>\n",
              "      <td>0.277778</td>\n",
              "      <td>few</td>\n",
              "    </tr>\n",
              "    <tr>\n",
              "      <th>3</th>\n",
              "      <td>11.2</td>\n",
              "      <td>0.28</td>\n",
              "      <td>0.56</td>\n",
              "      <td>17.0</td>\n",
              "      <td>60.0</td>\n",
              "      <td>3.16</td>\n",
              "      <td>high</td>\n",
              "      <td>0.283333</td>\n",
              "      <td>some</td>\n",
              "    </tr>\n",
              "    <tr>\n",
              "      <th>4</th>\n",
              "      <td>7.4</td>\n",
              "      <td>0.7</td>\n",
              "      <td>0.00</td>\n",
              "      <td>11.0</td>\n",
              "      <td>34.0</td>\n",
              "      <td>3.51</td>\n",
              "      <td>low</td>\n",
              "      <td>0.323529</td>\n",
              "      <td>few</td>\n",
              "    </tr>\n",
              "    <tr>\n",
              "      <th>...</th>\n",
              "      <td>...</td>\n",
              "      <td>...</td>\n",
              "      <td>...</td>\n",
              "      <td>...</td>\n",
              "      <td>...</td>\n",
              "      <td>...</td>\n",
              "      <td>...</td>\n",
              "      <td>...</td>\n",
              "      <td>...</td>\n",
              "    </tr>\n",
              "    <tr>\n",
              "      <th>1594</th>\n",
              "      <td>6.2</td>\n",
              "      <td>0.6</td>\n",
              "      <td>0.08</td>\n",
              "      <td>32.0</td>\n",
              "      <td>44.0</td>\n",
              "      <td>3.45</td>\n",
              "      <td>low</td>\n",
              "      <td>0.727273</td>\n",
              "      <td>few</td>\n",
              "    </tr>\n",
              "    <tr>\n",
              "      <th>1595</th>\n",
              "      <td>5.9</td>\n",
              "      <td>0.55</td>\n",
              "      <td>0.10</td>\n",
              "      <td>39.0</td>\n",
              "      <td>51.0</td>\n",
              "      <td>3.52</td>\n",
              "      <td>high</td>\n",
              "      <td>0.764706</td>\n",
              "      <td>some</td>\n",
              "    </tr>\n",
              "    <tr>\n",
              "      <th>1596</th>\n",
              "      <td>6.3</td>\n",
              "      <td>0.51</td>\n",
              "      <td>0.13</td>\n",
              "      <td>29.0</td>\n",
              "      <td>40.0</td>\n",
              "      <td>3.42</td>\n",
              "      <td>high</td>\n",
              "      <td>0.725000</td>\n",
              "      <td>some</td>\n",
              "    </tr>\n",
              "    <tr>\n",
              "      <th>1597</th>\n",
              "      <td>5.9</td>\n",
              "      <td>0.645</td>\n",
              "      <td>0.12</td>\n",
              "      <td>32.0</td>\n",
              "      <td>44.0</td>\n",
              "      <td>3.57</td>\n",
              "      <td>low</td>\n",
              "      <td>0.727273</td>\n",
              "      <td>some</td>\n",
              "    </tr>\n",
              "    <tr>\n",
              "      <th>1598</th>\n",
              "      <td>6</td>\n",
              "      <td>0.31</td>\n",
              "      <td>0.47</td>\n",
              "      <td>18.0</td>\n",
              "      <td>42.0</td>\n",
              "      <td>3.39</td>\n",
              "      <td>high</td>\n",
              "      <td>0.428571</td>\n",
              "      <td>some</td>\n",
              "    </tr>\n",
              "  </tbody>\n",
              "</table>\n",
              "<p>1599 rows × 9 columns</p>\n",
              "</div>"
            ],
            "text/plain": [
              "0    fixed acidity volatile acidity  ...  freesulf_rate  citricacid_amount\n",
              "0              7.4              0.7  ...       0.323529                few\n",
              "1              7.8             0.88  ...       0.373134                few\n",
              "2              7.8             0.76  ...       0.277778                few\n",
              "3             11.2             0.28  ...       0.283333               some\n",
              "4              7.4              0.7  ...       0.323529                few\n",
              "...            ...              ...  ...            ...                ...\n",
              "1594           6.2              0.6  ...       0.727273                few\n",
              "1595           5.9             0.55  ...       0.764706               some\n",
              "1596           6.3             0.51  ...       0.725000               some\n",
              "1597           5.9            0.645  ...       0.727273               some\n",
              "1598             6             0.31  ...       0.428571               some\n",
              "\n",
              "[1599 rows x 9 columns]"
            ]
          },
          "metadata": {
            "tags": []
          },
          "execution_count": 176
        }
      ]
    },
    {
      "cell_type": "code",
      "metadata": {
        "colab_type": "code",
        "outputId": "cff11cae-815e-4037-8e30-a115f42047c0",
        "id": "23cxIeCGWnGm",
        "colab": {
          "base_uri": "https://localhost:8080/",
          "height": 419
        }
      },
      "source": [
        "\n",
        "#function for categorize sulf level\n",
        "def sulfrate(x):\n",
        "    '''this function tries to categorize the numerical value \n",
        "     '''\n",
        "    if x < 0.3:\n",
        "        return 'low'\n",
        "    else: return 'high'\n",
        "acid_model['freesulflevel'] = acid_model['freesulf_rate'].apply(sulfrate)\n",
        "acid_model"
      ],
      "execution_count": 177,
      "outputs": [
        {
          "output_type": "execute_result",
          "data": {
            "text/html": [
              "<div>\n",
              "<style scoped>\n",
              "    .dataframe tbody tr th:only-of-type {\n",
              "        vertical-align: middle;\n",
              "    }\n",
              "\n",
              "    .dataframe tbody tr th {\n",
              "        vertical-align: top;\n",
              "    }\n",
              "\n",
              "    .dataframe thead th {\n",
              "        text-align: right;\n",
              "    }\n",
              "</style>\n",
              "<table border=\"1\" class=\"dataframe\">\n",
              "  <thead>\n",
              "    <tr style=\"text-align: right;\">\n",
              "      <th></th>\n",
              "      <th>fixed acidity</th>\n",
              "      <th>volatile acidity</th>\n",
              "      <th>citric acid</th>\n",
              "      <th>free sulfur dioxide</th>\n",
              "      <th>total sulfur dioxide</th>\n",
              "      <th>pH</th>\n",
              "      <th>quality</th>\n",
              "      <th>freesulf_rate</th>\n",
              "      <th>citricacid_amount</th>\n",
              "      <th>freesulflevel</th>\n",
              "    </tr>\n",
              "  </thead>\n",
              "  <tbody>\n",
              "    <tr>\n",
              "      <th>0</th>\n",
              "      <td>7.4</td>\n",
              "      <td>0.7</td>\n",
              "      <td>0.00</td>\n",
              "      <td>11.0</td>\n",
              "      <td>34.0</td>\n",
              "      <td>3.51</td>\n",
              "      <td>low</td>\n",
              "      <td>0.323529</td>\n",
              "      <td>few</td>\n",
              "      <td>high</td>\n",
              "    </tr>\n",
              "    <tr>\n",
              "      <th>1</th>\n",
              "      <td>7.8</td>\n",
              "      <td>0.88</td>\n",
              "      <td>0.00</td>\n",
              "      <td>25.0</td>\n",
              "      <td>67.0</td>\n",
              "      <td>3.20</td>\n",
              "      <td>low</td>\n",
              "      <td>0.373134</td>\n",
              "      <td>few</td>\n",
              "      <td>high</td>\n",
              "    </tr>\n",
              "    <tr>\n",
              "      <th>2</th>\n",
              "      <td>7.8</td>\n",
              "      <td>0.76</td>\n",
              "      <td>0.04</td>\n",
              "      <td>15.0</td>\n",
              "      <td>54.0</td>\n",
              "      <td>3.26</td>\n",
              "      <td>low</td>\n",
              "      <td>0.277778</td>\n",
              "      <td>few</td>\n",
              "      <td>low</td>\n",
              "    </tr>\n",
              "    <tr>\n",
              "      <th>3</th>\n",
              "      <td>11.2</td>\n",
              "      <td>0.28</td>\n",
              "      <td>0.56</td>\n",
              "      <td>17.0</td>\n",
              "      <td>60.0</td>\n",
              "      <td>3.16</td>\n",
              "      <td>high</td>\n",
              "      <td>0.283333</td>\n",
              "      <td>some</td>\n",
              "      <td>low</td>\n",
              "    </tr>\n",
              "    <tr>\n",
              "      <th>4</th>\n",
              "      <td>7.4</td>\n",
              "      <td>0.7</td>\n",
              "      <td>0.00</td>\n",
              "      <td>11.0</td>\n",
              "      <td>34.0</td>\n",
              "      <td>3.51</td>\n",
              "      <td>low</td>\n",
              "      <td>0.323529</td>\n",
              "      <td>few</td>\n",
              "      <td>high</td>\n",
              "    </tr>\n",
              "    <tr>\n",
              "      <th>...</th>\n",
              "      <td>...</td>\n",
              "      <td>...</td>\n",
              "      <td>...</td>\n",
              "      <td>...</td>\n",
              "      <td>...</td>\n",
              "      <td>...</td>\n",
              "      <td>...</td>\n",
              "      <td>...</td>\n",
              "      <td>...</td>\n",
              "      <td>...</td>\n",
              "    </tr>\n",
              "    <tr>\n",
              "      <th>1594</th>\n",
              "      <td>6.2</td>\n",
              "      <td>0.6</td>\n",
              "      <td>0.08</td>\n",
              "      <td>32.0</td>\n",
              "      <td>44.0</td>\n",
              "      <td>3.45</td>\n",
              "      <td>low</td>\n",
              "      <td>0.727273</td>\n",
              "      <td>few</td>\n",
              "      <td>high</td>\n",
              "    </tr>\n",
              "    <tr>\n",
              "      <th>1595</th>\n",
              "      <td>5.9</td>\n",
              "      <td>0.55</td>\n",
              "      <td>0.10</td>\n",
              "      <td>39.0</td>\n",
              "      <td>51.0</td>\n",
              "      <td>3.52</td>\n",
              "      <td>high</td>\n",
              "      <td>0.764706</td>\n",
              "      <td>some</td>\n",
              "      <td>high</td>\n",
              "    </tr>\n",
              "    <tr>\n",
              "      <th>1596</th>\n",
              "      <td>6.3</td>\n",
              "      <td>0.51</td>\n",
              "      <td>0.13</td>\n",
              "      <td>29.0</td>\n",
              "      <td>40.0</td>\n",
              "      <td>3.42</td>\n",
              "      <td>high</td>\n",
              "      <td>0.725000</td>\n",
              "      <td>some</td>\n",
              "      <td>high</td>\n",
              "    </tr>\n",
              "    <tr>\n",
              "      <th>1597</th>\n",
              "      <td>5.9</td>\n",
              "      <td>0.645</td>\n",
              "      <td>0.12</td>\n",
              "      <td>32.0</td>\n",
              "      <td>44.0</td>\n",
              "      <td>3.57</td>\n",
              "      <td>low</td>\n",
              "      <td>0.727273</td>\n",
              "      <td>some</td>\n",
              "      <td>high</td>\n",
              "    </tr>\n",
              "    <tr>\n",
              "      <th>1598</th>\n",
              "      <td>6</td>\n",
              "      <td>0.31</td>\n",
              "      <td>0.47</td>\n",
              "      <td>18.0</td>\n",
              "      <td>42.0</td>\n",
              "      <td>3.39</td>\n",
              "      <td>high</td>\n",
              "      <td>0.428571</td>\n",
              "      <td>some</td>\n",
              "      <td>high</td>\n",
              "    </tr>\n",
              "  </tbody>\n",
              "</table>\n",
              "<p>1599 rows × 10 columns</p>\n",
              "</div>"
            ],
            "text/plain": [
              "0    fixed acidity volatile acidity  ...  citricacid_amount  freesulflevel\n",
              "0              7.4              0.7  ...                few           high\n",
              "1              7.8             0.88  ...                few           high\n",
              "2              7.8             0.76  ...                few            low\n",
              "3             11.2             0.28  ...               some            low\n",
              "4              7.4              0.7  ...                few           high\n",
              "...            ...              ...  ...                ...            ...\n",
              "1594           6.2              0.6  ...                few           high\n",
              "1595           5.9             0.55  ...               some           high\n",
              "1596           6.3             0.51  ...               some           high\n",
              "1597           5.9            0.645  ...               some           high\n",
              "1598             6             0.31  ...               some           high\n",
              "\n",
              "[1599 rows x 10 columns]"
            ]
          },
          "metadata": {
            "tags": []
          },
          "execution_count": 177
        }
      ]
    },
    {
      "cell_type": "code",
      "metadata": {
        "colab_type": "code",
        "outputId": "6a4c4f0e-285d-40ce-821b-768d18d6df31",
        "id": "yDviGrYsuc1R",
        "colab": {
          "base_uri": "https://localhost:8080/",
          "height": 419
        }
      },
      "source": [
        "\n",
        "#function for categorize ph value\n",
        "def PHrate(x):\n",
        "    '''this function tries to categorize the numerical value \n",
        "     '''\n",
        "    if x < 3.3:\n",
        "        return 'low'\n",
        "    elif 3.3 < x < 3.8:\n",
        "        return 'medium'\n",
        "    return 'high'\n",
        "acid_model['PHlevel'] = acid_model['pH'].apply(PHrate)\n",
        "acid_model"
      ],
      "execution_count": 178,
      "outputs": [
        {
          "output_type": "execute_result",
          "data": {
            "text/html": [
              "<div>\n",
              "<style scoped>\n",
              "    .dataframe tbody tr th:only-of-type {\n",
              "        vertical-align: middle;\n",
              "    }\n",
              "\n",
              "    .dataframe tbody tr th {\n",
              "        vertical-align: top;\n",
              "    }\n",
              "\n",
              "    .dataframe thead th {\n",
              "        text-align: right;\n",
              "    }\n",
              "</style>\n",
              "<table border=\"1\" class=\"dataframe\">\n",
              "  <thead>\n",
              "    <tr style=\"text-align: right;\">\n",
              "      <th></th>\n",
              "      <th>fixed acidity</th>\n",
              "      <th>volatile acidity</th>\n",
              "      <th>citric acid</th>\n",
              "      <th>free sulfur dioxide</th>\n",
              "      <th>total sulfur dioxide</th>\n",
              "      <th>pH</th>\n",
              "      <th>quality</th>\n",
              "      <th>freesulf_rate</th>\n",
              "      <th>citricacid_amount</th>\n",
              "      <th>freesulflevel</th>\n",
              "      <th>PHlevel</th>\n",
              "    </tr>\n",
              "  </thead>\n",
              "  <tbody>\n",
              "    <tr>\n",
              "      <th>0</th>\n",
              "      <td>7.4</td>\n",
              "      <td>0.7</td>\n",
              "      <td>0.00</td>\n",
              "      <td>11.0</td>\n",
              "      <td>34.0</td>\n",
              "      <td>3.51</td>\n",
              "      <td>low</td>\n",
              "      <td>0.323529</td>\n",
              "      <td>few</td>\n",
              "      <td>high</td>\n",
              "      <td>medium</td>\n",
              "    </tr>\n",
              "    <tr>\n",
              "      <th>1</th>\n",
              "      <td>7.8</td>\n",
              "      <td>0.88</td>\n",
              "      <td>0.00</td>\n",
              "      <td>25.0</td>\n",
              "      <td>67.0</td>\n",
              "      <td>3.20</td>\n",
              "      <td>low</td>\n",
              "      <td>0.373134</td>\n",
              "      <td>few</td>\n",
              "      <td>high</td>\n",
              "      <td>low</td>\n",
              "    </tr>\n",
              "    <tr>\n",
              "      <th>2</th>\n",
              "      <td>7.8</td>\n",
              "      <td>0.76</td>\n",
              "      <td>0.04</td>\n",
              "      <td>15.0</td>\n",
              "      <td>54.0</td>\n",
              "      <td>3.26</td>\n",
              "      <td>low</td>\n",
              "      <td>0.277778</td>\n",
              "      <td>few</td>\n",
              "      <td>low</td>\n",
              "      <td>low</td>\n",
              "    </tr>\n",
              "    <tr>\n",
              "      <th>3</th>\n",
              "      <td>11.2</td>\n",
              "      <td>0.28</td>\n",
              "      <td>0.56</td>\n",
              "      <td>17.0</td>\n",
              "      <td>60.0</td>\n",
              "      <td>3.16</td>\n",
              "      <td>high</td>\n",
              "      <td>0.283333</td>\n",
              "      <td>some</td>\n",
              "      <td>low</td>\n",
              "      <td>low</td>\n",
              "    </tr>\n",
              "    <tr>\n",
              "      <th>4</th>\n",
              "      <td>7.4</td>\n",
              "      <td>0.7</td>\n",
              "      <td>0.00</td>\n",
              "      <td>11.0</td>\n",
              "      <td>34.0</td>\n",
              "      <td>3.51</td>\n",
              "      <td>low</td>\n",
              "      <td>0.323529</td>\n",
              "      <td>few</td>\n",
              "      <td>high</td>\n",
              "      <td>medium</td>\n",
              "    </tr>\n",
              "    <tr>\n",
              "      <th>...</th>\n",
              "      <td>...</td>\n",
              "      <td>...</td>\n",
              "      <td>...</td>\n",
              "      <td>...</td>\n",
              "      <td>...</td>\n",
              "      <td>...</td>\n",
              "      <td>...</td>\n",
              "      <td>...</td>\n",
              "      <td>...</td>\n",
              "      <td>...</td>\n",
              "      <td>...</td>\n",
              "    </tr>\n",
              "    <tr>\n",
              "      <th>1594</th>\n",
              "      <td>6.2</td>\n",
              "      <td>0.6</td>\n",
              "      <td>0.08</td>\n",
              "      <td>32.0</td>\n",
              "      <td>44.0</td>\n",
              "      <td>3.45</td>\n",
              "      <td>low</td>\n",
              "      <td>0.727273</td>\n",
              "      <td>few</td>\n",
              "      <td>high</td>\n",
              "      <td>medium</td>\n",
              "    </tr>\n",
              "    <tr>\n",
              "      <th>1595</th>\n",
              "      <td>5.9</td>\n",
              "      <td>0.55</td>\n",
              "      <td>0.10</td>\n",
              "      <td>39.0</td>\n",
              "      <td>51.0</td>\n",
              "      <td>3.52</td>\n",
              "      <td>high</td>\n",
              "      <td>0.764706</td>\n",
              "      <td>some</td>\n",
              "      <td>high</td>\n",
              "      <td>medium</td>\n",
              "    </tr>\n",
              "    <tr>\n",
              "      <th>1596</th>\n",
              "      <td>6.3</td>\n",
              "      <td>0.51</td>\n",
              "      <td>0.13</td>\n",
              "      <td>29.0</td>\n",
              "      <td>40.0</td>\n",
              "      <td>3.42</td>\n",
              "      <td>high</td>\n",
              "      <td>0.725000</td>\n",
              "      <td>some</td>\n",
              "      <td>high</td>\n",
              "      <td>medium</td>\n",
              "    </tr>\n",
              "    <tr>\n",
              "      <th>1597</th>\n",
              "      <td>5.9</td>\n",
              "      <td>0.645</td>\n",
              "      <td>0.12</td>\n",
              "      <td>32.0</td>\n",
              "      <td>44.0</td>\n",
              "      <td>3.57</td>\n",
              "      <td>low</td>\n",
              "      <td>0.727273</td>\n",
              "      <td>some</td>\n",
              "      <td>high</td>\n",
              "      <td>medium</td>\n",
              "    </tr>\n",
              "    <tr>\n",
              "      <th>1598</th>\n",
              "      <td>6</td>\n",
              "      <td>0.31</td>\n",
              "      <td>0.47</td>\n",
              "      <td>18.0</td>\n",
              "      <td>42.0</td>\n",
              "      <td>3.39</td>\n",
              "      <td>high</td>\n",
              "      <td>0.428571</td>\n",
              "      <td>some</td>\n",
              "      <td>high</td>\n",
              "      <td>medium</td>\n",
              "    </tr>\n",
              "  </tbody>\n",
              "</table>\n",
              "<p>1599 rows × 11 columns</p>\n",
              "</div>"
            ],
            "text/plain": [
              "0    fixed acidity volatile acidity  ...  freesulflevel  PHlevel\n",
              "0              7.4              0.7  ...           high   medium\n",
              "1              7.8             0.88  ...           high      low\n",
              "2              7.8             0.76  ...            low      low\n",
              "3             11.2             0.28  ...            low      low\n",
              "4              7.4              0.7  ...           high   medium\n",
              "...            ...              ...  ...            ...      ...\n",
              "1594           6.2              0.6  ...           high   medium\n",
              "1595           5.9             0.55  ...           high   medium\n",
              "1596           6.3             0.51  ...           high   medium\n",
              "1597           5.9            0.645  ...           high   medium\n",
              "1598             6             0.31  ...           high   medium\n",
              "\n",
              "[1599 rows x 11 columns]"
            ]
          },
          "metadata": {
            "tags": []
          },
          "execution_count": 178
        }
      ]
    },
    {
      "cell_type": "markdown",
      "metadata": {
        "id": "__k2Af-Hv0qM",
        "colab_type": "text"
      },
      "source": [
        "Based on one article I read, volatile acid is believe to be bad to the wine, therefore I also will test that to make an categorical term for it."
      ]
    },
    {
      "cell_type": "code",
      "metadata": {
        "id": "CNAmvsuRwOb1",
        "colab_type": "code",
        "colab": {}
      },
      "source": [
        "acid_model['volatile acidity']=pd.to_numeric(acid_model['volatile acidity']) "
      ],
      "execution_count": 0,
      "outputs": []
    },
    {
      "cell_type": "code",
      "metadata": {
        "id": "1R3E2uFFwYEX",
        "colab_type": "code",
        "outputId": "34067d74-eb55-445e-ebc5-bd3c589d60ae",
        "colab": {
          "base_uri": "https://localhost:8080/",
          "height": 419
        }
      },
      "source": [
        "#function for categorize volatile acidity\n",
        "def varate(x):\n",
        "    '''this function tries to categorize the numerical value \n",
        "     '''\n",
        "    if x < .3:\n",
        "        return 'weak'\n",
        "    elif .3 < x < .6:\n",
        "        return 'medium'\n",
        "    return 'strong'\n",
        "acid_model['vola_acid_level'] = acid_model['volatile acidity'].apply(varate)\n",
        "acid_model"
      ],
      "execution_count": 180,
      "outputs": [
        {
          "output_type": "execute_result",
          "data": {
            "text/html": [
              "<div>\n",
              "<style scoped>\n",
              "    .dataframe tbody tr th:only-of-type {\n",
              "        vertical-align: middle;\n",
              "    }\n",
              "\n",
              "    .dataframe tbody tr th {\n",
              "        vertical-align: top;\n",
              "    }\n",
              "\n",
              "    .dataframe thead th {\n",
              "        text-align: right;\n",
              "    }\n",
              "</style>\n",
              "<table border=\"1\" class=\"dataframe\">\n",
              "  <thead>\n",
              "    <tr style=\"text-align: right;\">\n",
              "      <th></th>\n",
              "      <th>fixed acidity</th>\n",
              "      <th>volatile acidity</th>\n",
              "      <th>citric acid</th>\n",
              "      <th>free sulfur dioxide</th>\n",
              "      <th>total sulfur dioxide</th>\n",
              "      <th>pH</th>\n",
              "      <th>quality</th>\n",
              "      <th>freesulf_rate</th>\n",
              "      <th>citricacid_amount</th>\n",
              "      <th>freesulflevel</th>\n",
              "      <th>PHlevel</th>\n",
              "      <th>vola_acid_level</th>\n",
              "    </tr>\n",
              "  </thead>\n",
              "  <tbody>\n",
              "    <tr>\n",
              "      <th>0</th>\n",
              "      <td>7.4</td>\n",
              "      <td>0.700</td>\n",
              "      <td>0.00</td>\n",
              "      <td>11.0</td>\n",
              "      <td>34.0</td>\n",
              "      <td>3.51</td>\n",
              "      <td>low</td>\n",
              "      <td>0.323529</td>\n",
              "      <td>few</td>\n",
              "      <td>high</td>\n",
              "      <td>medium</td>\n",
              "      <td>strong</td>\n",
              "    </tr>\n",
              "    <tr>\n",
              "      <th>1</th>\n",
              "      <td>7.8</td>\n",
              "      <td>0.880</td>\n",
              "      <td>0.00</td>\n",
              "      <td>25.0</td>\n",
              "      <td>67.0</td>\n",
              "      <td>3.20</td>\n",
              "      <td>low</td>\n",
              "      <td>0.373134</td>\n",
              "      <td>few</td>\n",
              "      <td>high</td>\n",
              "      <td>low</td>\n",
              "      <td>strong</td>\n",
              "    </tr>\n",
              "    <tr>\n",
              "      <th>2</th>\n",
              "      <td>7.8</td>\n",
              "      <td>0.760</td>\n",
              "      <td>0.04</td>\n",
              "      <td>15.0</td>\n",
              "      <td>54.0</td>\n",
              "      <td>3.26</td>\n",
              "      <td>low</td>\n",
              "      <td>0.277778</td>\n",
              "      <td>few</td>\n",
              "      <td>low</td>\n",
              "      <td>low</td>\n",
              "      <td>strong</td>\n",
              "    </tr>\n",
              "    <tr>\n",
              "      <th>3</th>\n",
              "      <td>11.2</td>\n",
              "      <td>0.280</td>\n",
              "      <td>0.56</td>\n",
              "      <td>17.0</td>\n",
              "      <td>60.0</td>\n",
              "      <td>3.16</td>\n",
              "      <td>high</td>\n",
              "      <td>0.283333</td>\n",
              "      <td>some</td>\n",
              "      <td>low</td>\n",
              "      <td>low</td>\n",
              "      <td>weak</td>\n",
              "    </tr>\n",
              "    <tr>\n",
              "      <th>4</th>\n",
              "      <td>7.4</td>\n",
              "      <td>0.700</td>\n",
              "      <td>0.00</td>\n",
              "      <td>11.0</td>\n",
              "      <td>34.0</td>\n",
              "      <td>3.51</td>\n",
              "      <td>low</td>\n",
              "      <td>0.323529</td>\n",
              "      <td>few</td>\n",
              "      <td>high</td>\n",
              "      <td>medium</td>\n",
              "      <td>strong</td>\n",
              "    </tr>\n",
              "    <tr>\n",
              "      <th>...</th>\n",
              "      <td>...</td>\n",
              "      <td>...</td>\n",
              "      <td>...</td>\n",
              "      <td>...</td>\n",
              "      <td>...</td>\n",
              "      <td>...</td>\n",
              "      <td>...</td>\n",
              "      <td>...</td>\n",
              "      <td>...</td>\n",
              "      <td>...</td>\n",
              "      <td>...</td>\n",
              "      <td>...</td>\n",
              "    </tr>\n",
              "    <tr>\n",
              "      <th>1594</th>\n",
              "      <td>6.2</td>\n",
              "      <td>0.600</td>\n",
              "      <td>0.08</td>\n",
              "      <td>32.0</td>\n",
              "      <td>44.0</td>\n",
              "      <td>3.45</td>\n",
              "      <td>low</td>\n",
              "      <td>0.727273</td>\n",
              "      <td>few</td>\n",
              "      <td>high</td>\n",
              "      <td>medium</td>\n",
              "      <td>strong</td>\n",
              "    </tr>\n",
              "    <tr>\n",
              "      <th>1595</th>\n",
              "      <td>5.9</td>\n",
              "      <td>0.550</td>\n",
              "      <td>0.10</td>\n",
              "      <td>39.0</td>\n",
              "      <td>51.0</td>\n",
              "      <td>3.52</td>\n",
              "      <td>high</td>\n",
              "      <td>0.764706</td>\n",
              "      <td>some</td>\n",
              "      <td>high</td>\n",
              "      <td>medium</td>\n",
              "      <td>medium</td>\n",
              "    </tr>\n",
              "    <tr>\n",
              "      <th>1596</th>\n",
              "      <td>6.3</td>\n",
              "      <td>0.510</td>\n",
              "      <td>0.13</td>\n",
              "      <td>29.0</td>\n",
              "      <td>40.0</td>\n",
              "      <td>3.42</td>\n",
              "      <td>high</td>\n",
              "      <td>0.725000</td>\n",
              "      <td>some</td>\n",
              "      <td>high</td>\n",
              "      <td>medium</td>\n",
              "      <td>medium</td>\n",
              "    </tr>\n",
              "    <tr>\n",
              "      <th>1597</th>\n",
              "      <td>5.9</td>\n",
              "      <td>0.645</td>\n",
              "      <td>0.12</td>\n",
              "      <td>32.0</td>\n",
              "      <td>44.0</td>\n",
              "      <td>3.57</td>\n",
              "      <td>low</td>\n",
              "      <td>0.727273</td>\n",
              "      <td>some</td>\n",
              "      <td>high</td>\n",
              "      <td>medium</td>\n",
              "      <td>strong</td>\n",
              "    </tr>\n",
              "    <tr>\n",
              "      <th>1598</th>\n",
              "      <td>6</td>\n",
              "      <td>0.310</td>\n",
              "      <td>0.47</td>\n",
              "      <td>18.0</td>\n",
              "      <td>42.0</td>\n",
              "      <td>3.39</td>\n",
              "      <td>high</td>\n",
              "      <td>0.428571</td>\n",
              "      <td>some</td>\n",
              "      <td>high</td>\n",
              "      <td>medium</td>\n",
              "      <td>medium</td>\n",
              "    </tr>\n",
              "  </tbody>\n",
              "</table>\n",
              "<p>1599 rows × 12 columns</p>\n",
              "</div>"
            ],
            "text/plain": [
              "0    fixed acidity  volatile acidity  ...  PHlevel  vola_acid_level\n",
              "0              7.4             0.700  ...   medium           strong\n",
              "1              7.8             0.880  ...      low           strong\n",
              "2              7.8             0.760  ...      low           strong\n",
              "3             11.2             0.280  ...      low             weak\n",
              "4              7.4             0.700  ...   medium           strong\n",
              "...            ...               ...  ...      ...              ...\n",
              "1594           6.2             0.600  ...   medium           strong\n",
              "1595           5.9             0.550  ...   medium           medium\n",
              "1596           6.3             0.510  ...   medium           medium\n",
              "1597           5.9             0.645  ...   medium           strong\n",
              "1598             6             0.310  ...   medium           medium\n",
              "\n",
              "[1599 rows x 12 columns]"
            ]
          },
          "metadata": {
            "tags": []
          },
          "execution_count": 180
        }
      ]
    },
    {
      "cell_type": "markdown",
      "metadata": {
        "id": "PtVo3thZehTs",
        "colab_type": "text"
      },
      "source": [
        "## Part 3: Exploratory Data Analysis (EDA) ##\n",
        "To explore the data, I firstly need to make sure how dimensions are distributed in the data set.  We still need to check the data ratio fist."
      ]
    },
    {
      "cell_type": "code",
      "metadata": {
        "id": "F94cTT80ehTt",
        "colab_type": "code",
        "outputId": "11ca121b-9904-4f40-d73c-9776c81a084b",
        "colab": {
          "base_uri": "https://localhost:8080/",
          "height": 142
        }
      },
      "source": [
        "acid_model_qt = acid_model.groupby(['quality']).size().to_frame('Count') #counts distribution of quality  \n",
        "acid_model_qt"
      ],
      "execution_count": 181,
      "outputs": [
        {
          "output_type": "execute_result",
          "data": {
            "text/html": [
              "<div>\n",
              "<style scoped>\n",
              "    .dataframe tbody tr th:only-of-type {\n",
              "        vertical-align: middle;\n",
              "    }\n",
              "\n",
              "    .dataframe tbody tr th {\n",
              "        vertical-align: top;\n",
              "    }\n",
              "\n",
              "    .dataframe thead th {\n",
              "        text-align: right;\n",
              "    }\n",
              "</style>\n",
              "<table border=\"1\" class=\"dataframe\">\n",
              "  <thead>\n",
              "    <tr style=\"text-align: right;\">\n",
              "      <th></th>\n",
              "      <th>Count</th>\n",
              "    </tr>\n",
              "    <tr>\n",
              "      <th>quality</th>\n",
              "      <th></th>\n",
              "    </tr>\n",
              "  </thead>\n",
              "  <tbody>\n",
              "    <tr>\n",
              "      <th>high</th>\n",
              "      <td>855</td>\n",
              "    </tr>\n",
              "    <tr>\n",
              "      <th>low</th>\n",
              "      <td>744</td>\n",
              "    </tr>\n",
              "  </tbody>\n",
              "</table>\n",
              "</div>"
            ],
            "text/plain": [
              "         Count\n",
              "quality       \n",
              "high       855\n",
              "low        744"
            ]
          },
          "metadata": {
            "tags": []
          },
          "execution_count": 181
        }
      ]
    },
    {
      "cell_type": "markdown",
      "metadata": {
        "id": "atKDHu70ehTy",
        "colab_type": "text"
      },
      "source": [
        "Wine quality is about equal size , and it was well distributed. it is about 53.5% to get high quality wine by random selection.\n"
      ]
    },
    {
      "cell_type": "code",
      "metadata": {
        "id": "rSSKa4uOehTz",
        "colab_type": "code",
        "outputId": "f1de5acb-4b01-4bcf-ef56-01c0bc29054e",
        "colab": {
          "base_uri": "https://localhost:8080/",
          "height": 142
        }
      },
      "source": [
        "acid_model_ca = acid_model.groupby(['citricacid_amount']).size().to_frame('Count') #counts distribution of quality  \n",
        "acid_model_ca"
      ],
      "execution_count": 182,
      "outputs": [
        {
          "output_type": "execute_result",
          "data": {
            "text/html": [
              "<div>\n",
              "<style scoped>\n",
              "    .dataframe tbody tr th:only-of-type {\n",
              "        vertical-align: middle;\n",
              "    }\n",
              "\n",
              "    .dataframe tbody tr th {\n",
              "        vertical-align: top;\n",
              "    }\n",
              "\n",
              "    .dataframe thead th {\n",
              "        text-align: right;\n",
              "    }\n",
              "</style>\n",
              "<table border=\"1\" class=\"dataframe\">\n",
              "  <thead>\n",
              "    <tr style=\"text-align: right;\">\n",
              "      <th></th>\n",
              "      <th>Count</th>\n",
              "    </tr>\n",
              "    <tr>\n",
              "      <th>citricacid_amount</th>\n",
              "      <th></th>\n",
              "    </tr>\n",
              "  </thead>\n",
              "  <tbody>\n",
              "    <tr>\n",
              "      <th>few</th>\n",
              "      <td>403</td>\n",
              "    </tr>\n",
              "    <tr>\n",
              "      <th>some</th>\n",
              "      <td>1196</td>\n",
              "    </tr>\n",
              "  </tbody>\n",
              "</table>\n",
              "</div>"
            ],
            "text/plain": [
              "                   Count\n",
              "citricacid_amount       \n",
              "few                  403\n",
              "some                1196"
            ]
          },
          "metadata": {
            "tags": []
          },
          "execution_count": 182
        }
      ]
    },
    {
      "cell_type": "code",
      "metadata": {
        "id": "URv6MuqMehT3",
        "colab_type": "code",
        "outputId": "7409e181-19de-4b80-aaf3-3b1f881418fb",
        "colab": {
          "base_uri": "https://localhost:8080/",
          "height": 173
        }
      },
      "source": [
        "#counts distribution of model \n",
        "acid_model_ph = acid_model.groupby(['PHlevel']).size().to_frame('Count') \n",
        "acid_model_ph"
      ],
      "execution_count": 183,
      "outputs": [
        {
          "output_type": "execute_result",
          "data": {
            "text/html": [
              "<div>\n",
              "<style scoped>\n",
              "    .dataframe tbody tr th:only-of-type {\n",
              "        vertical-align: middle;\n",
              "    }\n",
              "\n",
              "    .dataframe tbody tr th {\n",
              "        vertical-align: top;\n",
              "    }\n",
              "\n",
              "    .dataframe thead th {\n",
              "        text-align: right;\n",
              "    }\n",
              "</style>\n",
              "<table border=\"1\" class=\"dataframe\">\n",
              "  <thead>\n",
              "    <tr style=\"text-align: right;\">\n",
              "      <th></th>\n",
              "      <th>Count</th>\n",
              "    </tr>\n",
              "    <tr>\n",
              "      <th>PHlevel</th>\n",
              "      <th></th>\n",
              "    </tr>\n",
              "  </thead>\n",
              "  <tbody>\n",
              "    <tr>\n",
              "      <th>high</th>\n",
              "      <td>62</td>\n",
              "    </tr>\n",
              "    <tr>\n",
              "      <th>low</th>\n",
              "      <td>726</td>\n",
              "    </tr>\n",
              "    <tr>\n",
              "      <th>medium</th>\n",
              "      <td>811</td>\n",
              "    </tr>\n",
              "  </tbody>\n",
              "</table>\n",
              "</div>"
            ],
            "text/plain": [
              "         Count\n",
              "PHlevel       \n",
              "high        62\n",
              "low        726\n",
              "medium     811"
            ]
          },
          "metadata": {
            "tags": []
          },
          "execution_count": 183
        }
      ]
    },
    {
      "cell_type": "code",
      "metadata": {
        "colab_type": "code",
        "outputId": "76998798-9241-447c-bb47-29665d15c57f",
        "id": "5ELQEoCnT3IW",
        "colab": {
          "base_uri": "https://localhost:8080/",
          "height": 173
        }
      },
      "source": [
        "#create a dataframe to calculate count of model byfew citriacid\n",
        "acid_model_cm =acid_model.groupby(['citricacid_amount','quality'],as_index=False)['PHlevel'].count()\n",
        "acid_model_cm.rename(columns={'PHlevel':'Count'},inplace=True)\n",
        "acid_model_cm"
      ],
      "execution_count": 184,
      "outputs": [
        {
          "output_type": "execute_result",
          "data": {
            "text/html": [
              "<div>\n",
              "<style scoped>\n",
              "    .dataframe tbody tr th:only-of-type {\n",
              "        vertical-align: middle;\n",
              "    }\n",
              "\n",
              "    .dataframe tbody tr th {\n",
              "        vertical-align: top;\n",
              "    }\n",
              "\n",
              "    .dataframe thead th {\n",
              "        text-align: right;\n",
              "    }\n",
              "</style>\n",
              "<table border=\"1\" class=\"dataframe\">\n",
              "  <thead>\n",
              "    <tr style=\"text-align: right;\">\n",
              "      <th></th>\n",
              "      <th>citricacid_amount</th>\n",
              "      <th>quality</th>\n",
              "      <th>Count</th>\n",
              "    </tr>\n",
              "  </thead>\n",
              "  <tbody>\n",
              "    <tr>\n",
              "      <th>0</th>\n",
              "      <td>few</td>\n",
              "      <td>high</td>\n",
              "      <td>194</td>\n",
              "    </tr>\n",
              "    <tr>\n",
              "      <th>1</th>\n",
              "      <td>few</td>\n",
              "      <td>low</td>\n",
              "      <td>209</td>\n",
              "    </tr>\n",
              "    <tr>\n",
              "      <th>2</th>\n",
              "      <td>some</td>\n",
              "      <td>high</td>\n",
              "      <td>661</td>\n",
              "    </tr>\n",
              "    <tr>\n",
              "      <th>3</th>\n",
              "      <td>some</td>\n",
              "      <td>low</td>\n",
              "      <td>535</td>\n",
              "    </tr>\n",
              "  </tbody>\n",
              "</table>\n",
              "</div>"
            ],
            "text/plain": [
              "0 citricacid_amount quality  Count\n",
              "0               few    high    194\n",
              "1               few     low    209\n",
              "2              some    high    661\n",
              "3              some     low    535"
            ]
          },
          "metadata": {
            "tags": []
          },
          "execution_count": 184
        }
      ]
    },
    {
      "cell_type": "code",
      "metadata": {
        "id": "n90thAnuehUE",
        "colab_type": "code",
        "outputId": "5709d5dc-5c60-4600-be8d-a39bee2ad021",
        "colab": {
          "base_uri": "https://localhost:8080/",
          "height": 235
        }
      },
      "source": [
        "#create a dataframe for ph level\n",
        "acid_model_phlevel =acid_model.groupby(['PHlevel','quality'],as_index=False)['citricacid_amount'].count()\n",
        "acid_model_phlevel.rename(columns={'citricacid_amount':'Count'},inplace=True)\n",
        "acid_model_phlevel"
      ],
      "execution_count": 185,
      "outputs": [
        {
          "output_type": "execute_result",
          "data": {
            "text/html": [
              "<div>\n",
              "<style scoped>\n",
              "    .dataframe tbody tr th:only-of-type {\n",
              "        vertical-align: middle;\n",
              "    }\n",
              "\n",
              "    .dataframe tbody tr th {\n",
              "        vertical-align: top;\n",
              "    }\n",
              "\n",
              "    .dataframe thead th {\n",
              "        text-align: right;\n",
              "    }\n",
              "</style>\n",
              "<table border=\"1\" class=\"dataframe\">\n",
              "  <thead>\n",
              "    <tr style=\"text-align: right;\">\n",
              "      <th></th>\n",
              "      <th>PHlevel</th>\n",
              "      <th>quality</th>\n",
              "      <th>Count</th>\n",
              "    </tr>\n",
              "  </thead>\n",
              "  <tbody>\n",
              "    <tr>\n",
              "      <th>0</th>\n",
              "      <td>high</td>\n",
              "      <td>high</td>\n",
              "      <td>35</td>\n",
              "    </tr>\n",
              "    <tr>\n",
              "      <th>1</th>\n",
              "      <td>high</td>\n",
              "      <td>low</td>\n",
              "      <td>27</td>\n",
              "    </tr>\n",
              "    <tr>\n",
              "      <th>2</th>\n",
              "      <td>low</td>\n",
              "      <td>high</td>\n",
              "      <td>382</td>\n",
              "    </tr>\n",
              "    <tr>\n",
              "      <th>3</th>\n",
              "      <td>low</td>\n",
              "      <td>low</td>\n",
              "      <td>344</td>\n",
              "    </tr>\n",
              "    <tr>\n",
              "      <th>4</th>\n",
              "      <td>medium</td>\n",
              "      <td>high</td>\n",
              "      <td>438</td>\n",
              "    </tr>\n",
              "    <tr>\n",
              "      <th>5</th>\n",
              "      <td>medium</td>\n",
              "      <td>low</td>\n",
              "      <td>373</td>\n",
              "    </tr>\n",
              "  </tbody>\n",
              "</table>\n",
              "</div>"
            ],
            "text/plain": [
              "0 PHlevel quality  Count\n",
              "0    high    high     35\n",
              "1    high     low     27\n",
              "2     low    high    382\n",
              "3     low     low    344\n",
              "4  medium    high    438\n",
              "5  medium     low    373"
            ]
          },
          "metadata": {
            "tags": []
          },
          "execution_count": 185
        }
      ]
    },
    {
      "cell_type": "code",
      "metadata": {
        "colab_type": "code",
        "outputId": "70b4f2d9-79f9-407f-8977-c671345bbc7f",
        "id": "JtvlGF8qiwDU",
        "colab": {
          "base_uri": "https://localhost:8080/",
          "height": 173
        }
      },
      "source": [
        "#create a dataframe  \n",
        "acid_model_freesulflevel =acid_model.groupby(['freesulflevel','quality'],as_index=False)['citricacid_amount'].count()\n",
        "acid_model_freesulflevel.rename(columns={'citricacid_amount':'Count'},inplace=True)\n",
        "acid_model_freesulflevel"
      ],
      "execution_count": 186,
      "outputs": [
        {
          "output_type": "execute_result",
          "data": {
            "text/html": [
              "<div>\n",
              "<style scoped>\n",
              "    .dataframe tbody tr th:only-of-type {\n",
              "        vertical-align: middle;\n",
              "    }\n",
              "\n",
              "    .dataframe tbody tr th {\n",
              "        vertical-align: top;\n",
              "    }\n",
              "\n",
              "    .dataframe thead th {\n",
              "        text-align: right;\n",
              "    }\n",
              "</style>\n",
              "<table border=\"1\" class=\"dataframe\">\n",
              "  <thead>\n",
              "    <tr style=\"text-align: right;\">\n",
              "      <th></th>\n",
              "      <th>freesulflevel</th>\n",
              "      <th>quality</th>\n",
              "      <th>Count</th>\n",
              "    </tr>\n",
              "  </thead>\n",
              "  <tbody>\n",
              "    <tr>\n",
              "      <th>0</th>\n",
              "      <td>high</td>\n",
              "      <td>high</td>\n",
              "      <td>653</td>\n",
              "    </tr>\n",
              "    <tr>\n",
              "      <th>1</th>\n",
              "      <td>high</td>\n",
              "      <td>low</td>\n",
              "      <td>427</td>\n",
              "    </tr>\n",
              "    <tr>\n",
              "      <th>2</th>\n",
              "      <td>low</td>\n",
              "      <td>high</td>\n",
              "      <td>202</td>\n",
              "    </tr>\n",
              "    <tr>\n",
              "      <th>3</th>\n",
              "      <td>low</td>\n",
              "      <td>low</td>\n",
              "      <td>317</td>\n",
              "    </tr>\n",
              "  </tbody>\n",
              "</table>\n",
              "</div>"
            ],
            "text/plain": [
              "0 freesulflevel quality  Count\n",
              "0          high    high    653\n",
              "1          high     low    427\n",
              "2           low    high    202\n",
              "3           low     low    317"
            ]
          },
          "metadata": {
            "tags": []
          },
          "execution_count": 186
        }
      ]
    },
    {
      "cell_type": "code",
      "metadata": {
        "id": "3LWxbCgm1WUU",
        "colab_type": "code",
        "outputId": "a61efdaf-1538-4e9b-8c42-0fb91cb3f308",
        "colab": {
          "base_uri": "https://localhost:8080/",
          "height": 235
        }
      },
      "source": [
        "#create a dataframe  \n",
        "acid_model_vola_acid_level =acid_model.groupby(['vola_acid_level','quality'],as_index=False)['citricacid_amount'].count()\n",
        "acid_model_vola_acid_level.rename(columns={'citricacid_amount':'Count'},inplace=True)\n",
        "acid_model_vola_acid_level"
      ],
      "execution_count": 187,
      "outputs": [
        {
          "output_type": "execute_result",
          "data": {
            "text/html": [
              "<div>\n",
              "<style scoped>\n",
              "    .dataframe tbody tr th:only-of-type {\n",
              "        vertical-align: middle;\n",
              "    }\n",
              "\n",
              "    .dataframe tbody tr th {\n",
              "        vertical-align: top;\n",
              "    }\n",
              "\n",
              "    .dataframe thead th {\n",
              "        text-align: right;\n",
              "    }\n",
              "</style>\n",
              "<table border=\"1\" class=\"dataframe\">\n",
              "  <thead>\n",
              "    <tr style=\"text-align: right;\">\n",
              "      <th></th>\n",
              "      <th>vola_acid_level</th>\n",
              "      <th>quality</th>\n",
              "      <th>Count</th>\n",
              "    </tr>\n",
              "  </thead>\n",
              "  <tbody>\n",
              "    <tr>\n",
              "      <th>0</th>\n",
              "      <td>medium</td>\n",
              "      <td>high</td>\n",
              "      <td>541</td>\n",
              "    </tr>\n",
              "    <tr>\n",
              "      <th>1</th>\n",
              "      <td>medium</td>\n",
              "      <td>low</td>\n",
              "      <td>364</td>\n",
              "    </tr>\n",
              "    <tr>\n",
              "      <th>2</th>\n",
              "      <td>strong</td>\n",
              "      <td>high</td>\n",
              "      <td>207</td>\n",
              "    </tr>\n",
              "    <tr>\n",
              "      <th>3</th>\n",
              "      <td>strong</td>\n",
              "      <td>low</td>\n",
              "      <td>360</td>\n",
              "    </tr>\n",
              "    <tr>\n",
              "      <th>4</th>\n",
              "      <td>weak</td>\n",
              "      <td>high</td>\n",
              "      <td>107</td>\n",
              "    </tr>\n",
              "    <tr>\n",
              "      <th>5</th>\n",
              "      <td>weak</td>\n",
              "      <td>low</td>\n",
              "      <td>20</td>\n",
              "    </tr>\n",
              "  </tbody>\n",
              "</table>\n",
              "</div>"
            ],
            "text/plain": [
              "0 vola_acid_level quality  Count\n",
              "0          medium    high    541\n",
              "1          medium     low    364\n",
              "2          strong    high    207\n",
              "3          strong     low    360\n",
              "4            weak    high    107\n",
              "5            weak     low     20"
            ]
          },
          "metadata": {
            "tags": []
          },
          "execution_count": 187
        }
      ]
    },
    {
      "cell_type": "markdown",
      "metadata": {
        "id": "IQVXR2cMehUQ",
        "colab_type": "text"
      },
      "source": [
        "Based on these results,then we run code to create four graph"
      ]
    },
    {
      "cell_type": "code",
      "metadata": {
        "id": "y5dTIiHgehUS",
        "colab_type": "code",
        "outputId": "b7b673a0-8838-450c-d501-4669bbdb2344",
        "colab": {
          "base_uri": "https://localhost:8080/",
          "height": 622
        }
      },
      "source": [
        "#plot all four attributes based on edibility\n",
        "# define a new figure for plotting\n",
        "plt.figure(figsize=(20,10))\n",
        "\n",
        "\n",
        "#plot Category Distribution\n",
        "\n",
        "plt.subplot(221)\n",
        "#plot bar chart\n",
        "sns.barplot(x='PHlevel',y='Count',hue='quality',data=acid_model_phlevel);\n",
        "\n",
        "# give the plot a title\n",
        "plt.title('  based on PHlevel');\n",
        "\n",
        "\n",
        "#plot Type Distribution\n",
        "plt.subplot(222)\n",
        "#plot bar chart\n",
        "sns.barplot(x='citricacid_amount',y='Count',hue='quality',data=acid_model_cm);\n",
        "\n",
        "# give the plot a title\n",
        "plt.title('  based on citricacid_amount');\n",
        "\n",
        "\n",
        "plt.subplot(223)\n",
        "#plot bar chart\n",
        "sns.barplot(x='freesulflevel',y='Count',hue='quality',data=acid_model_freesulflevel);\n",
        "\n",
        "# give the plot a title\n",
        "plt.title('  based on freesulflevel');\n",
        "\n",
        "plt.subplot(224)\n",
        "#plot bar chart\n",
        "sns.barplot(x='vola_acid_level',y='Count',hue='quality',data=acid_model_vola_acid_level);\n",
        "\n",
        "# give the plot a title\n",
        "plt.title('  based on volatile acid level');\n",
        "\n",
        "\n"
      ],
      "execution_count": 188,
      "outputs": [
        {
          "output_type": "display_data",
          "data": {
            "image/png": "[encoded data removed]",
            "text/plain": [
              "<Figure size 1440x720 with 4 Axes>"
            ]
          },
          "metadata": {
            "tags": []
          }
        }
      ]
    },
    {
      "cell_type": "markdown",
      "metadata": {
        "id": "-l--qC8cehUV",
        "colab_type": "text"
      },
      "source": [
        "### Some insights and findings based on the plots:###\n",
        "Just take a general look of the pattern of the data, we can see certain patterns based on graph.\n",
        "\n",
        "\n",
        "- Ph level is not a good indicator, there is barely the difference, although by ratio, with low or medium Ph level( it means it is more acidity, there is more higher quality wine by ratio.\n",
        "\n",
        "- citricacid amount is a fine indicator. it is obviously with some level of citric acid help to predict it is more likely to be good wine. Since with few citric acid, it is almost equal likely to be good or bad wine.\n",
        "\n",
        "\n",
        "- free sulfur level is a good indicator, since we already know sample size of good and bad wine is about the same.By random chance, with higher free sulfur level, it is 40% chance to get a higher quality wine compared with bad one. Similarly, for a low free sulfur level, it is also definite higher chance to get a bad quality wine by random choice.\n",
        "\n",
        "\n",
        "- Volatile acid is a good indicator. As the article[reference 2] declared, volatile acid does make wine to be bad. with a weak volatile acid level, the chance of getting good quality wine is much higher than the low quality wine. \n",
        "\n"
      ]
    },
    {
      "cell_type": "markdown",
      "metadata": {
        "colab_type": "text",
        "id": "wQWteIRob54-"
      },
      "source": [
        "## Part 4: Statistical Test ##\n",
        "\n",
        "Although previous Exploratory Data Analysis gave some insights on the possible correlation on these categorical attributes. we still use some statistical method to test it. \n",
        "We use the Chi-square distribution for categorical attributes.\n",
        "ALong with previous ploteed graph, I also emphasize on these attributes, citric acid amount, phlevel, free sulfur level and volatile acid level.\n",
        "Chisquare test is used to test any of these attributes with wine quality."
      ]
    },
    {
      "cell_type": "markdown",
      "metadata": {
        "id": "NEf4_dSwcdmg",
        "colab_type": "text"
      },
      "source": [
        "## For acid model"
      ]
    },
    {
      "cell_type": "code",
      "metadata": {
        "id": "qP29o-KIcmgB",
        "colab_type": "code",
        "colab": {}
      },
      "source": [
        "import pandas as pd\n",
        "from scipy.stats import chi2_contingency,iqr\n",
        "import numpy as np\n",
        "\n",
        "from sklearn.preprocessing import OneHotEncoder\n",
        "from sklearn_pandas import DataFrameMapper\n",
        "import statsmodels.api as sm\n",
        "\n",
        "\n",
        "%matplotlib inline\n",
        "import seaborn as sns\n",
        "import matplotlib.pyplot as plt"
      ],
      "execution_count": 0,
      "outputs": []
    },
    {
      "cell_type": "markdown",
      "metadata": {
        "id": "cxXJblkeEZqf",
        "colab_type": "text"
      },
      "source": [
        "I cleaned data frame to focus on these four attributes only with chisqure test."
      ]
    },
    {
      "cell_type": "code",
      "metadata": {
        "id": "NmegNt1tFe7Y",
        "colab_type": "code",
        "colab": {
          "base_uri": "https://localhost:8080/",
          "height": 419
        },
        "outputId": "f3696eab-2241-446d-ca42-b7ccb9b949f1"
      },
      "source": [
        "acid_model"
      ],
      "execution_count": 190,
      "outputs": [
        {
          "output_type": "execute_result",
          "data": {
            "text/html": [
              "<div>\n",
              "<style scoped>\n",
              "    .dataframe tbody tr th:only-of-type {\n",
              "        vertical-align: middle;\n",
              "    }\n",
              "\n",
              "    .dataframe tbody tr th {\n",
              "        vertical-align: top;\n",
              "    }\n",
              "\n",
              "    .dataframe thead th {\n",
              "        text-align: right;\n",
              "    }\n",
              "</style>\n",
              "<table border=\"1\" class=\"dataframe\">\n",
              "  <thead>\n",
              "    <tr style=\"text-align: right;\">\n",
              "      <th></th>\n",
              "      <th>fixed acidity</th>\n",
              "      <th>volatile acidity</th>\n",
              "      <th>citric acid</th>\n",
              "      <th>free sulfur dioxide</th>\n",
              "      <th>total sulfur dioxide</th>\n",
              "      <th>pH</th>\n",
              "      <th>quality</th>\n",
              "      <th>freesulf_rate</th>\n",
              "      <th>citricacid_amount</th>\n",
              "      <th>freesulflevel</th>\n",
              "      <th>PHlevel</th>\n",
              "      <th>vola_acid_level</th>\n",
              "    </tr>\n",
              "  </thead>\n",
              "  <tbody>\n",
              "    <tr>\n",
              "      <th>0</th>\n",
              "      <td>7.4</td>\n",
              "      <td>0.700</td>\n",
              "      <td>0.00</td>\n",
              "      <td>11.0</td>\n",
              "      <td>34.0</td>\n",
              "      <td>3.51</td>\n",
              "      <td>low</td>\n",
              "      <td>0.323529</td>\n",
              "      <td>few</td>\n",
              "      <td>high</td>\n",
              "      <td>medium</td>\n",
              "      <td>strong</td>\n",
              "    </tr>\n",
              "    <tr>\n",
              "      <th>1</th>\n",
              "      <td>7.8</td>\n",
              "      <td>0.880</td>\n",
              "      <td>0.00</td>\n",
              "      <td>25.0</td>\n",
              "      <td>67.0</td>\n",
              "      <td>3.20</td>\n",
              "      <td>low</td>\n",
              "      <td>0.373134</td>\n",
              "      <td>few</td>\n",
              "      <td>high</td>\n",
              "      <td>low</td>\n",
              "      <td>strong</td>\n",
              "    </tr>\n",
              "    <tr>\n",
              "      <th>2</th>\n",
              "      <td>7.8</td>\n",
              "      <td>0.760</td>\n",
              "      <td>0.04</td>\n",
              "      <td>15.0</td>\n",
              "      <td>54.0</td>\n",
              "      <td>3.26</td>\n",
              "      <td>low</td>\n",
              "      <td>0.277778</td>\n",
              "      <td>few</td>\n",
              "      <td>low</td>\n",
              "      <td>low</td>\n",
              "      <td>strong</td>\n",
              "    </tr>\n",
              "    <tr>\n",
              "      <th>3</th>\n",
              "      <td>11.2</td>\n",
              "      <td>0.280</td>\n",
              "      <td>0.56</td>\n",
              "      <td>17.0</td>\n",
              "      <td>60.0</td>\n",
              "      <td>3.16</td>\n",
              "      <td>high</td>\n",
              "      <td>0.283333</td>\n",
              "      <td>some</td>\n",
              "      <td>low</td>\n",
              "      <td>low</td>\n",
              "      <td>weak</td>\n",
              "    </tr>\n",
              "    <tr>\n",
              "      <th>4</th>\n",
              "      <td>7.4</td>\n",
              "      <td>0.700</td>\n",
              "      <td>0.00</td>\n",
              "      <td>11.0</td>\n",
              "      <td>34.0</td>\n",
              "      <td>3.51</td>\n",
              "      <td>low</td>\n",
              "      <td>0.323529</td>\n",
              "      <td>few</td>\n",
              "      <td>high</td>\n",
              "      <td>medium</td>\n",
              "      <td>strong</td>\n",
              "    </tr>\n",
              "    <tr>\n",
              "      <th>...</th>\n",
              "      <td>...</td>\n",
              "      <td>...</td>\n",
              "      <td>...</td>\n",
              "      <td>...</td>\n",
              "      <td>...</td>\n",
              "      <td>...</td>\n",
              "      <td>...</td>\n",
              "      <td>...</td>\n",
              "      <td>...</td>\n",
              "      <td>...</td>\n",
              "      <td>...</td>\n",
              "      <td>...</td>\n",
              "    </tr>\n",
              "    <tr>\n",
              "      <th>1594</th>\n",
              "      <td>6.2</td>\n",
              "      <td>0.600</td>\n",
              "      <td>0.08</td>\n",
              "      <td>32.0</td>\n",
              "      <td>44.0</td>\n",
              "      <td>3.45</td>\n",
              "      <td>low</td>\n",
              "      <td>0.727273</td>\n",
              "      <td>few</td>\n",
              "      <td>high</td>\n",
              "      <td>medium</td>\n",
              "      <td>strong</td>\n",
              "    </tr>\n",
              "    <tr>\n",
              "      <th>1595</th>\n",
              "      <td>5.9</td>\n",
              "      <td>0.550</td>\n",
              "      <td>0.10</td>\n",
              "      <td>39.0</td>\n",
              "      <td>51.0</td>\n",
              "      <td>3.52</td>\n",
              "      <td>high</td>\n",
              "      <td>0.764706</td>\n",
              "      <td>some</td>\n",
              "      <td>high</td>\n",
              "      <td>medium</td>\n",
              "      <td>medium</td>\n",
              "    </tr>\n",
              "    <tr>\n",
              "      <th>1596</th>\n",
              "      <td>6.3</td>\n",
              "      <td>0.510</td>\n",
              "      <td>0.13</td>\n",
              "      <td>29.0</td>\n",
              "      <td>40.0</td>\n",
              "      <td>3.42</td>\n",
              "      <td>high</td>\n",
              "      <td>0.725000</td>\n",
              "      <td>some</td>\n",
              "      <td>high</td>\n",
              "      <td>medium</td>\n",
              "      <td>medium</td>\n",
              "    </tr>\n",
              "    <tr>\n",
              "      <th>1597</th>\n",
              "      <td>5.9</td>\n",
              "      <td>0.645</td>\n",
              "      <td>0.12</td>\n",
              "      <td>32.0</td>\n",
              "      <td>44.0</td>\n",
              "      <td>3.57</td>\n",
              "      <td>low</td>\n",
              "      <td>0.727273</td>\n",
              "      <td>some</td>\n",
              "      <td>high</td>\n",
              "      <td>medium</td>\n",
              "      <td>strong</td>\n",
              "    </tr>\n",
              "    <tr>\n",
              "      <th>1598</th>\n",
              "      <td>6</td>\n",
              "      <td>0.310</td>\n",
              "      <td>0.47</td>\n",
              "      <td>18.0</td>\n",
              "      <td>42.0</td>\n",
              "      <td>3.39</td>\n",
              "      <td>high</td>\n",
              "      <td>0.428571</td>\n",
              "      <td>some</td>\n",
              "      <td>high</td>\n",
              "      <td>medium</td>\n",
              "      <td>medium</td>\n",
              "    </tr>\n",
              "  </tbody>\n",
              "</table>\n",
              "<p>1599 rows × 12 columns</p>\n",
              "</div>"
            ],
            "text/plain": [
              "0    fixed acidity  volatile acidity  ...  PHlevel  vola_acid_level\n",
              "0              7.4             0.700  ...   medium           strong\n",
              "1              7.8             0.880  ...      low           strong\n",
              "2              7.8             0.760  ...      low           strong\n",
              "3             11.2             0.280  ...      low             weak\n",
              "4              7.4             0.700  ...   medium           strong\n",
              "...            ...               ...  ...      ...              ...\n",
              "1594           6.2             0.600  ...   medium           strong\n",
              "1595           5.9             0.550  ...   medium           medium\n",
              "1596           6.3             0.510  ...   medium           medium\n",
              "1597           5.9             0.645  ...   medium           strong\n",
              "1598             6             0.310  ...   medium           medium\n",
              "\n",
              "[1599 rows x 12 columns]"
            ]
          },
          "metadata": {
            "tags": []
          },
          "execution_count": 190
        }
      ]
    },
    {
      "cell_type": "code",
      "metadata": {
        "id": "vW7bvaOXEkK9",
        "colab_type": "code",
        "colab": {
          "base_uri": "https://localhost:8080/",
          "height": 419
        },
        "outputId": "59e65715-fd87-470c-e742-900bcad79043"
      },
      "source": [
        "#build for chisquare test\n",
        "chi2_model= acid_model.iloc[:,[6, 8, 9,10,11]].copy()\n",
        "chi2_model"
      ],
      "execution_count": 191,
      "outputs": [
        {
          "output_type": "execute_result",
          "data": {
            "text/html": [
              "<div>\n",
              "<style scoped>\n",
              "    .dataframe tbody tr th:only-of-type {\n",
              "        vertical-align: middle;\n",
              "    }\n",
              "\n",
              "    .dataframe tbody tr th {\n",
              "        vertical-align: top;\n",
              "    }\n",
              "\n",
              "    .dataframe thead th {\n",
              "        text-align: right;\n",
              "    }\n",
              "</style>\n",
              "<table border=\"1\" class=\"dataframe\">\n",
              "  <thead>\n",
              "    <tr style=\"text-align: right;\">\n",
              "      <th></th>\n",
              "      <th>quality</th>\n",
              "      <th>citricacid_amount</th>\n",
              "      <th>freesulflevel</th>\n",
              "      <th>PHlevel</th>\n",
              "      <th>vola_acid_level</th>\n",
              "    </tr>\n",
              "  </thead>\n",
              "  <tbody>\n",
              "    <tr>\n",
              "      <th>0</th>\n",
              "      <td>low</td>\n",
              "      <td>few</td>\n",
              "      <td>high</td>\n",
              "      <td>medium</td>\n",
              "      <td>strong</td>\n",
              "    </tr>\n",
              "    <tr>\n",
              "      <th>1</th>\n",
              "      <td>low</td>\n",
              "      <td>few</td>\n",
              "      <td>high</td>\n",
              "      <td>low</td>\n",
              "      <td>strong</td>\n",
              "    </tr>\n",
              "    <tr>\n",
              "      <th>2</th>\n",
              "      <td>low</td>\n",
              "      <td>few</td>\n",
              "      <td>low</td>\n",
              "      <td>low</td>\n",
              "      <td>strong</td>\n",
              "    </tr>\n",
              "    <tr>\n",
              "      <th>3</th>\n",
              "      <td>high</td>\n",
              "      <td>some</td>\n",
              "      <td>low</td>\n",
              "      <td>low</td>\n",
              "      <td>weak</td>\n",
              "    </tr>\n",
              "    <tr>\n",
              "      <th>4</th>\n",
              "      <td>low</td>\n",
              "      <td>few</td>\n",
              "      <td>high</td>\n",
              "      <td>medium</td>\n",
              "      <td>strong</td>\n",
              "    </tr>\n",
              "    <tr>\n",
              "      <th>...</th>\n",
              "      <td>...</td>\n",
              "      <td>...</td>\n",
              "      <td>...</td>\n",
              "      <td>...</td>\n",
              "      <td>...</td>\n",
              "    </tr>\n",
              "    <tr>\n",
              "      <th>1594</th>\n",
              "      <td>low</td>\n",
              "      <td>few</td>\n",
              "      <td>high</td>\n",
              "      <td>medium</td>\n",
              "      <td>strong</td>\n",
              "    </tr>\n",
              "    <tr>\n",
              "      <th>1595</th>\n",
              "      <td>high</td>\n",
              "      <td>some</td>\n",
              "      <td>high</td>\n",
              "      <td>medium</td>\n",
              "      <td>medium</td>\n",
              "    </tr>\n",
              "    <tr>\n",
              "      <th>1596</th>\n",
              "      <td>high</td>\n",
              "      <td>some</td>\n",
              "      <td>high</td>\n",
              "      <td>medium</td>\n",
              "      <td>medium</td>\n",
              "    </tr>\n",
              "    <tr>\n",
              "      <th>1597</th>\n",
              "      <td>low</td>\n",
              "      <td>some</td>\n",
              "      <td>high</td>\n",
              "      <td>medium</td>\n",
              "      <td>strong</td>\n",
              "    </tr>\n",
              "    <tr>\n",
              "      <th>1598</th>\n",
              "      <td>high</td>\n",
              "      <td>some</td>\n",
              "      <td>high</td>\n",
              "      <td>medium</td>\n",
              "      <td>medium</td>\n",
              "    </tr>\n",
              "  </tbody>\n",
              "</table>\n",
              "<p>1599 rows × 5 columns</p>\n",
              "</div>"
            ],
            "text/plain": [
              "0    quality citricacid_amount freesulflevel PHlevel vola_acid_level\n",
              "0        low               few          high  medium          strong\n",
              "1        low               few          high     low          strong\n",
              "2        low               few           low     low          strong\n",
              "3       high              some           low     low            weak\n",
              "4        low               few          high  medium          strong\n",
              "...      ...               ...           ...     ...             ...\n",
              "1594     low               few          high  medium          strong\n",
              "1595    high              some          high  medium          medium\n",
              "1596    high              some          high  medium          medium\n",
              "1597     low              some          high  medium          strong\n",
              "1598    high              some          high  medium          medium\n",
              "\n",
              "[1599 rows x 5 columns]"
            ]
          },
          "metadata": {
            "tags": []
          },
          "execution_count": 191
        }
      ]
    },
    {
      "cell_type": "markdown",
      "metadata": {
        "id": "fIYyWzzz3d3M",
        "colab_type": "text"
      },
      "source": [
        "## Chi-square"
      ]
    },
    {
      "cell_type": "code",
      "metadata": {
        "id": "cW91ss-3SCiV",
        "colab_type": "code",
        "colab": {
          "base_uri": "https://localhost:8080/",
          "height": 142
        },
        "outputId": "f15b7848-44d0-4532-b227-bf46b6ccf521"
      },
      "source": [
        "# for citricacid amount\n",
        "citricacid_contingency_table = chi2_model.groupby([\"citricacid_amount\",\"quality\"]).size().unstack(level=-1)\n",
        "citricacid_contingency_table.sort_values(\"high\",inplace=True)\n",
        "citricacid_contingency_table"
      ],
      "execution_count": 192,
      "outputs": [
        {
          "output_type": "execute_result",
          "data": {
            "text/html": [
              "<div>\n",
              "<style scoped>\n",
              "    .dataframe tbody tr th:only-of-type {\n",
              "        vertical-align: middle;\n",
              "    }\n",
              "\n",
              "    .dataframe tbody tr th {\n",
              "        vertical-align: top;\n",
              "    }\n",
              "\n",
              "    .dataframe thead th {\n",
              "        text-align: right;\n",
              "    }\n",
              "</style>\n",
              "<table border=\"1\" class=\"dataframe\">\n",
              "  <thead>\n",
              "    <tr style=\"text-align: right;\">\n",
              "      <th>quality</th>\n",
              "      <th>high</th>\n",
              "      <th>low</th>\n",
              "    </tr>\n",
              "    <tr>\n",
              "      <th>citricacid_amount</th>\n",
              "      <th></th>\n",
              "      <th></th>\n",
              "    </tr>\n",
              "  </thead>\n",
              "  <tbody>\n",
              "    <tr>\n",
              "      <th>few</th>\n",
              "      <td>194</td>\n",
              "      <td>209</td>\n",
              "    </tr>\n",
              "    <tr>\n",
              "      <th>some</th>\n",
              "      <td>661</td>\n",
              "      <td>535</td>\n",
              "    </tr>\n",
              "  </tbody>\n",
              "</table>\n",
              "</div>"
            ],
            "text/plain": [
              "quality            high  low\n",
              "citricacid_amount           \n",
              "few                 194  209\n",
              "some                661  535"
            ]
          },
          "metadata": {
            "tags": []
          },
          "execution_count": 192
        }
      ]
    },
    {
      "cell_type": "code",
      "metadata": {
        "id": "TtNmdzBY3hrS",
        "colab_type": "code",
        "outputId": "d534073a-fe08-41f3-d4a9-09e696acaff5",
        "colab": {
          "base_uri": "https://localhost:8080/",
          "height": 287
        }
      },
      "source": [
        "chi2_stat, p_val, dof, ex = chi2_contingency(citricacid_contingency_table)\n",
        "print(\"===Chi2 Stat===\")\n",
        "print(chi2_stat)\n",
        "print(\"\\n\")\n",
        "print(\"===Degrees of Freedom===\")\n",
        "print(dof)\n",
        "print(\"\\n\")\n",
        "print(\"===P-Value===\")\n",
        "print(p_val)\n",
        "print(\"\\n\")\n",
        "print(\"===Contingency Table===\")\n",
        "print(ex)"
      ],
      "execution_count": 193,
      "outputs": [
        {
          "output_type": "stream",
          "text": [
            "===Chi2 Stat===\n",
            "5.873597077349592\n",
            "\n",
            "\n",
            "===Degrees of Freedom===\n",
            "1\n",
            "\n",
            "\n",
            "===P-Value===\n",
            "0.015369615726027292\n",
            "\n",
            "\n",
            "===Contingency Table===\n",
            "[[215.48780488 187.51219512]\n",
            " [639.51219512 556.48780488]]\n"
          ],
          "name": "stdout"
        }
      ]
    },
    {
      "cell_type": "markdown",
      "metadata": {
        "id": "UakIMls23gl0",
        "colab_type": "text"
      },
      "source": [
        "pvalue is very small. Then for citric acid amount"
      ]
    },
    {
      "cell_type": "code",
      "metadata": {
        "id": "FFBbj_z1VkxH",
        "colab_type": "code",
        "colab": {
          "base_uri": "https://localhost:8080/",
          "height": 142
        },
        "outputId": "af03e3bf-878a-4788-a600-4685e793bace"
      },
      "source": [
        "# for freesulflevel\t\n",
        "freesulflevel_contingency_table = chi2_model.groupby([\"freesulflevel\",\"quality\"]).size().unstack(level=-1)\n",
        "freesulflevel_contingency_table.sort_values(\"high\",inplace=True)\n",
        "freesulflevel_contingency_table"
      ],
      "execution_count": 194,
      "outputs": [
        {
          "output_type": "execute_result",
          "data": {
            "text/html": [
              "<div>\n",
              "<style scoped>\n",
              "    .dataframe tbody tr th:only-of-type {\n",
              "        vertical-align: middle;\n",
              "    }\n",
              "\n",
              "    .dataframe tbody tr th {\n",
              "        vertical-align: top;\n",
              "    }\n",
              "\n",
              "    .dataframe thead th {\n",
              "        text-align: right;\n",
              "    }\n",
              "</style>\n",
              "<table border=\"1\" class=\"dataframe\">\n",
              "  <thead>\n",
              "    <tr style=\"text-align: right;\">\n",
              "      <th>quality</th>\n",
              "      <th>high</th>\n",
              "      <th>low</th>\n",
              "    </tr>\n",
              "    <tr>\n",
              "      <th>freesulflevel</th>\n",
              "      <th></th>\n",
              "      <th></th>\n",
              "    </tr>\n",
              "  </thead>\n",
              "  <tbody>\n",
              "    <tr>\n",
              "      <th>low</th>\n",
              "      <td>202</td>\n",
              "      <td>317</td>\n",
              "    </tr>\n",
              "    <tr>\n",
              "      <th>high</th>\n",
              "      <td>653</td>\n",
              "      <td>427</td>\n",
              "    </tr>\n",
              "  </tbody>\n",
              "</table>\n",
              "</div>"
            ],
            "text/plain": [
              "quality        high  low\n",
              "freesulflevel           \n",
              "low             202  317\n",
              "high            653  427"
            ]
          },
          "metadata": {
            "tags": []
          },
          "execution_count": 194
        }
      ]
    },
    {
      "cell_type": "code",
      "metadata": {
        "id": "G5VrIvMBWz2x",
        "colab_type": "code",
        "colab": {
          "base_uri": "https://localhost:8080/",
          "height": 287
        },
        "outputId": "91d8fbfb-7154-4463-aac1-61db6f9b987d"
      },
      "source": [
        "chi2_stat2, p_val2, dof2, ex2 = chi2_contingency(freesulflevel_contingency_table)\n",
        "print(\"===Chi2 Stat===\")\n",
        "print(chi2_stat2)\n",
        "print(\"\\n\")\n",
        "print(\"===Degrees of Freedom===\")\n",
        "print(dof2)\n",
        "print(\"\\n\")\n",
        "print(\"===P-Value===\")\n",
        "print(p_val2)\n",
        "print(\"\\n\")\n",
        "print(\"===Contingency Table===\")\n",
        "print(ex2)"
      ],
      "execution_count": 195,
      "outputs": [
        {
          "output_type": "stream",
          "text": [
            "===Chi2 Stat===\n",
            "64.52094229497678\n",
            "\n",
            "\n",
            "===Degrees of Freedom===\n",
            "1\n",
            "\n",
            "\n",
            "===P-Value===\n",
            "9.551176127103047e-16\n",
            "\n",
            "\n",
            "===Contingency Table===\n",
            "[[277.51407129 241.48592871]\n",
            " [577.48592871 502.51407129]]\n"
          ],
          "name": "stdout"
        }
      ]
    },
    {
      "cell_type": "markdown",
      "metadata": {
        "id": "EgRmDkokXHPo",
        "colab_type": "text"
      },
      "source": [
        "For PHlevel"
      ]
    },
    {
      "cell_type": "code",
      "metadata": {
        "id": "vfL8BonHXsbI",
        "colab_type": "code",
        "colab": {
          "base_uri": "https://localhost:8080/",
          "height": 173
        },
        "outputId": "c2ae85c4-7f56-40bb-9800-eecf85dbfc15"
      },
      "source": [
        "# for PHlevel\t\n",
        "PHlevel_contingency_table = chi2_model.groupby([\"PHlevel\",\"quality\"]).size().unstack(level=-1)\n",
        "PHlevel_contingency_table.sort_values(\"high\",inplace=True)\n",
        "PHlevel_contingency_table"
      ],
      "execution_count": 196,
      "outputs": [
        {
          "output_type": "execute_result",
          "data": {
            "text/html": [
              "<div>\n",
              "<style scoped>\n",
              "    .dataframe tbody tr th:only-of-type {\n",
              "        vertical-align: middle;\n",
              "    }\n",
              "\n",
              "    .dataframe tbody tr th {\n",
              "        vertical-align: top;\n",
              "    }\n",
              "\n",
              "    .dataframe thead th {\n",
              "        text-align: right;\n",
              "    }\n",
              "</style>\n",
              "<table border=\"1\" class=\"dataframe\">\n",
              "  <thead>\n",
              "    <tr style=\"text-align: right;\">\n",
              "      <th>quality</th>\n",
              "      <th>high</th>\n",
              "      <th>low</th>\n",
              "    </tr>\n",
              "    <tr>\n",
              "      <th>PHlevel</th>\n",
              "      <th></th>\n",
              "      <th></th>\n",
              "    </tr>\n",
              "  </thead>\n",
              "  <tbody>\n",
              "    <tr>\n",
              "      <th>high</th>\n",
              "      <td>35</td>\n",
              "      <td>27</td>\n",
              "    </tr>\n",
              "    <tr>\n",
              "      <th>low</th>\n",
              "      <td>382</td>\n",
              "      <td>344</td>\n",
              "    </tr>\n",
              "    <tr>\n",
              "      <th>medium</th>\n",
              "      <td>438</td>\n",
              "      <td>373</td>\n",
              "    </tr>\n",
              "  </tbody>\n",
              "</table>\n",
              "</div>"
            ],
            "text/plain": [
              "quality  high  low\n",
              "PHlevel           \n",
              "high       35   27\n",
              "low       382  344\n",
              "medium    438  373"
            ]
          },
          "metadata": {
            "tags": []
          },
          "execution_count": 196
        }
      ]
    },
    {
      "cell_type": "code",
      "metadata": {
        "id": "wSwhTH7_YNUN",
        "colab_type": "code",
        "colab": {
          "base_uri": "https://localhost:8080/",
          "height": 305
        },
        "outputId": "986d9567-bf44-4531-d393-1fa947e998da"
      },
      "source": [
        "chi2_stat3, p_val3, dof3, ex3 = chi2_contingency(PHlevel_contingency_table)\n",
        "print(\"===Chi2 Stat===\")\n",
        "print(chi2_stat3)\n",
        "print(\"\\n\")\n",
        "print(\"===Degrees of Freedom===\")\n",
        "print(dof3)\n",
        "print(\"\\n\")\n",
        "print(\"===P-Value===\")\n",
        "print(p_val3)\n",
        "print(\"\\n\")\n",
        "print(\"===Contingency Table===\")\n",
        "print(ex3)"
      ],
      "execution_count": 197,
      "outputs": [
        {
          "output_type": "stream",
          "text": [
            "===Chi2 Stat===\n",
            "0.5279598282176623\n",
            "\n",
            "\n",
            "===Degrees of Freedom===\n",
            "2\n",
            "\n",
            "\n",
            "===P-Value===\n",
            "0.7679889652445621\n",
            "\n",
            "\n",
            "===Contingency Table===\n",
            "[[ 33.15196998  28.84803002]\n",
            " [388.1988743  337.8011257 ]\n",
            " [433.64915572 377.35084428]]\n"
          ],
          "name": "stdout"
        }
      ]
    },
    {
      "cell_type": "markdown",
      "metadata": {
        "id": "ssi2zd56ZBGe",
        "colab_type": "text"
      },
      "source": [
        "ph level's p value is high and we are cerain that it is not stitsitcally significant. we can accept null hypothesis. There is no coorelation between ph level and wine quality."
      ]
    },
    {
      "cell_type": "code",
      "metadata": {
        "id": "NWmmH00fZ0Vi",
        "colab_type": "code",
        "colab": {
          "base_uri": "https://localhost:8080/",
          "height": 173
        },
        "outputId": "f5831a4d-e89a-4df0-a24e-ed9ccc2655e3"
      },
      "source": [
        "# for vola_acid_level\t\n",
        "vola_acid_level_contingency_table = chi2_model.groupby([\"vola_acid_level\",\"quality\"]).size().unstack(level=-1)\n",
        "vola_acid_level_contingency_table.sort_values(\"high\",inplace=True)\n",
        "vola_acid_level_contingency_table"
      ],
      "execution_count": 198,
      "outputs": [
        {
          "output_type": "execute_result",
          "data": {
            "text/html": [
              "<div>\n",
              "<style scoped>\n",
              "    .dataframe tbody tr th:only-of-type {\n",
              "        vertical-align: middle;\n",
              "    }\n",
              "\n",
              "    .dataframe tbody tr th {\n",
              "        vertical-align: top;\n",
              "    }\n",
              "\n",
              "    .dataframe thead th {\n",
              "        text-align: right;\n",
              "    }\n",
              "</style>\n",
              "<table border=\"1\" class=\"dataframe\">\n",
              "  <thead>\n",
              "    <tr style=\"text-align: right;\">\n",
              "      <th>quality</th>\n",
              "      <th>high</th>\n",
              "      <th>low</th>\n",
              "    </tr>\n",
              "    <tr>\n",
              "      <th>vola_acid_level</th>\n",
              "      <th></th>\n",
              "      <th></th>\n",
              "    </tr>\n",
              "  </thead>\n",
              "  <tbody>\n",
              "    <tr>\n",
              "      <th>weak</th>\n",
              "      <td>107</td>\n",
              "      <td>20</td>\n",
              "    </tr>\n",
              "    <tr>\n",
              "      <th>strong</th>\n",
              "      <td>207</td>\n",
              "      <td>360</td>\n",
              "    </tr>\n",
              "    <tr>\n",
              "      <th>medium</th>\n",
              "      <td>541</td>\n",
              "      <td>364</td>\n",
              "    </tr>\n",
              "  </tbody>\n",
              "</table>\n",
              "</div>"
            ],
            "text/plain": [
              "quality          high  low\n",
              "vola_acid_level           \n",
              "weak              107   20\n",
              "strong            207  360\n",
              "medium            541  364"
            ]
          },
          "metadata": {
            "tags": []
          },
          "execution_count": 198
        }
      ]
    },
    {
      "cell_type": "code",
      "metadata": {
        "id": "JjKyk4t2aO2_",
        "colab_type": "code",
        "colab": {
          "base_uri": "https://localhost:8080/",
          "height": 305
        },
        "outputId": "3d8e892c-0a97-4d46-999d-62d4e1c1972c"
      },
      "source": [
        "chi2_stat4, p_val4, dof4, ex4 = chi2_contingency(vola_acid_level_contingency_table)\n",
        "print(\"===Chi2 Stat===\")\n",
        "print(chi2_stat4)\n",
        "print(\"\\n\")\n",
        "print(\"===Degrees of Freedom===\")\n",
        "print(dof4)\n",
        "print(\"\\n\")\n",
        "print(\"===P-Value===\")\n",
        "print(p_val4)\n",
        "print(\"\\n\")\n",
        "print(\"===Contingency Table===\")\n",
        "print(ex4)"
      ],
      "execution_count": 199,
      "outputs": [
        {
          "output_type": "stream",
          "text": [
            "===Chi2 Stat===\n",
            "128.41519973619876\n",
            "\n",
            "\n",
            "===Degrees of Freedom===\n",
            "2\n",
            "\n",
            "\n",
            "===P-Value===\n",
            "1.3031478175651971e-28\n",
            "\n",
            "\n",
            "===Contingency Table===\n",
            "[[ 67.90806754  59.09193246]\n",
            " [303.18011257 263.81988743]\n",
            " [483.91181989 421.08818011]]\n"
          ],
          "name": "stdout"
        }
      ]
    },
    {
      "cell_type": "markdown",
      "metadata": {
        "id": "1RDLmbX6aqt-",
        "colab_type": "text"
      },
      "source": [
        "we also get a small pvalue. we cannot accept the null hypothesis. There is cerain correlation between these two variables."
      ]
    },
    {
      "cell_type": "markdown",
      "metadata": {
        "colab_type": "text",
        "id": "KXz0p0e1I-fv"
      },
      "source": [
        "### Issues and worries along with usage of Chi-square testing###\n",
        "- Because of how the Chi-Square value is calculated, it is extremely sensitive to sample size – when the sample size is too large (~500), almost any small difference will appear statistically significant. In our 1599 sample case, we are almost guaranteed to have some statistically significant.\n",
        "\n"
      ]
    },
    {
      "cell_type": "markdown",
      "metadata": {
        "id": "ZvAupkR1ehUs",
        "colab_type": "text"
      },
      "source": [
        "Then I continue to work on this acid model. This time I choose 80 % data to train the model and 20% for testing. The logistical model will be employeed for this model."
      ]
    },
    {
      "cell_type": "markdown",
      "metadata": {
        "id": "Mnn-MmaPehUu",
        "colab_type": "text"
      },
      "source": [
        "### add dummy variable for acid model ###"
      ]
    },
    {
      "cell_type": "code",
      "metadata": {
        "id": "4yxvHatFehUv",
        "colab_type": "code",
        "outputId": "2db6f845-88a7-4587-b835-758e452c126a",
        "colab": {
          "base_uri": "https://localhost:8080/",
          "height": 419
        }
      },
      "source": [
        "#make a copy for the selected data\n",
        "\n",
        "prediction= chi2_model.iloc[:,[0,1,2,4]].copy()\n",
        "#replaces Edibility values to 1 if it is 'high'quality and 0 for bad quality\n",
        "prediction.quality.replace('high', 1, inplace = True)\n",
        "prediction.quality.replace('low', 0, inplace = True)\n",
        "prediction"
      ],
      "execution_count": 200,
      "outputs": [
        {
          "output_type": "execute_result",
          "data": {
            "text/html": [
              "<div>\n",
              "<style scoped>\n",
              "    .dataframe tbody tr th:only-of-type {\n",
              "        vertical-align: middle;\n",
              "    }\n",
              "\n",
              "    .dataframe tbody tr th {\n",
              "        vertical-align: top;\n",
              "    }\n",
              "\n",
              "    .dataframe thead th {\n",
              "        text-align: right;\n",
              "    }\n",
              "</style>\n",
              "<table border=\"1\" class=\"dataframe\">\n",
              "  <thead>\n",
              "    <tr style=\"text-align: right;\">\n",
              "      <th></th>\n",
              "      <th>quality</th>\n",
              "      <th>citricacid_amount</th>\n",
              "      <th>freesulflevel</th>\n",
              "      <th>vola_acid_level</th>\n",
              "    </tr>\n",
              "  </thead>\n",
              "  <tbody>\n",
              "    <tr>\n",
              "      <th>0</th>\n",
              "      <td>0</td>\n",
              "      <td>few</td>\n",
              "      <td>high</td>\n",
              "      <td>strong</td>\n",
              "    </tr>\n",
              "    <tr>\n",
              "      <th>1</th>\n",
              "      <td>0</td>\n",
              "      <td>few</td>\n",
              "      <td>high</td>\n",
              "      <td>strong</td>\n",
              "    </tr>\n",
              "    <tr>\n",
              "      <th>2</th>\n",
              "      <td>0</td>\n",
              "      <td>few</td>\n",
              "      <td>low</td>\n",
              "      <td>strong</td>\n",
              "    </tr>\n",
              "    <tr>\n",
              "      <th>3</th>\n",
              "      <td>1</td>\n",
              "      <td>some</td>\n",
              "      <td>low</td>\n",
              "      <td>weak</td>\n",
              "    </tr>\n",
              "    <tr>\n",
              "      <th>4</th>\n",
              "      <td>0</td>\n",
              "      <td>few</td>\n",
              "      <td>high</td>\n",
              "      <td>strong</td>\n",
              "    </tr>\n",
              "    <tr>\n",
              "      <th>...</th>\n",
              "      <td>...</td>\n",
              "      <td>...</td>\n",
              "      <td>...</td>\n",
              "      <td>...</td>\n",
              "    </tr>\n",
              "    <tr>\n",
              "      <th>1594</th>\n",
              "      <td>0</td>\n",
              "      <td>few</td>\n",
              "      <td>high</td>\n",
              "      <td>strong</td>\n",
              "    </tr>\n",
              "    <tr>\n",
              "      <th>1595</th>\n",
              "      <td>1</td>\n",
              "      <td>some</td>\n",
              "      <td>high</td>\n",
              "      <td>medium</td>\n",
              "    </tr>\n",
              "    <tr>\n",
              "      <th>1596</th>\n",
              "      <td>1</td>\n",
              "      <td>some</td>\n",
              "      <td>high</td>\n",
              "      <td>medium</td>\n",
              "    </tr>\n",
              "    <tr>\n",
              "      <th>1597</th>\n",
              "      <td>0</td>\n",
              "      <td>some</td>\n",
              "      <td>high</td>\n",
              "      <td>strong</td>\n",
              "    </tr>\n",
              "    <tr>\n",
              "      <th>1598</th>\n",
              "      <td>1</td>\n",
              "      <td>some</td>\n",
              "      <td>high</td>\n",
              "      <td>medium</td>\n",
              "    </tr>\n",
              "  </tbody>\n",
              "</table>\n",
              "<p>1599 rows × 4 columns</p>\n",
              "</div>"
            ],
            "text/plain": [
              "0     quality citricacid_amount freesulflevel vola_acid_level\n",
              "0           0               few          high          strong\n",
              "1           0               few          high          strong\n",
              "2           0               few           low          strong\n",
              "3           1              some           low            weak\n",
              "4           0               few          high          strong\n",
              "...       ...               ...           ...             ...\n",
              "1594        0               few          high          strong\n",
              "1595        1              some          high          medium\n",
              "1596        1              some          high          medium\n",
              "1597        0              some          high          strong\n",
              "1598        1              some          high          medium\n",
              "\n",
              "[1599 rows x 4 columns]"
            ]
          },
          "metadata": {
            "tags": []
          },
          "execution_count": 200
        }
      ]
    },
    {
      "cell_type": "code",
      "metadata": {
        "id": "2_28qVG3ehUy",
        "colab_type": "code",
        "outputId": "1e14ad96-3782-49ee-acb0-3aea550b1367",
        "colab": {
          "base_uri": "https://localhost:8080/",
          "height": 204
        }
      },
      "source": [
        "#creates dummy variables for the predictor variables\n",
        "prediction_dummies = pd.get_dummies(prediction)\n",
        "prediction_dummies.head()"
      ],
      "execution_count": 201,
      "outputs": [
        {
          "output_type": "execute_result",
          "data": {
            "text/html": [
              "<div>\n",
              "<style scoped>\n",
              "    .dataframe tbody tr th:only-of-type {\n",
              "        vertical-align: middle;\n",
              "    }\n",
              "\n",
              "    .dataframe tbody tr th {\n",
              "        vertical-align: top;\n",
              "    }\n",
              "\n",
              "    .dataframe thead th {\n",
              "        text-align: right;\n",
              "    }\n",
              "</style>\n",
              "<table border=\"1\" class=\"dataframe\">\n",
              "  <thead>\n",
              "    <tr style=\"text-align: right;\">\n",
              "      <th></th>\n",
              "      <th>quality</th>\n",
              "      <th>citricacid_amount_few</th>\n",
              "      <th>citricacid_amount_some</th>\n",
              "      <th>freesulflevel_high</th>\n",
              "      <th>freesulflevel_low</th>\n",
              "      <th>vola_acid_level_medium</th>\n",
              "      <th>vola_acid_level_strong</th>\n",
              "      <th>vola_acid_level_weak</th>\n",
              "    </tr>\n",
              "  </thead>\n",
              "  <tbody>\n",
              "    <tr>\n",
              "      <th>0</th>\n",
              "      <td>0</td>\n",
              "      <td>1</td>\n",
              "      <td>0</td>\n",
              "      <td>1</td>\n",
              "      <td>0</td>\n",
              "      <td>0</td>\n",
              "      <td>1</td>\n",
              "      <td>0</td>\n",
              "    </tr>\n",
              "    <tr>\n",
              "      <th>1</th>\n",
              "      <td>0</td>\n",
              "      <td>1</td>\n",
              "      <td>0</td>\n",
              "      <td>1</td>\n",
              "      <td>0</td>\n",
              "      <td>0</td>\n",
              "      <td>1</td>\n",
              "      <td>0</td>\n",
              "    </tr>\n",
              "    <tr>\n",
              "      <th>2</th>\n",
              "      <td>0</td>\n",
              "      <td>1</td>\n",
              "      <td>0</td>\n",
              "      <td>0</td>\n",
              "      <td>1</td>\n",
              "      <td>0</td>\n",
              "      <td>1</td>\n",
              "      <td>0</td>\n",
              "    </tr>\n",
              "    <tr>\n",
              "      <th>3</th>\n",
              "      <td>1</td>\n",
              "      <td>0</td>\n",
              "      <td>1</td>\n",
              "      <td>0</td>\n",
              "      <td>1</td>\n",
              "      <td>0</td>\n",
              "      <td>0</td>\n",
              "      <td>1</td>\n",
              "    </tr>\n",
              "    <tr>\n",
              "      <th>4</th>\n",
              "      <td>0</td>\n",
              "      <td>1</td>\n",
              "      <td>0</td>\n",
              "      <td>1</td>\n",
              "      <td>0</td>\n",
              "      <td>0</td>\n",
              "      <td>1</td>\n",
              "      <td>0</td>\n",
              "    </tr>\n",
              "  </tbody>\n",
              "</table>\n",
              "</div>"
            ],
            "text/plain": [
              "   quality  citricacid_amount_few  ...  vola_acid_level_strong  vola_acid_level_weak\n",
              "0        0                      1  ...                       1                     0\n",
              "1        0                      1  ...                       1                     0\n",
              "2        0                      1  ...                       1                     0\n",
              "3        1                      0  ...                       0                     1\n",
              "4        0                      1  ...                       1                     0\n",
              "\n",
              "[5 rows x 8 columns]"
            ]
          },
          "metadata": {
            "tags": []
          },
          "execution_count": 201
        }
      ]
    },
    {
      "cell_type": "markdown",
      "metadata": {
        "id": "pWXMP-TKehU1",
        "colab_type": "text"
      },
      "source": [
        "#### build logistic regression for acid model"
      ]
    },
    {
      "cell_type": "code",
      "metadata": {
        "id": "fWPzC_sNehU3",
        "colab_type": "code",
        "colab": {}
      },
      "source": [
        "#model required library\n",
        "from patsy import dmatrices\n",
        "from sklearn.linear_model import LogisticRegression\n",
        "from sklearn.model_selection import train_test_split\n",
        "from sklearn import metrics\n",
        "from sklearn.model_selection import cross_val_score"
      ],
      "execution_count": 0,
      "outputs": []
    },
    {
      "cell_type": "code",
      "metadata": {
        "id": "md5cxBZRehU7",
        "colab_type": "code",
        "outputId": "bd993526-3cfe-408d-da6f-27a2c679bebd",
        "colab": {
          "base_uri": "https://localhost:8080/",
          "height": 35
        }
      },
      "source": [
        "#model for citricacid_amount only\n",
        "ca_model= [ 'citricacid_amount_few', 'citricacid_amount_some'    ]\n",
        "X = prediction_dummies[ca_model].values\n",
        "y = prediction_dummies['quality'].values\n",
        "\n",
        "#use 80% data to train\n",
        "#has a fixed state number 22 to make sure result is fixed , 22 is my lucky number \n",
        "X_train, X_test, y_train, y_test = train_test_split(X, y, test_size=0.2, random_state=22)\n",
        "\n",
        "#define the model type as logistic regression\n",
        "model = LogisticRegression()\n",
        "\n",
        "#train the algorithm\n",
        "model.fit(X_train, y_train)\n",
        "\n",
        "\n",
        "\n",
        "# calculate the accuracy of the model relative to the training data set\n",
        "model.score(X_train, y_train)"
      ],
      "execution_count": 203,
      "outputs": [
        {
          "output_type": "execute_result",
          "data": {
            "text/plain": [
              "0.544175136825645"
            ]
          },
          "metadata": {
            "tags": []
          },
          "execution_count": 203
        }
      ]
    },
    {
      "cell_type": "code",
      "metadata": {
        "id": "fux8JvL7ehVA",
        "colab_type": "code",
        "outputId": "f75d64c3-a678-459a-d9f1-57d64885c06f",
        "colab": {
          "base_uri": "https://localhost:8080/",
          "height": 35
        }
      },
      "source": [
        "# vola_acid_level model\n",
        "va_model= [ 'vola_acid_level_medium' , 'vola_acid_level_strong'  , 'vola_acid_level_weak'  \n",
        "                 ]\n",
        "X1 = prediction_dummies[va_model].values\n",
        "y1 = prediction_dummies['quality'].values\n",
        "\n",
        "#use 80% data to train\n",
        "#has a fixed state number 22 to make sure result is fixed , 22 is my lucky number \n",
        "X1_train, X1_test, y1_train, y1_test = train_test_split(X1, y1, test_size=0.2, random_state=22)\n",
        "\n",
        "\n",
        "#define the model type as logistic regression\n",
        "model1 = LogisticRegression()\n",
        "\n",
        "#train the algorithm\n",
        "model1.fit(X1_train, y1_train)\n",
        "\n",
        "# calculate the accuracy of the model relative to the training data set\n",
        "model1.score(X1_train, y1_train)\n"
      ],
      "execution_count": 204,
      "outputs": [
        {
          "output_type": "execute_result",
          "data": {
            "text/plain": [
              "0.6247068021892104"
            ]
          },
          "metadata": {
            "tags": []
          },
          "execution_count": 204
        }
      ]
    },
    {
      "cell_type": "code",
      "metadata": {
        "id": "kmvMp5Z-ehVC",
        "colab_type": "code",
        "outputId": "e19a40fc-6f3b-410b-9f8a-2133e1877a7e",
        "colab": {
          "base_uri": "https://localhost:8080/",
          "height": 35
        }
      },
      "source": [
        "# completed mixed model\n",
        "complete_model= [ 'vola_acid_level_medium' , 'vola_acid_level_strong'  , 'vola_acid_level_weak',\n",
        "                  'citricacid_amount_few', 'citricacid_amount_some',\n",
        "                  'freesulflevel_high','freesulflevel_low'\n",
        "                 ]\n",
        "                 \t\t\t\n",
        "X2 = prediction_dummies[complete_model].values\n",
        "y2 = prediction_dummies['quality'].values\n",
        "\n",
        "#use 80% data to train\n",
        "#has a fixed state number 22 to make sure result is fixed , 22 is my lucky number \n",
        "X2_train, X2_test, y2_train, y2_test = train_test_split(X2, y2, test_size=0.2, random_state=22)\n",
        "\n",
        "\n",
        "#define the model type as logistic regression\n",
        "model2 = LogisticRegression()\n",
        "\n",
        "#train the algorithm\n",
        "model2.fit(X2_train, y2_train)\n",
        "\n",
        "# calculate the accuracy of the model relative to the training data set\n",
        "model2.score(X2_train, y2_train)\n"
      ],
      "execution_count": 205,
      "outputs": [
        {
          "output_type": "execute_result",
          "data": {
            "text/plain": [
              "0.6489444878811571"
            ]
          },
          "metadata": {
            "tags": []
          },
          "execution_count": 205
        }
      ]
    },
    {
      "cell_type": "markdown",
      "metadata": {
        "id": "LnwY4qqxehUr",
        "colab_type": "text"
      },
      "source": [
        "### Some insights and findings based on the plots:###\n",
        "- In this model, vola_acid level is a good enough indicator and it can predict 62.4% by itself only, adding two more variables only helps a bit. It raised from 62.4% to 64.89% .\n",
        "- In general, the final complete model based on these acid related information can predict 64.8% accurate on the quality of the wine, it is better than random guess of 53.5% which is based on good/bad quality wine distribution.\n",
        "\n"
      ]
    },
    {
      "cell_type": "markdown",
      "metadata": {
        "id": "8e8i_58rehVI",
        "colab_type": "text"
      },
      "source": [
        "Based on my understanding of the model, it is trying to recognize the high quality wine by giving attributes. \n",
        "According to the total amount of high quality wine in the dataset, random guess is that 53% chance to get right on high quality wine. The raised concerns are that this model is actually computing the chance of getting low quality wine.\n",
        "\n",
        "As far as there is some obvious change on the performance based on the change of the attributes,I would say that there is certain pattern between variables (in this acid model, the acid related attributes) and wine quality. Regardless of whether the performance of recognizing is increased or decreased, both results can serve my goals on qualify the difference on different attributes and wine quality.\n",
        "\n",
        "\n",
        "However, based on the result I got, the model still serves its purpose. model make recognization better or worse .\n",
        "It proves that there is certain pattern between wine quality and associated attributes.  "
      ]
    },
    {
      "cell_type": "markdown",
      "metadata": {
        "id": "3B8DV6chehVP",
        "colab_type": "text"
      },
      "source": [
        "Somehow due to the timing manner, I had some troubles for a better categorizer for wine quality."
      ]
    },
    {
      "cell_type": "markdown",
      "metadata": {
        "id": "UIW0ZguyehVd",
        "colab_type": "text"
      },
      "source": [
        "## Conclusion\n"
      ]
    },
    {
      "cell_type": "markdown",
      "metadata": {
        "id": "IjkFEWAEehVe",
        "colab_type": "text"
      },
      "source": [
        "By answering the research question and explore various properties of data, in my opinion, this research still finishs its original goal. There is certain pattern and correlation between some variables and wine quality.\n",
        "\n",
        "In addition, other physical attributes of the wine can also be used to find what kind of attributes will yield better accuracy. Due to time manner , I did not focus on other models except models associated with acidity. \n",
        "\n",
        "\n",
        "This time, somehow I could not finish other sugar or alcohol based model along with a hybrid model to predict the wine quality.\n",
        "I believe further work based on this project can be used to predict better results."
      ]
    },
    {
      "cell_type": "markdown",
      "metadata": {
        "id": "0_DuBvXaehVf",
        "colab_type": "text"
      },
      "source": [
        "## Reference##\n",
        "1 link: https://www.statista.com/topics/1541/wine-market/\n",
        "\n",
        "\n",
        "2 C.-D Patz, A Blieke, R Ristow, H Dietrich,\n",
        "Application of FT-MIR spectrometry in wine analysis,\n",
        "Analytica Chimica Acta,\n",
        "Volume 513, Issue 1,\n",
        "2004,Pages 81-89,\n",
        "ISSN 0003-2670,\n",
        "https://doi.org/10.1016/j.aca.2004.02.051.\n",
        "(http://www.sciencedirect.com/science/article/pii/S000326700400251X)\n",
        "\n",
        "3 link: https://winefolly.com/deep-dive/weird-wine-flavors-and-the-science-behind-them/"
      ]
    },
    {
      "cell_type": "code",
      "metadata": {
        "id": "I2asfBwgehVg",
        "colab_type": "code",
        "colab": {}
      },
      "source": [
        ""
      ],
      "execution_count": 0,
      "outputs": []
    }
  ]
}