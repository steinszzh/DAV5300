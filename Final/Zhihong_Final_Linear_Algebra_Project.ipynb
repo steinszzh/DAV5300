{
  "nbformat": 4,
  "nbformat_minor": 0,
  "metadata": {
    "colab": {
      "name": "Zhihong_Final Linear Algebra Project.ipynb",
      "provenance": [],
      "collapsed_sections": []
    },
    "kernelspec": {
      "name": "python3",
      "display_name": "Python 3"
    }
  },
  "cells": [
    {
      "cell_type": "markdown",
      "metadata": {
        "id": "ENvujRz3wb95",
        "colab_type": "text"
      },
      "source": [
        "# Final linear Algebra Project"
      ]
    },
    {
      "cell_type": "markdown",
      "metadata": {
        "id": "Faz7IPi6wkpL",
        "colab_type": "text"
      },
      "source": [
        "Zhihong Zhang"
      ]
    },
    {
      "cell_type": "code",
      "metadata": {
        "id": "IX84uNBKxaUT",
        "colab_type": "code",
        "colab": {}
      },
      "source": [
        "#set up required library\n",
        "from sympy import abc\n",
        "import numpy as np\n",
        "import math\n",
        "#for deep copy\n",
        "import copy\n",
        "import scipy.linalg as la"
      ],
      "execution_count": 0,
      "outputs": []
    },
    {
      "cell_type": "markdown",
      "metadata": {
        "id": "vGZ5qyHkwou5",
        "colab_type": "text"
      },
      "source": [
        "## Part 1: Solve a system of equations"
      ]
    },
    {
      "cell_type": "markdown",
      "metadata": {
        "id": "kjYqJoV1wqxg",
        "colab_type": "text"
      },
      "source": [
        "Firstly, I set up with a system of equation.\n",
        "$$\\begin{array}{lrcrcrcr}\n",
        "        E_{1j}: & 2x_{1} & + & 6x_{2} & + & 2x_{3} & = & 2 \\\\\n",
        "        E_{2j}: & 5x_{1} & + & 9x_{2} & + & 0x_{3} & = & -1 \\\\\n",
        "        E_{3j}: & x_{1} & + & 4x_{2} & + & 2x_{3} & = & 3\n",
        "\\end{array}$$\n",
        "\n"
      ]
    },
    {
      "cell_type": "markdown",
      "metadata": {
        "id": "PXoCmuUzxV55",
        "colab_type": "text"
      },
      "source": [
        "Based on the system, we then can write two matrix. "
      ]
    },
    {
      "cell_type": "markdown",
      "metadata": {
        "id": "K6jpJW4GSCQs",
        "colab_type": "text"
      },
      "source": [
        "> Using the matrix from the system above, we have:\n",
        "\n",
        "> $$M = \\left[ \\begin{array}{rrr}  2 &  6 & 2  \\\\\n",
        "                      5 & 9 & 0  \\\\\n",
        "                     1 &  4 & 2  \\end{array}  \\right]$$\n",
        "                                  \n",
        "  $$b = \\left[ \\begin{array}{rrr}  2  \\\\\n",
        "                     -1  \\\\\n",
        "                 3  \\end{array}  \\right]$$"
      ]
    },
    {
      "cell_type": "markdown",
      "metadata": {
        "id": "bH763uPAToxk",
        "colab_type": "text"
      },
      "source": [
        "In this problem I use built in function, basically use inverse function to get the answer. $X= M^{-1}*b$ In general, it is not a good idea if M is large enough and it is computationally expensive. But it is good enough in this simple case."
      ]
    },
    {
      "cell_type": "code",
      "metadata": {
        "id": "FNz1ZBCYHzbH",
        "colab_type": "code",
        "outputId": "f904b63b-8086-42bb-b07b-28d5ab99e376",
        "colab": {
          "base_uri": "https://localhost:8080/",
          "height": 86
        }
      },
      "source": [
        "M = np.array([[2,6,2],[5,9,0],[1,4,2]])\n",
        "b=np.array([[2],[-1],[3]])\n",
        "X=np.dot(np.linalg.inv(M),b)\n",
        "print(\"answer is: \\n \",X)"
      ],
      "execution_count": 283,
      "outputs": [
        {
          "output_type": "stream",
          "text": [
            "answer is: \n",
            "  [[ 7.]\n",
            " [-4.]\n",
            " [ 6.]]\n"
          ],
          "name": "stdout"
        }
      ]
    },
    {
      "cell_type": "markdown",
      "metadata": {
        "id": "NhcRaMQ0fyLt",
        "colab_type": "text"
      },
      "source": [
        "As the result shows,   $$X = \\left[ \\begin{array}{rrr}  7  \\\\\n",
        "                     -4  \\\\\n",
        "                 6  \\end{array}  \\right]$$"
      ]
    },
    {
      "cell_type": "markdown",
      "metadata": {
        "id": "1kb7GgvUpIu2",
        "colab_type": "text"
      },
      "source": [
        "I checked answer with substitube values into the equation, all of three equations work. "
      ]
    },
    {
      "cell_type": "markdown",
      "metadata": {
        "colab_type": "text",
        "id": "vyiytedmwy8G"
      },
      "source": [
        "## Part 2: Write a function and solve using elimination"
      ]
    },
    {
      "cell_type": "markdown",
      "metadata": {
        "id": "RJBNeqVy41No",
        "colab_type": "text"
      },
      "source": [
        "To make problem easier, for one test case, we continue to use the matrice from part one.\n",
        " $$M = \\left[ \\begin{array}{rrr}  2 &  6 & 2  \\\\\n",
        "                      5 & 9 & 0  \\\\\n",
        "                     1 &  4 & 2  \\end{array}  \\right]$$\n",
        "                                  \n",
        "  $$b = \\left[ \\begin{array}{rrr}  2  \\\\\n",
        "                     -1  \\\\\n",
        "                 3  \\end{array}  \\right]$$"
      ]
    },
    {
      "cell_type": "code",
      "metadata": {
        "colab_type": "code",
        "outputId": "ef1093e0-7d27-4a78-8433-2b072ae67678",
        "id": "Ac2HweeGK93g",
        "colab": {
          "base_uri": "https://localhost:8080/",
          "height": 69
        }
      },
      "source": [
        "\n",
        "#make aumented matrix\n",
        "part2_ex1=np.column_stack((M, b))\n",
        "part2_ex1=np.asfarray(part2_ex1,float)\n",
        "part2_ex1"
      ],
      "execution_count": 284,
      "outputs": [
        {
          "output_type": "execute_result",
          "data": {
            "text/plain": [
              "array([[ 2.,  6.,  2.,  2.],\n",
              "       [ 5.,  9.,  0., -1.],\n",
              "       [ 1.,  4.,  2.,  3.]])"
            ]
          },
          "metadata": {
            "tags": []
          },
          "execution_count": 284
        }
      ]
    },
    {
      "cell_type": "code",
      "metadata": {
        "id": "WuceZsLsZZbi",
        "colab_type": "code",
        "colab": {}
      },
      "source": [
        "def mygauss(a, b):\n",
        "    a = copy.deepcopy(a)\n",
        "    b = copy.deepcopy(b)\n",
        "    n = len(a)\n",
        "    p = len(b[0])\n",
        "    det = 1\n",
        "    for i in range(n - 1):\n",
        "        k = i\n",
        "        for j in range(i + 1, n):\n",
        "            if abs(a[j][i]) > abs(a[k][i]):\n",
        "                k = j\n",
        "        if k != i:\n",
        "            a[i], a[k] = a[k], a[i]\n",
        "            b[i], b[k] = b[k], b[i]\n",
        "            det = -det\n",
        " \n",
        "        for j in range(i + 1, n):\n",
        "            t = a[j][i]/a[i][i]\n",
        "            for k in range(i + 1, n):\n",
        "                a[j][k] -= t*a[i][k]\n",
        "            for k in range(p):\n",
        "                b[j][k] -= t*b[i][k]\n",
        " \n",
        "    for i in range(n - 1, -1, -1):\n",
        "        for j in range(i + 1, n):\n",
        "            t = a[i][j]\n",
        "            for k in range(p):\n",
        "                b[i][k] -= t*b[j][k]\n",
        "        t = 1/a[i][i]\n",
        "        det *= a[i][i]\n",
        "        for j in range(p):\n",
        "            b[i][j] *= t\n",
        "    return det, b"
      ],
      "execution_count": 0,
      "outputs": []
    },
    {
      "cell_type": "code",
      "metadata": {
        "id": "DLpTlWsyZdkT",
        "colab_type": "code",
        "outputId": "9a9e3727-11b6-4507-8990-ad558ed32720",
        "colab": {
          "base_uri": "https://localhost:8080/",
          "height": 318
        }
      },
      "source": [
        "mygauss(M,b)"
      ],
      "execution_count": 0,
      "outputs": [
        {
          "output_type": "stream",
          "text": [
            "/usr/local/lib/python3.6/dist-packages/ipykernel_launcher.py:29: RuntimeWarning: divide by zero encountered in long_scalars\n",
            "/usr/local/lib/python3.6/dist-packages/ipykernel_launcher.py:32: RuntimeWarning: invalid value encountered in multiply\n"
          ],
          "name": "stderr"
        },
        {
          "output_type": "error",
          "ename": "ValueError",
          "evalue": "ignored",
          "traceback": [
            "\u001b[0;31m---------------------------------------------------------------------------\u001b[0m",
            "\u001b[0;31mValueError\u001b[0m                                Traceback (most recent call last)",
            "\u001b[0;32m<ipython-input-258-f5792c5ddb6a>\u001b[0m in \u001b[0;36m<module>\u001b[0;34m()\u001b[0m\n\u001b[0;32m----> 1\u001b[0;31m \u001b[0mmygauss\u001b[0m\u001b[0;34m(\u001b[0m\u001b[0mM\u001b[0m\u001b[0;34m,\u001b[0m\u001b[0mb\u001b[0m\u001b[0;34m)\u001b[0m\u001b[0;34m\u001b[0m\u001b[0;34m\u001b[0m\u001b[0m\n\u001b[0m",
            "\u001b[0;32m<ipython-input-257-94a8375c46cf>\u001b[0m in \u001b[0;36mmygauss\u001b[0;34m(a, b)\u001b[0m\n\u001b[1;32m     30\u001b[0m         \u001b[0mdet\u001b[0m \u001b[0;34m*=\u001b[0m \u001b[0ma\u001b[0m\u001b[0;34m[\u001b[0m\u001b[0mi\u001b[0m\u001b[0;34m]\u001b[0m\u001b[0;34m[\u001b[0m\u001b[0mi\u001b[0m\u001b[0;34m]\u001b[0m\u001b[0;34m\u001b[0m\u001b[0;34m\u001b[0m\u001b[0m\n\u001b[1;32m     31\u001b[0m         \u001b[0;32mfor\u001b[0m \u001b[0mj\u001b[0m \u001b[0;32min\u001b[0m \u001b[0mrange\u001b[0m\u001b[0;34m(\u001b[0m\u001b[0mp\u001b[0m\u001b[0;34m)\u001b[0m\u001b[0;34m:\u001b[0m\u001b[0;34m\u001b[0m\u001b[0;34m\u001b[0m\u001b[0m\n\u001b[0;32m---> 32\u001b[0;31m             \u001b[0mb\u001b[0m\u001b[0;34m[\u001b[0m\u001b[0mi\u001b[0m\u001b[0;34m]\u001b[0m\u001b[0;34m[\u001b[0m\u001b[0mj\u001b[0m\u001b[0;34m]\u001b[0m \u001b[0;34m*=\u001b[0m \u001b[0mt\u001b[0m\u001b[0;34m\u001b[0m\u001b[0;34m\u001b[0m\u001b[0m\n\u001b[0m\u001b[1;32m     33\u001b[0m     \u001b[0;32mreturn\u001b[0m \u001b[0mdet\u001b[0m\u001b[0;34m,\u001b[0m \u001b[0mb\u001b[0m\u001b[0;34m\u001b[0m\u001b[0;34m\u001b[0m\u001b[0m\n",
            "\u001b[0;31mValueError\u001b[0m: cannot convert float NaN to integer"
          ]
        }
      ]
    },
    {
      "cell_type": "markdown",
      "metadata": {
        "id": "RyrBIImeWvcy",
        "colab_type": "text"
      },
      "source": [
        "Since function does not work properly, I tried to construct upper triangle firstly."
      ]
    },
    {
      "cell_type": "markdown",
      "metadata": {
        "id": "4TEVofg0vVKe",
        "colab_type": "text"
      },
      "source": [
        "### Way one : Construct upper triangle"
      ]
    },
    {
      "cell_type": "code",
      "metadata": {
        "id": "rSqt8nArveJx",
        "colab_type": "code",
        "colab": {}
      },
      "source": [
        "def gauss(A):\n",
        "  \n",
        "    m = len(A)\n",
        "    n = m + 1\n",
        "    \n",
        "    for k in range(m):\n",
        "        pivots = [abs(A[i][k]) for i in range(k, m)]\n",
        "        i_max = pivots.index(max(pivots)) + k\n",
        "        \n",
        "        # Check for singular matrix\n",
        "        assert A[i_max][k] != 0, \"Matrix is singular!\"\n",
        "        \n",
        "        # Swap rows\n",
        "        A[k], A[i_max] = A[i_max], A[k]\n",
        "\n",
        "        \n",
        "        for i in range(k + 1, m):\n",
        "            f = A[i][k] / A[k][k]\n",
        "            for j in range(k + 1, n):\n",
        "                A[i][j] -= A[k][j] * f\n",
        "\n",
        "            # Fill lower triangular matrix with zeros:\n",
        "            A[i][k] = 0\n",
        "    \n",
        "    # Solve equation Ax=b for an upper triangular matrix A         \n",
        "    x = []\n",
        "    for i in range(m - 1, -1, -1):\n",
        "        x.insert(0, A[i][m] / A[i][i])\n",
        "        for k in range(i - 1, -1, -1):\n",
        "            A[k][m] -= A[k][i] * x[0]\n",
        "    return x"
      ],
      "execution_count": 0,
      "outputs": []
    },
    {
      "cell_type": "code",
      "metadata": {
        "id": "OXKjRjIHyG2U",
        "colab_type": "code",
        "colab": {}
      },
      "source": [
        "def my_eli(m):\n",
        "\n",
        "\tdim = m.shape[0]\n",
        "\tE = np.mat(np.eye(dim))\n",
        "\tL = np.mat(np.eye(dim))\n",
        "\tU = m.copy()\n",
        "\tfor i in range(dim):\n",
        "  \n",
        "\t\tL[i+1:,i] = U[i+1:,i] / U[i,i]\n",
        "\t\tE[i+1:,:] = E[i+1:,:] - L[i+1:,i]*E[i,:]\n",
        "\t\tU[i+1:,:] = U[i+1:,:] - L[i+1:,i]*U[i,:]\n",
        " \n",
        " \n",
        "\tprint(\"L= \\n\",L)\n",
        "\tprint(\"U= \\n\",U)\n",
        "\tprint(\"Then there is:\")\n",
        "\tprint(\"E= \\n\",E)\n",
        "  "
      ],
      "execution_count": 0,
      "outputs": []
    },
    {
      "cell_type": "code",
      "metadata": {
        "id": "V4lC0I2LykdI",
        "colab_type": "code",
        "outputId": "ad423d81-712c-4713-86ad-62d304b25232",
        "colab": {
          "base_uri": "https://localhost:8080/",
          "height": 243
        }
      },
      "source": [
        "#convert format into matrix\n",
        "#array does not work properly\n",
        "my_eli(np.mat(M))"
      ],
      "execution_count": 290,
      "outputs": [
        {
          "output_type": "stream",
          "text": [
            "L= \n",
            " [[ 1.          0.          0.        ]\n",
            " [ 2.5         1.          0.        ]\n",
            " [ 0.5        -0.16666667  1.        ]]\n",
            "U= \n",
            " [[ 2  6  2]\n",
            " [ 0 -6 -5]\n",
            " [ 0  0  0]]\n",
            "Then there is:\n",
            "E= \n",
            " [[ 1.          0.          0.        ]\n",
            " [-2.5         1.          0.        ]\n",
            " [-0.91666667  0.16666667  1.        ]]\n"
          ],
          "name": "stdout"
        }
      ]
    },
    {
      "cell_type": "markdown",
      "metadata": {
        "id": "rk0crNK1zEhj",
        "colab_type": "text"
      },
      "source": [
        "After we have upper triangle, wethen can do back substitution."
      ]
    },
    {
      "cell_type": "code",
      "metadata": {
        "id": "fVfifjP398pX",
        "colab_type": "code",
        "colab": {}
      },
      "source": [
        "#incomplete function\n",
        "def back_substitution(A: np.ndarray, b: np.ndarray) -> np.ndarray:\n",
        "    \"\"\"\n",
        "    Returns the string and use back_substitution\n",
        "    \"\"\"\n",
        "    n = b.size\n",
        "    #construct array with all zeros\n",
        "    x = np.zeros_like(b)\n",
        "\n",
        "\n",
        "    x[n-1] = b[n-1]/A[n-1, n-1]\n",
        "    C = np.zeros((n,n))\n",
        "    for i in range(n-2, -1, -1):\n",
        "        bb = 0\n",
        "        for j in range (i+1, n):\n",
        "            bb += A[i, j]*x[j]\n",
        "\n",
        "        C[i, i] = b[i] - bb\n",
        "        x[i] = C[i, i]/A[i, i]\n",
        "\n",
        "    return x"
      ],
      "execution_count": 0,
      "outputs": []
    },
    {
      "cell_type": "code",
      "metadata": {
        "id": "M3wwtdFMCUgS",
        "colab_type": "code",
        "outputId": "6983090b-e09b-456b-ad84-33014174e3d9",
        "colab": {
          "base_uri": "https://localhost:8080/",
          "height": 174
        }
      },
      "source": [
        "back_substitution(E)"
      ],
      "execution_count": 0,
      "outputs": [
        {
          "output_type": "error",
          "ename": "NameError",
          "evalue": "ignored",
          "traceback": [
            "\u001b[0;31m---------------------------------------------------------------------------\u001b[0m",
            "\u001b[0;31mNameError\u001b[0m                                 Traceback (most recent call last)",
            "\u001b[0;32m<ipython-input-263-9b942c1ef123>\u001b[0m in \u001b[0;36m<module>\u001b[0;34m()\u001b[0m\n\u001b[0;32m----> 1\u001b[0;31m \u001b[0mback_substitution\u001b[0m\u001b[0;34m(\u001b[0m\u001b[0mE\u001b[0m\u001b[0;34m)\u001b[0m\u001b[0;34m\u001b[0m\u001b[0;34m\u001b[0m\u001b[0m\n\u001b[0m",
            "\u001b[0;31mNameError\u001b[0m: name 'E' is not defined"
          ]
        }
      ]
    },
    {
      "cell_type": "markdown",
      "metadata": {
        "colab_type": "text",
        "id": "Zy8W7Q-LzIii"
      },
      "source": [
        "### Way two :  apply the Gauss Jordan elimination procedures\n"
      ]
    },
    {
      "cell_type": "markdown",
      "metadata": {
        "id": "mzT-OSmQ2U6n",
        "colab_type": "text"
      },
      "source": [
        "Now we can start the Gauss Jordan process, firstly we make aumented matrix."
      ]
    },
    {
      "cell_type": "code",
      "metadata": {
        "id": "TjAS7pdb39ZH",
        "colab_type": "code",
        "outputId": "e391a42c-d2bf-46d8-fe08-632386ee35a4",
        "colab": {
          "base_uri": "https://localhost:8080/",
          "height": 69
        }
      },
      "source": [
        "#test matrix\n",
        "N = np.array([[2,3,3],[3,-1,2],[1,4,2]])\n",
        "b_part2=np.array([[1],[-1],[2]])\n",
        "#make aumented matrix\n",
        "part2_ex2=np.column_stack((N, b_part2))\n",
        "part2_ex2=np.asfarray(part2_ex2,float)\n",
        "part2_ex2"
      ],
      "execution_count": 292,
      "outputs": [
        {
          "output_type": "execute_result",
          "data": {
            "text/plain": [
              "array([[ 2.,  3.,  3.,  1.],\n",
              "       [ 3., -1.,  2., -1.],\n",
              "       [ 1.,  4.,  2.,  2.]])"
            ]
          },
          "metadata": {
            "tags": []
          },
          "execution_count": 292
        }
      ]
    },
    {
      "cell_type": "code",
      "metadata": {
        "id": "2cw1_K9G5Pnk",
        "colab_type": "code",
        "outputId": "50811934-b4d9-45e7-dfa0-03cd930558ef",
        "colab": {
          "base_uri": "https://localhost:8080/",
          "height": 300
        }
      },
      "source": [
        "gauss(part2_ex2)"
      ],
      "execution_count": 0,
      "outputs": [
        {
          "output_type": "error",
          "ename": "AssertionError",
          "evalue": "ignored",
          "traceback": [
            "\u001b[0;31m---------------------------------------------------------------------------\u001b[0m",
            "\u001b[0;31mAssertionError\u001b[0m                            Traceback (most recent call last)",
            "\u001b[0;32m<ipython-input-265-6fd11e2a1a14>\u001b[0m in \u001b[0;36m<module>\u001b[0;34m()\u001b[0m\n\u001b[0;32m----> 1\u001b[0;31m \u001b[0mgauss\u001b[0m\u001b[0;34m(\u001b[0m\u001b[0mpart2_ex2\u001b[0m\u001b[0;34m)\u001b[0m\u001b[0;34m\u001b[0m\u001b[0;34m\u001b[0m\u001b[0m\n\u001b[0m",
            "\u001b[0;32m<ipython-input-259-5f33d2e8a9cc>\u001b[0m in \u001b[0;36mgauss\u001b[0;34m(A)\u001b[0m\n\u001b[1;32m      9\u001b[0m \u001b[0;34m\u001b[0m\u001b[0m\n\u001b[1;32m     10\u001b[0m         \u001b[0;31m# Check for singular matrix\u001b[0m\u001b[0;34m\u001b[0m\u001b[0;34m\u001b[0m\u001b[0;34m\u001b[0m\u001b[0m\n\u001b[0;32m---> 11\u001b[0;31m         \u001b[0;32massert\u001b[0m \u001b[0mA\u001b[0m\u001b[0;34m[\u001b[0m\u001b[0mi_max\u001b[0m\u001b[0;34m]\u001b[0m\u001b[0;34m[\u001b[0m\u001b[0mk\u001b[0m\u001b[0;34m]\u001b[0m \u001b[0;34m!=\u001b[0m \u001b[0;36m0\u001b[0m\u001b[0;34m,\u001b[0m \u001b[0;34m\"Matrix is singular!\"\u001b[0m\u001b[0;34m\u001b[0m\u001b[0;34m\u001b[0m\u001b[0m\n\u001b[0m\u001b[1;32m     12\u001b[0m \u001b[0;34m\u001b[0m\u001b[0m\n\u001b[1;32m     13\u001b[0m         \u001b[0;31m# Swap rows\u001b[0m\u001b[0;34m\u001b[0m\u001b[0;34m\u001b[0m\u001b[0;34m\u001b[0m\u001b[0m\n",
            "\u001b[0;31mAssertionError\u001b[0m: Matrix is singular!"
          ]
        }
      ]
    },
    {
      "cell_type": "markdown",
      "metadata": {
        "id": "vKvivhQDp0-H",
        "colab_type": "text"
      },
      "source": [
        "Now, we should get the same answer from part one"
      ]
    },
    {
      "cell_type": "code",
      "metadata": {
        "id": "cT-s4HiMq2Uc",
        "colab_type": "code",
        "outputId": "5090c82a-ba38-4a2b-e7ca-12b0f91c7010",
        "colab": {
          "base_uri": "https://localhost:8080/",
          "height": 138
        }
      },
      "source": [
        "#gauss jordan\n",
        "\n",
        "\n",
        "def gaussjordan(M):\n",
        "  \"\"\"\n",
        "  create function to do jordan\n",
        "  \"\"\"\n",
        "# make zero for storing augmented matrix\n",
        "a = np.zeros((n,n+1))\n",
        "\n",
        "\n",
        "x = np.zeros(n)\n",
        "\n",
        "  for i in range(n):        \n",
        "      for j in range(n):\n",
        "          if i != j:\n",
        "              ratio = a[j][i]/a[i][i]\n",
        "              for k in range(n+1):\n",
        "                  a[j][k] = a[j][k] - ratio * a[i][k]\n",
        " #have n't down yet"
      ],
      "execution_count": 0,
      "outputs": [
        {
          "output_type": "error",
          "ename": "IndentationError",
          "evalue": "ignored",
          "traceback": [
            "\u001b[0;36m  File \u001b[0;32m\"<ipython-input-266-63b5c7ed51de>\"\u001b[0;36m, line \u001b[0;32m13\u001b[0m\n\u001b[0;31m    for i in range(n):\u001b[0m\n\u001b[0m    ^\u001b[0m\n\u001b[0;31mIndentationError\u001b[0m\u001b[0;31m:\u001b[0m unexpected indent\n"
          ]
        }
      ]
    },
    {
      "cell_type": "markdown",
      "metadata": {
        "id": "fyypXKjE1W20",
        "colab_type": "text"
      },
      "source": [
        "I did not get part 2 work correctly, \n",
        "but since it is chosen as answer from part1, for rref I should get an identity along with answer from part1."
      ]
    },
    {
      "cell_type": "markdown",
      "metadata": {
        "id": "jobG2p9pw4O7",
        "colab_type": "text"
      },
      "source": [
        "## Part 3: Functions of matrices"
      ]
    },
    {
      "cell_type": "markdown",
      "metadata": {
        "id": "nHJeWqi0w8l2",
        "colab_type": "text"
      },
      "source": [
        "Way 1: By proof\n",
        "\n",
        "Let A matrix be be $$A_{n*k}$$, then $$A^T =A_{k*n}$$\n",
        "\n",
        "$$A^T * A$$ will give a matrix of k by k \n",
        "\n",
        "On the right hand, $$A * A^T $$ will give a matrix of n by n.\n",
        "\n",
        "In general, regardless of the the actual value of the matrix, as far as $$n \\neq k $$ , the result of $$A * A^T \\neq A^T *A $$ \n",
        "Simply example, (simply let n=2,k=3) we can easily see a 2by2 matrix does not equal to three by three matrix.\n",
        "\n",
        "when n=k, it is also not hard to prove"
      ]
    },
    {
      "cell_type": "markdown",
      "metadata": {
        "id": "1-DtFnDCTkO_",
        "colab_type": "text"
      },
      "source": [
        "Way 2: set up a system when n=k (for a squared matrix)"
      ]
    },
    {
      "cell_type": "markdown",
      "metadata": {
        "id": "Kaqtr3IbxXob",
        "colab_type": "text"
      },
      "source": [
        "For simple calculation, I choose 2 by 2 matrix.\n",
        "\n",
        "Let   $$A = \\left[ \\begin{array}{rrr}  a & b \\\\\n",
        "                     c &d     \\end{array}  \\right]$$\n",
        "                     then\n",
        "                     \n",
        " $$A^T = \\left[ \\begin{array}{rrr}  a & c \\\\\n",
        "                     b &d     \\end{array}  \\right]$$"
      ]
    },
    {
      "cell_type": "code",
      "metadata": {
        "id": "pZU0WT--wXab",
        "colab_type": "code",
        "outputId": "ea3c0b63-9249-44cd-cf50-d89902255da0",
        "colab": {
          "base_uri": "https://localhost:8080/",
          "height": 89
        }
      },
      "source": [
        "#for special symbol\n",
        "A = np.array([[abc.a,abc.b],[abc.c,abc.d]])\n",
        "#left side\n",
        "A_left= np.dot(A,A.T)\n",
        "#right side\n",
        "A_right=np.dot(A.T,A)\n",
        "print(\"left side is\",A_left)\n",
        "print(\"right side is\",A_right)"
      ],
      "execution_count": 0,
      "outputs": [
        {
          "output_type": "stream",
          "text": [
            "left side is [[a**2 + b**2 a*c + b*d]\n",
            " [a*c + b*d c**2 + d**2]]\n",
            "right side is [[a**2 + c**2 a*b + c*d]\n",
            " [a*b + c*d b**2 + d**2]]\n"
          ],
          "name": "stdout"
        }
      ]
    },
    {
      "cell_type": "markdown",
      "metadata": {
        "id": "LYi73842yx40",
        "colab_type": "text"
      },
      "source": [
        "After clearing up the terms, we can see that only when $$a*c+b*d c^2 = a*b +c*d b^2$$"
      ]
    },
    {
      "cell_type": "markdown",
      "metadata": {
        "id": "tobm-Xqk114L",
        "colab_type": "text"
      },
      "source": [
        "Therefore, in general, this can not hold true. "
      ]
    },
    {
      "cell_type": "markdown",
      "metadata": {
        "id": "CC9MYLWZ_XWP",
        "colab_type": "text"
      },
      "source": [
        "### Under what conditions could this be true?"
      ]
    },
    {
      "cell_type": "markdown",
      "metadata": {
        "id": "UzEWUcSQ_cDn",
        "colab_type": "text"
      },
      "source": [
        "As it mentioned identity matrix will definitely work. technically when b=c, every matrix will also work for this 2 by 2 matrix. Then matrix should have the pattern as follows"
      ]
    },
    {
      "cell_type": "markdown",
      "metadata": {
        "id": "-d5YmuP80EPq",
        "colab_type": "text"
      },
      "source": [
        "$$A = \\left[ \\begin{array}{rrr}  a & b \\\\\n",
        "                     b &d     \\end{array}  \\right]$$"
      ]
    },
    {
      "cell_type": "markdown",
      "metadata": {
        "id": "sRN_rIFsw-UL",
        "colab_type": "text"
      },
      "source": [
        "## Part 4: Matrix factorization"
      ]
    },
    {
      "cell_type": "markdown",
      "metadata": {
        "id": "K1vGnAmKlIo8",
        "colab_type": "text"
      },
      "source": [
        "Now, we can do LU factorization"
      ]
    },
    {
      "cell_type": "code",
      "metadata": {
        "id": "x-Zj1vVe9DfX",
        "colab_type": "code",
        "colab": {}
      },
      "source": [
        "#This method do not need to change data type\n",
        "def my_LUdec(B):\n",
        "    \"\"\"\n",
        "    Returns the string and slove using elimination\n",
        "    \"\"\"\n",
        "    A = np.array(B)\n",
        "    n = len(A)\n",
        "    #print(A)\n",
        "    \n",
        "    #firstly make L,U all in zero,it follows the pattern and it can also make operation faster\n",
        "    L = np.zeros(shape=(n,n))\n",
        "    U = np.zeros(shape=(n,n))\n",
        "    \n",
        " #Based on expanded form to create function \n",
        "    for k in range(n-1):\n",
        "        gauss_vector = A[:,k]\n",
        "        gauss_vector[k+1:] = gauss_vector[k+1:] / gauss_vector[k]\n",
        "        gauss_vector[0:k+1] = np.zeros(k+1)\n",
        "        L[:,k] = gauss_vector\n",
        "        L[k][k] = 1.0\n",
        "        #print(L)\n",
        "        #print(A)\n",
        "        for l in range(k+1,n):\n",
        "            B[l,:] = B[l,:] - gauss_vector[l] * B[k,:]\n",
        "            \n",
        "        A = np.array(B)\n",
        "    L[k+1][k+1] = 1.0\n",
        "    U = A\n",
        "    print(\"U is : \\n\",U)\n",
        "    print(\"L is : \\n\",L)\n",
        "\n",
        "\n",
        " \n"
      ],
      "execution_count": 0,
      "outputs": []
    },
    {
      "cell_type": "code",
      "metadata": {
        "id": "WVDgulIalgXU",
        "colab_type": "code",
        "outputId": "d9caff24-9825-4dcf-f6c3-486bce43bb39",
        "colab": {
          "base_uri": "https://localhost:8080/",
          "height": 156
        }
      },
      "source": [
        "# test example\n",
        "M = np.array([[2,6,2],[5,9,0],[1,4,2]])\n",
        "\n",
        "my_LUdec(M)\n",
        "        "
      ],
      "execution_count": 294,
      "outputs": [
        {
          "output_type": "stream",
          "text": [
            "U is : \n",
            " [[ 2  6  2]\n",
            " [ 1 -3 -4]\n",
            " [ 2  1 -2]]\n",
            "L is : \n",
            " [[ 1.  0.  0.]\n",
            " [ 2.  1.  0.]\n",
            " [ 0. -1.  1.]]\n"
          ],
          "name": "stdout"
        }
      ]
    },
    {
      "cell_type": "markdown",
      "metadata": {
        "colab_type": "text",
        "id": "0p8WwGeP4gf0"
      },
      "source": [
        "Test ansswer with built-in function"
      ]
    },
    {
      "cell_type": "code",
      "metadata": {
        "id": "P6r7i9DwPHXZ",
        "colab_type": "code",
        "outputId": "ef7839b2-9fbe-42ea-ec18-92302d0f12ad",
        "colab": {
          "base_uri": "https://localhost:8080/",
          "height": 209
        }
      },
      "source": [
        "#built in function\n",
        "\n",
        "P, L, U = la.lu(M)\n",
        "\n",
        "\n",
        "print(np.dot(L, U))\n",
        "\n",
        "print(\"L is \\n\",L)\n",
        "print(\"U is \\n\",U)"
      ],
      "execution_count": 295,
      "outputs": [
        {
          "output_type": "stream",
          "text": [
            "[[ 2.  6.  2.]\n",
            " [ 1. -3. -4.]\n",
            " [ 2.  1. -2.]]\n",
            "L is \n",
            " [[1.         0.         0.        ]\n",
            " [0.5        1.         0.        ]\n",
            " [1.         0.83333333 1.        ]]\n",
            "U is \n",
            " [[ 2.          6.          2.        ]\n",
            " [ 0.         -6.         -5.        ]\n",
            " [ 0.          0.          0.16666667]]\n"
          ],
          "name": "stdout"
        }
      ]
    },
    {
      "cell_type": "markdown",
      "metadata": {
        "id": "n7960dElxA1x",
        "colab_type": "text"
      },
      "source": [
        "## Part 5: Build your own function to solve a determinant for any matrix"
      ]
    },
    {
      "cell_type": "markdown",
      "metadata": {
        "id": "e--Vm4Lalz9M",
        "colab_type": "text"
      },
      "source": [
        "Now, it is the time to build determinant function."
      ]
    },
    {
      "cell_type": "code",
      "metadata": {
        "id": "rwiTO2zjdJfl",
        "colab_type": "code",
        "outputId": "e2fa15cf-1d1c-49a1-feaf-809225d26c97",
        "colab": {
          "base_uri": "https://localhost:8080/",
          "height": 35
        }
      },
      "source": [
        "# Defines a function to compute matrix\n",
        "\n",
        "def mydetfunc(matrix, mul): \n",
        "  \"\"\"\n",
        "  Returns the string of determinant of matrix based on given matrix and mul\n",
        "  \"\"\"\n",
        "  #determine row and column of matrix\n",
        "  width = len(matrix)\n",
        "  #for only one matrix, answer is easy\n",
        "  if width == 1:\n",
        "    return mul * matrix[0][0]\n",
        "  else:\n",
        "    sign = -1\n",
        "    sum = 0\n",
        "    for i in range(width):\n",
        "        m = []\n",
        "        for j in range(1, width):\n",
        "            buff = []\n",
        "            for k in range(width):\n",
        "                if k != i:\n",
        "                    buff.append(matrix[j][k])\n",
        "            m.append(buff)\n",
        "        #change the sign of term,basically a big determinant can be treated as sum of smaller ones.\n",
        "        #one importance is to decide right sign\n",
        "        sign *= -1\n",
        "        sum += mul * mydetfunc(m, sign * matrix[0][i])\n",
        "    return sum\n",
        "#test matrix\n",
        "test_matrix = np.array([[2,8,-5],[3,-6,4],[1,2,-1]])\n",
        "\n",
        "\n",
        "mydetfunc(test_matrix, 1)"
      ],
      "execution_count": 0,
      "outputs": [
        {
          "output_type": "execute_result",
          "data": {
            "text/plain": [
              "-8"
            ]
          },
          "metadata": {
            "tags": []
          },
          "execution_count": 271
        }
      ]
    },
    {
      "cell_type": "markdown",
      "metadata": {
        "id": "Rs1-Vg2INE8-",
        "colab_type": "text"
      },
      "source": [
        "Then we start to test case."
      ]
    },
    {
      "cell_type": "markdown",
      "metadata": {
        "id": "84RhkUKo-V0W",
        "colab_type": "text"
      },
      "source": [
        "For testing purpose, the setup testing matrix are showed as follows:\n"
      ]
    },
    {
      "cell_type": "markdown",
      "metadata": {
        "id": "4a117sdg_5cP",
        "colab_type": "text"
      },
      "source": [
        "\n",
        "  $$A = \\left[ \\begin{array}{rrr}  4  &  5  \\\\\n",
        "                     -2 &  7  \\\\\n",
        "       \\end{array}  \\right]$$\n",
        "\n",
        "   $$B = \\left[ \\begin{array}{rrr}  2 &  8 & -5  \\\\\n",
        "                   3 & -6 &  4  \\\\\n",
        "                   1 &  2 & -1  \\end{array}  \\right]$$\n",
        "    $$C = \\left[ \\begin{array}{rrr}  2 &  8 & -5 &6 \\\\\n",
        "                   3 & -6 &  4 &6 \\\\\n",
        "                   8 & 3 &  4 &1\\\\\n",
        "                   1 &  2 & -1 &2 \\end{array}  \\right]$$\n",
        "                                  "
      ]
    },
    {
      "cell_type": "code",
      "metadata": {
        "id": "ixdQiwVbNQjJ",
        "colab_type": "code",
        "outputId": "117c8e41-375f-4fef-82f6-ae650926f7e6",
        "colab": {
          "base_uri": "https://localhost:8080/",
          "height": 226
        }
      },
      "source": [
        "#test for A\n",
        "A = np.array([[4,-5],[-2,7]])\n",
        "print(\"A:\\n\",A)\n",
        "\n",
        "#test for B\n",
        "B = np.array([[2,8,-5],[3,-6,4],[1,2,-1]])\n",
        "print(\"B:\\n\",B)\n",
        "\n",
        "#test for C\n",
        "C = np.array([[2,8,-5,6],[3,-6,4,6],[8,3,4,1],[1,2,-1,2]])\n",
        "print(\"C:\\n\",C)\n",
        "\n"
      ],
      "execution_count": 296,
      "outputs": [
        {
          "output_type": "stream",
          "text": [
            "A:\n",
            " [[ 4 -5]\n",
            " [-2  7]]\n",
            "B:\n",
            " [[ 2  8 -5]\n",
            " [ 3 -6  4]\n",
            " [ 1  2 -1]]\n",
            "C:\n",
            " [[ 2  8 -5  6]\n",
            " [ 3 -6  4  6]\n",
            " [ 8  3  4  1]\n",
            " [ 1  2 -1  2]]\n"
          ],
          "name": "stdout"
        }
      ]
    },
    {
      "cell_type": "code",
      "metadata": {
        "id": "BuqOkEjGNJyO",
        "colab_type": "code",
        "outputId": "7c7f680e-4fbf-4358-e7ec-23ed2a11df7b",
        "colab": {
          "base_uri": "https://localhost:8080/",
          "height": 121
        }
      },
      "source": [
        "#start with own function\n",
        "\n",
        "\n",
        "det_A=mydetfunc(A,1)\n",
        "print(\"detA:\\n\",det_A_builtin)\n",
        "\n",
        "det_B=mydetfunc(B,1)\n",
        "print(\"detB:\\n\",det_B_builtin)\n",
        "\n",
        "\n",
        "det_C= mydetfunc(C,1)\n",
        "print(\"detC:\\n\",det_C_builtin)"
      ],
      "execution_count": 297,
      "outputs": [
        {
          "output_type": "stream",
          "text": [
            "detA:\n",
            " 17.999999999999996\n",
            "detB:\n",
            " -7.999999999999995\n",
            "detC:\n",
            " -13.999999999999984\n"
          ],
          "name": "stdout"
        }
      ]
    },
    {
      "cell_type": "markdown",
      "metadata": {
        "id": "plp0uqP2NC-x",
        "colab_type": "text"
      },
      "source": [
        "Test ansswer with built-in function"
      ]
    },
    {
      "cell_type": "code",
      "metadata": {
        "id": "d-KzEE4jNHp2",
        "colab_type": "code",
        "outputId": "49a7d29a-c742-406d-87f2-9f2af5e83cdc",
        "colab": {
          "base_uri": "https://localhost:8080/",
          "height": 121
        }
      },
      "source": [
        "# answer with built in function\n",
        "det_A_builtin= np.linalg.det(A)\n",
        "print(\"built in detA:\\n\",det_A_builtin)\n",
        "\n",
        "det_B_builtin= np.linalg.det(B)\n",
        "print(\"built in detB:\\n\",det_B_builtin)\n",
        "\n",
        "\n",
        "\n",
        "det_C_builtin= np.linalg.det(C)\n",
        "print(\"built in detC:\\n\",det_C_builtin)"
      ],
      "execution_count": 298,
      "outputs": [
        {
          "output_type": "stream",
          "text": [
            "built in detA:\n",
            " 17.999999999999996\n",
            "built in detB:\n",
            " -7.999999999999995\n",
            "built in detC:\n",
            " -13.999999999999984\n"
          ],
          "name": "stdout"
        }
      ]
    },
    {
      "cell_type": "markdown",
      "metadata": {
        "id": "DU--yoRxJ0rH",
        "colab_type": "text"
      },
      "source": [
        "By comparing built in function and own function result, I am safe to say it satisfy the requirement."
      ]
    },
    {
      "cell_type": "markdown",
      "metadata": {
        "id": "XelzJGvjxD3B",
        "colab_type": "text"
      },
      "source": [
        "## Part 6: Build your own function from scratch to solve equations via Cramer’s rules."
      ]
    },
    {
      "cell_type": "markdown",
      "metadata": {
        "id": "uvKUk3ybxK0j",
        "colab_type": "text"
      },
      "source": [
        "To make case easier, I still use the matrix A,B and C frrom part five. also I need to introduce a,b,c "
      ]
    },
    {
      "cell_type": "code",
      "metadata": {
        "id": "BuDmwN087_C4",
        "colab_type": "code",
        "colab": {}
      },
      "source": [
        "#we have previous matrix A,B and C which are 2by2, 3by3 and 4by4, now I am adding b term\n",
        "a = np.array([[3],[5]])\n",
        "b = np.array([[2],[3],[1]])\n",
        "c = np.array([[7],[3],[1],[-1]])"
      ],
      "execution_count": 0,
      "outputs": []
    },
    {
      "cell_type": "markdown",
      "metadata": {
        "id": "ihHnzoTpGLee",
        "colab_type": "text"
      },
      "source": [
        "Based on Text book, "
      ]
    },
    {
      "cell_type": "markdown",
      "metadata": {
        "id": "WrpvqQz-Rwgf",
        "colab_type": "text"
      },
      "source": [
        "To make a generalized function, firstly test wwith 4 by 4 matrix. Also, for easier computation, I use the same matrix from part 5."
      ]
    },
    {
      "cell_type": "code",
      "metadata": {
        "id": "mcjkLuTZhkVa",
        "colab_type": "code",
        "colab": {}
      },
      "source": [
        "#hard code\n",
        "# make a 3 by 3 matrix "
      ],
      "execution_count": 0,
      "outputs": []
    },
    {
      "cell_type": "code",
      "metadata": {
        "id": "NY-zpaG3pd0z",
        "colab_type": "code",
        "outputId": "d3306d42-b8ae-440e-eeeb-f8870c854d1d",
        "colab": {
          "base_uri": "https://localhost:8080/",
          "height": 34
        }
      },
      "source": [
        "#using case for 4 by 4 matrix\n",
        "A=np.array([[2,8,-5,6],[3,-6,4,6],[8,3,4,1],[1,2,-1,2]])\n",
        "b=np.array([[7],[3],[1],[-1]])\n",
        "C=np.array([[2,8,-5,6],[3,-6,4,6],[8,3,4,1],[1,2,-1,2]])\n",
        "X=[]\n",
        "for i in range(0,len(b)):\n",
        "    for j in range(0,len(b)):\n",
        "        C[j][i]=b[j]\n",
        "        if i>0:\n",
        "            C[j][i-1]=A[j][i-1]\n",
        "    X.append(round(np.linalg.det(C)/np.linalg.det(A),1))\n",
        " \n",
        "print('x_1=%s'%X[0],'x_2=%s'%X[1],'x_3=%s'%X[2],'x_4=%s'%X[3])"
      ],
      "execution_count": 299,
      "outputs": [
        {
          "output_type": "stream",
          "text": [
            "x_1=110.4 x_2=-85.5 x_3=-145.7 x_4=-43.1\n"
          ],
          "name": "stdout"
        }
      ]
    },
    {
      "cell_type": "markdown",
      "metadata": {
        "id": "WQFuBdsXXWyP",
        "colab_type": "text"
      },
      "source": [
        "Check with Matlab, the answer is true."
      ]
    },
    {
      "cell_type": "markdown",
      "metadata": {
        "id": "bkR4ZSqhRvJW",
        "colab_type": "text"
      },
      "source": [
        "Then I tried to make it generalized case"
      ]
    },
    {
      "cell_type": "markdown",
      "metadata": {
        "id": "MWdFGIZLGOnX",
        "colab_type": "text"
      },
      "source": [
        "Actual code for general rule. I will use matrix inverse for it. "
      ]
    },
    {
      "cell_type": "code",
      "metadata": {
        "id": "6Zyycbs5Po2T",
        "colab_type": "code",
        "colab": {}
      },
      "source": [
        "def func_cramer(m,b):\n",
        "#set up with blank term\n",
        "    m_i = []\n",
        "    for i in range(b.shape[0]):\n",
        "        m_i.append(copy.deepcopy(m))\n",
        "        #fix line issue\n",
        "        m_i[i][:,i] =b\n",
        "        pass\n",
        "    x = []\n",
        "    for i in range(b.shape[0]):\n",
        "      #this is old det, since during the time my determinant does not\n",
        "        x.append(np.linalg.det(m_i[i]) / np.linalg.det(m))\n",
        "    print(x)\n"
      ],
      "execution_count": 0,
      "outputs": []
    },
    {
      "cell_type": "code",
      "metadata": {
        "id": "m41mhImatcQG",
        "colab_type": "code",
        "outputId": "e9c71674-b474-4332-f180-443ce4487e05",
        "colab": {
          "base_uri": "https://localhost:8080/",
          "height": 34
        }
      },
      "source": [
        "m = np.array([[2,8,-5,6],[3,-6,4,6],[8,3,4,1],[1,2,-1,2]])\n",
        "b = np.array([7,3,1,-1])\n",
        "func_cramer(m,b)\n"
      ],
      "execution_count": 301,
      "outputs": [
        {
          "output_type": "stream",
          "text": [
            "[110.4285714285715, -85.50000000000014, -145.71428571428586, -43.0714285714286]\n"
          ],
          "name": "stdout"
        }
      ]
    },
    {
      "cell_type": "markdown",
      "metadata": {
        "id": "7kYwcL0OclmY",
        "colab_type": "text"
      },
      "source": [
        "For some reason, b does not work properly, (transpose not work on this array type)"
      ]
    },
    {
      "cell_type": "markdown",
      "metadata": {
        "id": "yPin0VpuZXZc",
        "colab_type": "text"
      },
      "source": [
        "But we get the same answer. We can try other matrice."
      ]
    },
    {
      "cell_type": "code",
      "metadata": {
        "id": "hufH1IM4c37y",
        "colab_type": "code",
        "outputId": "61885e34-72b5-41ff-c3c8-f1f49588ed47",
        "colab": {
          "base_uri": "https://localhost:8080/",
          "height": 34
        }
      },
      "source": [
        "m = np.array([[2,8,-5],[3,-6,4],[1,2,-1]])\n",
        "#retype the array\n",
        "b = np.array([2,3,1])\n",
        "func_cramer(m,b)"
      ],
      "execution_count": 302,
      "outputs": [
        {
          "output_type": "stream",
          "text": [
            "[1.0, -0.0, -0.0]\n"
          ],
          "name": "stdout"
        }
      ]
    },
    {
      "cell_type": "code",
      "metadata": {
        "id": "2aFDRCiCiYiY",
        "colab_type": "code",
        "outputId": "05f8ab14-4a29-438f-d216-5d87e1bfd961",
        "colab": {
          "base_uri": "https://localhost:8080/",
          "height": 34
        }
      },
      "source": [
        "m = np.array([[4,-5],[-2,7]])\n",
        "b= np.array([3,5])\n",
        "func_cramer(m,b)"
      ],
      "execution_count": 303,
      "outputs": [
        {
          "output_type": "stream",
          "text": [
            "[2.5555555555555562, 1.4444444444444442]\n"
          ],
          "name": "stdout"
        }
      ]
    },
    {
      "cell_type": "markdown",
      "metadata": {
        "id": "ZFrZ4DLFjvAL",
        "colab_type": "text"
      },
      "source": [
        "Since all three answer work, I assumed this is function for general Cramer's rule."
      ]
    },
    {
      "cell_type": "markdown",
      "metadata": {
        "id": "oxBbDgmDdvq8",
        "colab_type": "text"
      },
      "source": [
        "Check with matlab, answers also fits the general rule"
      ]
    },
    {
      "cell_type": "markdown",
      "metadata": {
        "id": "9BRYs7-HMlXY",
        "colab_type": "text"
      },
      "source": [
        "## Reference##\n",
        "For part 2:\n",
        "\n",
        "Matlab back sustitution \n",
        "http://cis.poly.edu/~mleung/CS3734/s03/ch02/backSubstitutionU.htm\n",
        "\n",
        "Matlab \n",
        "https://www.youtube.com/watch?v=juDxSMpzv6c\n",
        "\n",
        "Gauss-Jordan Elimination\n",
        "https://online.stat.psu.edu/statprogram/reviews/matrix-algebra/gauss-jordan-elimination\n",
        "\n",
        "code by C\n",
        "https://www.geeksforgeeks.org/gaussian-elimination/\n",
        "\n",
        "\n",
        "Part4: \n",
        "\n",
        "\n",
        "https://elonen.iki.fi/code/misc-notes/python-gaussj/\n",
        "\n"
      ]
    }
  ]
}